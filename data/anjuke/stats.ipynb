{
 "metadata": {
  "language_info": {
   "codemirror_mode": {
    "name": "ipython",
    "version": 3
   },
   "file_extension": ".py",
   "mimetype": "text/x-python",
   "name": "python",
   "nbconvert_exporter": "python",
   "pygments_lexer": "ipython3",
   "version": "3.8.3-final"
  },
  "orig_nbformat": 2,
  "kernelspec": {
   "name": "Python 3.8.3 64-bit ('wga': conda)",
   "display_name": "Python 3.8.3 64-bit ('wga': conda)",
   "metadata": {
    "interpreter": {
     "hash": "bbb9376a6ea0682b4dcbabd227f83db8b4203598a8e1668d4764fe1448e4da83"
    }
   }
  }
 },
 "nbformat": 4,
 "nbformat_minor": 2,
 "cells": [
  {
   "cell_type": "code",
   "execution_count": 1,
   "metadata": {},
   "outputs": [],
   "source": [
    "import pandas as pd\n",
    "import numpy as np\n",
    "from matplotlib import pyplot as plt\n",
    "from pathlib import Path\n",
    "from tqdm import tqdm\n",
    "import re\n",
    "from sklearn import metrics"
   ]
  },
  {
   "cell_type": "code",
   "execution_count": 2,
   "metadata": {},
   "outputs": [],
   "source": [
    "PROJECT_ROOT_PATH = Path('.').resolve().parent.parent\n",
    "ANJUKE_DATA_PATH = PROJECT_ROOT_PATH/'data/anjuke'\n",
    "RAW_DATA_PATH = PROJECT_ROOT_PATH/'data/raw_data'"
   ]
  },
  {
   "cell_type": "code",
   "execution_count": 3,
   "metadata": {},
   "outputs": [],
   "source": [
    "SUB_DATA_PATHS = [x for x in ANJUKE_DATA_PATH.iterdir() if x.is_dir() and str(x.name).startswith('anjuke')]"
   ]
  },
  {
   "cell_type": "code",
   "execution_count": 4,
   "metadata": {},
   "outputs": [
    {
     "output_type": "execute_result",
     "data": {
      "text/plain": [
       "[PosixPath('/nfs/volume-242-1/weiguoao_i/House-Property-QA/data/anjuke/anjuke_qa_data_bj'),\n",
       " PosixPath('/nfs/volume-242-1/weiguoao_i/House-Property-QA/data/anjuke/anjuke_qa_data_cq'),\n",
       " PosixPath('/nfs/volume-242-1/weiguoao_i/House-Property-QA/data/anjuke/anjuke_qa_data_sh'),\n",
       " PosixPath('/nfs/volume-242-1/weiguoao_i/House-Property-QA/data/anjuke/anjuke_qa_data_sz')]"
      ]
     },
     "metadata": {},
     "execution_count": 4
    }
   ],
   "source": [
    "SUB_DATA_PATHS"
   ]
  },
  {
   "cell_type": "code",
   "execution_count": 5,
   "metadata": {},
   "outputs": [
    {
     "output_type": "execute_result",
     "data": {
      "text/plain": [
       "['bj', 'cq', 'sh', 'sz']"
      ]
     },
     "metadata": {},
     "execution_count": 5
    }
   ],
   "source": [
    "cities = [x.name[-2:] for x in SUB_DATA_PATHS]\n",
    "cities"
   ]
  },
  {
   "cell_type": "code",
   "execution_count": 6,
   "metadata": {},
   "outputs": [],
   "source": [
    "import json"
   ]
  },
  {
   "cell_type": "code",
   "execution_count": 7,
   "metadata": {},
   "outputs": [
    {
     "output_type": "stream",
     "name": "stderr",
     "text": [
      "100%|██████████| 4/4 [00:00<00:00, 29.03it/s]\n"
     ]
    }
   ],
   "source": [
    "city2samples = {}\n",
    "for data_path in tqdm(SUB_DATA_PATHS):\n",
    "    city = data_path.name[-2:]\n",
    "    samples = []\n",
    "    with open(data_path/'part_0.json', 'r') as f:\n",
    "        lines = [x.strip() for x in f.readlines()]\n",
    "    samples.extend(lines)\n",
    "    with open(data_path/'part_1.json', 'r') as f:\n",
    "        lines = [x.strip() for x in f.readlines()]\n",
    "    samples.extend(lines)\n",
    "    \n",
    "    samples = [json.loads(s) for s in samples]\n",
    "    city2samples[city] = samples"
   ]
  },
  {
   "cell_type": "code",
   "execution_count": 8,
   "metadata": {},
   "outputs": [
    {
     "output_type": "execute_result",
     "data": {
      "text/plain": [
       "{'question': '外地人能买二手房吗',\n",
       " 'answers': ['可以，需要有北京社保或北京工作居住证，公司名义全款吧购买',\n",
       "  '外地户口在京购房有一定的条件限制，需要满足最近连续60个月在京社保或者最近连续60个月在京完税证明就可以在京购房，有北京工作居住证的也可以在京购房。也可以以公司名义在京全款购房。',\n",
       "  '可以的，需要有北京五年社保和纳税，有北京工作证也是可以购房的，也可以以公司名义全款购买',\n",
       "  '可以的，需要有北京五年社保和纳税，有北京工作证也是可以购房的，也可以以公司名义全款购买',\n",
       "  '可以购房，需要连续不间断缴纳5年社保或者纳税，有北京工作居住证也可以够房，也可以以公司名义全款购买',\n",
       "  '外地人，需要在北京有连续5年的社保或者纳税哦，或者有北京工作居住证，其次可以 以公司名义全款购买，但一般不建议这种操作，税费比较高',\n",
       "  '可以的，我老家是辽源的 在这边买房了，希望可以帮助你',\n",
       "  '连续缴存社保或纳税60个月，中间没有断缴就可以',\n",
       "  '连续缴存社保或纳税 60个月',\n",
       "  '您好，首先您得连续交满5年的社保或纳税证明，注意是连续的如果中间断档太久肯定是不行的。外地户籍以家庭为单位只能在京购买一套房',\n",
       "  '连续缴纳北京社保60个月',\n",
       "  '您好，外地人若在北京买房，需要有连续5年社保，或五年连续纳税，并在购买房屋是不可断缴。请做参考，祝早日找到心仪的房子。',\n",
       "  '您好，外地户口需要在买房前社保或者纳税连续60个月就能买房，以家庭为单位1套。还有需要了解的请微聊或者致电。',\n",
       "  '连续五年社保或纳税证明就可以',\n",
       "  '只要钱到位 肯定没问题',\n",
       "  '外地户口需要连续缴纳五年社保就可以有购房资质了',\n",
       "  '您好，外地户口社保或交税连续够60个月就可以',\n",
       "  '外地户口 社保或交税连续够60个月就可以 买一套',\n",
       "  '外地户口 社保或交税连续够60个月就可以 买一套',\n",
       "  '连续5年社保可获得购房资格。'],\n",
       " 'url': 'https://beijing.anjuke.com/ask/all/?from=wd_rmwd'}"
      ]
     },
     "metadata": {},
     "execution_count": 8
    }
   ],
   "source": [
    "city2samples['bj'][0]"
   ]
  },
  {
   "cell_type": "code",
   "execution_count": 9,
   "metadata": {},
   "outputs": [
    {
     "output_type": "stream",
     "name": "stderr",
     "text": [
      "100%|██████████| 4/4 [00:00<00:00, 149.71it/s]\n"
     ]
    }
   ],
   "source": [
    "qid = 0\n",
    "df_anjuke = []\n",
    "for city, samples in tqdm(city2samples.items()):\n",
    "    formatted_samples = []\n",
    "\n",
    "    for s in samples:\n",
    "        q1 = s['question']\n",
    "        q2s = s['answers']\n",
    "\n",
    "        for i, q2 in enumerate(q2s):\n",
    "            formatted_samples.append([qid, q1, i, q2, 1, city])\n",
    "        qid += 1\n",
    "    \n",
    "    df_anjuke.extend(formatted_samples)"
   ]
  },
  {
   "cell_type": "code",
   "execution_count": 10,
   "metadata": {},
   "outputs": [],
   "source": [
    "df_anjuke = pd.DataFrame(data=df_anjuke, columns=['id', 'q1', 'id_sub', 'q2', 'label', 'city'])"
   ]
  },
  {
   "cell_type": "code",
   "execution_count": 11,
   "metadata": {},
   "outputs": [
    {
     "output_type": "execute_result",
     "data": {
      "text/plain": [
       "         id                          q1  id_sub  \\\n",
       "0         0                   外地人能买二手房吗       0   \n",
       "1         0                   外地人能买二手房吗       1   \n",
       "2         0                   外地人能买二手房吗       2   \n",
       "3         0                   外地人能买二手房吗       3   \n",
       "4         0                   外地人能买二手房吗       4   \n",
       "...     ...                         ...     ...   \n",
       "37824  5316    【翡翠海岸】 这个小区的房子是单本证还是双本证?       3   \n",
       "37825  5317     【星河世纪大厦】 小区地段如何？升值空间大吗？       0   \n",
       "37826  5318  【鹊山新二村】 两房一厅，1980元这个价钱真实嘛？       0   \n",
       "37827  5319          pC耐力板多少钱一厘或是多少钱一公斤       0   \n",
       "37828  5320          问问各位哪个牌子床上四件套面料软一点       0   \n",
       "\n",
       "                                                      q2  label city  \n",
       "0                           可以，需要有北京社保或北京工作居住证，公司名义全款吧购买      1   bj  \n",
       "1      外地户口在京购房有一定的条件限制，需要满足最近连续60个月在京社保或者最近连续60个月在京完...      1   bj  \n",
       "2            可以的，需要有北京五年社保和纳税，有北京工作证也是可以购房的，也可以以公司名义全款购买      1   bj  \n",
       "3            可以的，需要有北京五年社保和纳税，有北京工作证也是可以购房的，也可以以公司名义全款购买      1   bj  \n",
       "4      可以购房，需要连续不间断缴纳5年社保或者纳税，有北京工作居住证也可以够房，也可以以公司名义全款购买      1   bj  \n",
       "...                                                  ...    ...  ...  \n",
       "37824  您好，高兴为您解答翡翠海岸这个小区只有B栋20楼以下包含20楼是双本证，其他所有的面积都是单...      1   sz  \n",
       "37825                                     小区中心区地段，升值空间不错      1   sz  \n",
       "37826                                     这个价格相对来说，是不真实的      1   sz  \n",
       "37827  耐力板的计价一般来说有两种方式： A，按照表面积的平方价，是指1mm厚底的板材1平方米的价格...      1   sz  \n",
       "37828  富安娜牌子的床上四件套面料软一点。这种牌子的以梭织纯棉，纱织密度越高，品质越好舒适保暖，经久...      1   sz  \n",
       "\n",
       "[37829 rows x 6 columns]"
      ],
      "text/html": "<div>\n<style scoped>\n    .dataframe tbody tr th:only-of-type {\n        vertical-align: middle;\n    }\n\n    .dataframe tbody tr th {\n        vertical-align: top;\n    }\n\n    .dataframe thead th {\n        text-align: right;\n    }\n</style>\n<table border=\"1\" class=\"dataframe\">\n  <thead>\n    <tr style=\"text-align: right;\">\n      <th></th>\n      <th>id</th>\n      <th>q1</th>\n      <th>id_sub</th>\n      <th>q2</th>\n      <th>label</th>\n      <th>city</th>\n    </tr>\n  </thead>\n  <tbody>\n    <tr>\n      <th>0</th>\n      <td>0</td>\n      <td>外地人能买二手房吗</td>\n      <td>0</td>\n      <td>可以，需要有北京社保或北京工作居住证，公司名义全款吧购买</td>\n      <td>1</td>\n      <td>bj</td>\n    </tr>\n    <tr>\n      <th>1</th>\n      <td>0</td>\n      <td>外地人能买二手房吗</td>\n      <td>1</td>\n      <td>外地户口在京购房有一定的条件限制，需要满足最近连续60个月在京社保或者最近连续60个月在京完...</td>\n      <td>1</td>\n      <td>bj</td>\n    </tr>\n    <tr>\n      <th>2</th>\n      <td>0</td>\n      <td>外地人能买二手房吗</td>\n      <td>2</td>\n      <td>可以的，需要有北京五年社保和纳税，有北京工作证也是可以购房的，也可以以公司名义全款购买</td>\n      <td>1</td>\n      <td>bj</td>\n    </tr>\n    <tr>\n      <th>3</th>\n      <td>0</td>\n      <td>外地人能买二手房吗</td>\n      <td>3</td>\n      <td>可以的，需要有北京五年社保和纳税，有北京工作证也是可以购房的，也可以以公司名义全款购买</td>\n      <td>1</td>\n      <td>bj</td>\n    </tr>\n    <tr>\n      <th>4</th>\n      <td>0</td>\n      <td>外地人能买二手房吗</td>\n      <td>4</td>\n      <td>可以购房，需要连续不间断缴纳5年社保或者纳税，有北京工作居住证也可以够房，也可以以公司名义全款购买</td>\n      <td>1</td>\n      <td>bj</td>\n    </tr>\n    <tr>\n      <th>...</th>\n      <td>...</td>\n      <td>...</td>\n      <td>...</td>\n      <td>...</td>\n      <td>...</td>\n      <td>...</td>\n    </tr>\n    <tr>\n      <th>37824</th>\n      <td>5316</td>\n      <td>【翡翠海岸】 这个小区的房子是单本证还是双本证?</td>\n      <td>3</td>\n      <td>您好，高兴为您解答翡翠海岸这个小区只有B栋20楼以下包含20楼是双本证，其他所有的面积都是单...</td>\n      <td>1</td>\n      <td>sz</td>\n    </tr>\n    <tr>\n      <th>37825</th>\n      <td>5317</td>\n      <td>【星河世纪大厦】 小区地段如何？升值空间大吗？</td>\n      <td>0</td>\n      <td>小区中心区地段，升值空间不错</td>\n      <td>1</td>\n      <td>sz</td>\n    </tr>\n    <tr>\n      <th>37826</th>\n      <td>5318</td>\n      <td>【鹊山新二村】 两房一厅，1980元这个价钱真实嘛？</td>\n      <td>0</td>\n      <td>这个价格相对来说，是不真实的</td>\n      <td>1</td>\n      <td>sz</td>\n    </tr>\n    <tr>\n      <th>37827</th>\n      <td>5319</td>\n      <td>pC耐力板多少钱一厘或是多少钱一公斤</td>\n      <td>0</td>\n      <td>耐力板的计价一般来说有两种方式： A，按照表面积的平方价，是指1mm厚底的板材1平方米的价格...</td>\n      <td>1</td>\n      <td>sz</td>\n    </tr>\n    <tr>\n      <th>37828</th>\n      <td>5320</td>\n      <td>问问各位哪个牌子床上四件套面料软一点</td>\n      <td>0</td>\n      <td>富安娜牌子的床上四件套面料软一点。这种牌子的以梭织纯棉，纱织密度越高，品质越好舒适保暖，经久...</td>\n      <td>1</td>\n      <td>sz</td>\n    </tr>\n  </tbody>\n</table>\n<p>37829 rows × 6 columns</p>\n</div>"
     },
     "metadata": {},
     "execution_count": 11
    }
   ],
   "source": [
    "df_anjuke"
   ]
  },
  {
   "cell_type": "code",
   "execution_count": 12,
   "metadata": {},
   "outputs": [],
   "source": [
    "df_anjuke.to_csv(ANJUKE_DATA_PATH/'anjuke_pos.tsv',sep='\\t',index=False, header=None)"
   ]
  },
  {
   "cell_type": "code",
   "execution_count": 13,
   "metadata": {},
   "outputs": [],
   "source": [
    "df_train = pd.read_csv(RAW_DATA_PATH/'train/train.tsv', sep='\\t', header=None, names=['id', 'q1', 'id_sub', 'q2', 'label'])"
   ]
  },
  {
   "cell_type": "code",
   "execution_count": 14,
   "metadata": {},
   "outputs": [
    {
     "output_type": "execute_result",
     "data": {
      "text/plain": [
       "         id              q1  id_sub                           q2  label\n",
       "0         0        采荷一小是分校吧       0  杭州市采荷第一小学钱江苑校区，杭州市钱江新城实验学校。      1\n",
       "1         0        采荷一小是分校吧       1                           是的      0\n",
       "2         0        采荷一小是分校吧       2                         这是5楼      0\n",
       "3         1            毛坯吗？       0                   因为公积金贷款贷的少      0\n",
       "4         1            毛坯吗？       1                           是呢      0\n",
       "...     ...             ...     ...                          ...    ...\n",
       "21580  5998  您好，我正在看尚林家园的房子       1                           有啊      0\n",
       "21581  5998  您好，我正在看尚林家园的房子       2                        我带你看看      0\n",
       "21582  5999     今天可以安排看房子吗？       0                   我约下房东，稍后回你      1\n",
       "21583  5999     今天可以安排看房子吗？       1               可以看，你几点有时间过来呢？      1\n",
       "21584  5999     今天可以安排看房子吗？       2              好的，那咱们在一号门口这碰头？      0\n",
       "\n",
       "[21585 rows x 5 columns]"
      ],
      "text/html": "<div>\n<style scoped>\n    .dataframe tbody tr th:only-of-type {\n        vertical-align: middle;\n    }\n\n    .dataframe tbody tr th {\n        vertical-align: top;\n    }\n\n    .dataframe thead th {\n        text-align: right;\n    }\n</style>\n<table border=\"1\" class=\"dataframe\">\n  <thead>\n    <tr style=\"text-align: right;\">\n      <th></th>\n      <th>id</th>\n      <th>q1</th>\n      <th>id_sub</th>\n      <th>q2</th>\n      <th>label</th>\n    </tr>\n  </thead>\n  <tbody>\n    <tr>\n      <th>0</th>\n      <td>0</td>\n      <td>采荷一小是分校吧</td>\n      <td>0</td>\n      <td>杭州市采荷第一小学钱江苑校区，杭州市钱江新城实验学校。</td>\n      <td>1</td>\n    </tr>\n    <tr>\n      <th>1</th>\n      <td>0</td>\n      <td>采荷一小是分校吧</td>\n      <td>1</td>\n      <td>是的</td>\n      <td>0</td>\n    </tr>\n    <tr>\n      <th>2</th>\n      <td>0</td>\n      <td>采荷一小是分校吧</td>\n      <td>2</td>\n      <td>这是5楼</td>\n      <td>0</td>\n    </tr>\n    <tr>\n      <th>3</th>\n      <td>1</td>\n      <td>毛坯吗？</td>\n      <td>0</td>\n      <td>因为公积金贷款贷的少</td>\n      <td>0</td>\n    </tr>\n    <tr>\n      <th>4</th>\n      <td>1</td>\n      <td>毛坯吗？</td>\n      <td>1</td>\n      <td>是呢</td>\n      <td>0</td>\n    </tr>\n    <tr>\n      <th>...</th>\n      <td>...</td>\n      <td>...</td>\n      <td>...</td>\n      <td>...</td>\n      <td>...</td>\n    </tr>\n    <tr>\n      <th>21580</th>\n      <td>5998</td>\n      <td>您好，我正在看尚林家园的房子</td>\n      <td>1</td>\n      <td>有啊</td>\n      <td>0</td>\n    </tr>\n    <tr>\n      <th>21581</th>\n      <td>5998</td>\n      <td>您好，我正在看尚林家园的房子</td>\n      <td>2</td>\n      <td>我带你看看</td>\n      <td>0</td>\n    </tr>\n    <tr>\n      <th>21582</th>\n      <td>5999</td>\n      <td>今天可以安排看房子吗？</td>\n      <td>0</td>\n      <td>我约下房东，稍后回你</td>\n      <td>1</td>\n    </tr>\n    <tr>\n      <th>21583</th>\n      <td>5999</td>\n      <td>今天可以安排看房子吗？</td>\n      <td>1</td>\n      <td>可以看，你几点有时间过来呢？</td>\n      <td>1</td>\n    </tr>\n    <tr>\n      <th>21584</th>\n      <td>5999</td>\n      <td>今天可以安排看房子吗？</td>\n      <td>2</td>\n      <td>好的，那咱们在一号门口这碰头？</td>\n      <td>0</td>\n    </tr>\n  </tbody>\n</table>\n<p>21585 rows × 5 columns</p>\n</div>"
     },
     "metadata": {},
     "execution_count": 14
    }
   ],
   "source": [
    "df_train"
   ]
  },
  {
   "cell_type": "code",
   "execution_count": 15,
   "metadata": {},
   "outputs": [],
   "source": [
    "def get_overlap_count(a, b):\n",
    "    a = list(a)\n",
    "    b = list(b)\n",
    "    overlap_char = set(a).intersection(b)\n",
    "    return len(overlap_char)"
   ]
  },
  {
   "cell_type": "code",
   "execution_count": 16,
   "metadata": {},
   "outputs": [
    {
     "output_type": "stream",
     "name": "stdout",
     "text": [
      "可以，需要有北京社保或北京工作居住证，公司名义全款吧购买 外地户口在京购房有一定的条件限制，需要满足最近连续60个月在京社保或者最近连续60个月在京完税证明就可以在京购房，有北京工作居住证的也可以在京购房。也可以以公司名义在京全款购房。\n23\n"
     ]
    }
   ],
   "source": [
    "print(df_anjuke['q2'].iloc[0], df_anjuke['q2'].iloc[1])\n",
    "print(get_overlap_count(df_anjuke['q2'].iloc[0], df_anjuke['q2'].iloc[1]))"
   ]
  },
  {
   "source": [
    "df_neg = []\n",
    "for id in tqdm(df_anjuke['id'].unique()):\n",
    "    df_sub = df_anjuke[df_anjuke['id'] == id]\n",
    "    num_pos_samples = df_sub.shape[0]\n",
    "    city = df_sub['city'].unique()[0]\n",
    "    q1 = df_sub['q1'].unique()[0]\n",
    "\n",
    "    # 随机从其他城市的答案中采样负样本，并且保证重叠字符数较低，\n",
    "    # 尽量避免选到和正样本太相似的负样本\n",
    "    neg_cities = list(city2samples.keys())\n",
    "    neg_cities.remove(city)\n",
    "    neg_city = np.random.choice(neg_cities)\n",
    "    \n",
    "    while True:\n",
    "        neg_samples = np.random.choice(city2samples[neg_city], size=num_pos_samples*3, replace=False)\n",
    "        neg_samples = [x['answers'][0] for x in neg_samples]\n",
    "        # 随机从比赛数据集的回答中采样负样本\n",
    "        # neg_samples = np.random.choice(df_train['q2'], size=num_pos_samples*3, replace=False)\n",
    "        \n",
    "        flags = []\n",
    "        for pos in df_sub['q2']:\n",
    "            for neg in neg_samples:\n",
    "                flags.append(get_overlap_count(pos, neg))\n",
    "        flags = np.asarray(flags)\n",
    "        if flags.mean() < 10:    # 比赛数据长度较小，阈值设小为2，从安居客抽取负样本可以设为10\n",
    "            break\n",
    "\n",
    "    id_sub_start = max(df_sub['id_sub']) + 1\n",
    "    for i, q2 in enumerate(neg_samples):\n",
    "        df_neg.append([id, q1, id_sub_start + i, q2, 0, neg_city])\n",
    "        # df_neg.append([id, q1, id_sub_start + i, q2, 0, 'org'])"
   ],
   "cell_type": "code",
   "metadata": {
    "tags": []
   },
   "execution_count": 17,
   "outputs": [
    {
     "output_type": "stream",
     "name": "stderr",
     "text": [
      "100%|██████████| 5321/5321 [00:31<00:00, 166.44it/s]\n"
     ]
    }
   ]
  },
  {
   "cell_type": "code",
   "execution_count": 18,
   "metadata": {},
   "outputs": [],
   "source": [
    "df_neg = pd.DataFrame(data=df_neg, columns=['id', 'q1', 'id_sub', 'q2', 'label', 'city'])"
   ]
  },
  {
   "cell_type": "code",
   "execution_count": 19,
   "metadata": {},
   "outputs": [
    {
     "output_type": "execute_result",
     "data": {
      "text/plain": [
       "   id         q1  id_sub                                                 q2  \\\n",
       "0   0  外地人能买二手房吗      20                             外墙保温首选 a级发泡水泥板，我们就生产这个   \n",
       "1   0  外地人能买二手房吗      21  对的都是民用的水电煤气，第一阶梯电：平0.617元，谷：0.307元，水：3.45元，煤气:...   \n",
       "2   0  外地人能买二手房吗      22                                          大部分都是满五年的   \n",
       "3   0  外地人能买二手房吗      23  比对了很多后，现在的东莞钱锋特殊胶粘制品，导热系数稳定，粘性较一般国内品牌稳定，没发生过位移...   \n",
       "4   0  外地人能买二手房吗      24  你好，可以用玻璃或者金属丝做帘底现在有专用的金属漆可以对暖气时行色彩粉刷，这样可以根据墙体色...   \n",
       "\n",
       "   label city  \n",
       "0      0   sh  \n",
       "1      0   sh  \n",
       "2      0   sh  \n",
       "3      0   sh  \n",
       "4      0   sh  "
      ],
      "text/html": "<div>\n<style scoped>\n    .dataframe tbody tr th:only-of-type {\n        vertical-align: middle;\n    }\n\n    .dataframe tbody tr th {\n        vertical-align: top;\n    }\n\n    .dataframe thead th {\n        text-align: right;\n    }\n</style>\n<table border=\"1\" class=\"dataframe\">\n  <thead>\n    <tr style=\"text-align: right;\">\n      <th></th>\n      <th>id</th>\n      <th>q1</th>\n      <th>id_sub</th>\n      <th>q2</th>\n      <th>label</th>\n      <th>city</th>\n    </tr>\n  </thead>\n  <tbody>\n    <tr>\n      <th>0</th>\n      <td>0</td>\n      <td>外地人能买二手房吗</td>\n      <td>20</td>\n      <td>外墙保温首选 a级发泡水泥板，我们就生产这个</td>\n      <td>0</td>\n      <td>sh</td>\n    </tr>\n    <tr>\n      <th>1</th>\n      <td>0</td>\n      <td>外地人能买二手房吗</td>\n      <td>21</td>\n      <td>对的都是民用的水电煤气，第一阶梯电：平0.617元，谷：0.307元，水：3.45元，煤气:...</td>\n      <td>0</td>\n      <td>sh</td>\n    </tr>\n    <tr>\n      <th>2</th>\n      <td>0</td>\n      <td>外地人能买二手房吗</td>\n      <td>22</td>\n      <td>大部分都是满五年的</td>\n      <td>0</td>\n      <td>sh</td>\n    </tr>\n    <tr>\n      <th>3</th>\n      <td>0</td>\n      <td>外地人能买二手房吗</td>\n      <td>23</td>\n      <td>比对了很多后，现在的东莞钱锋特殊胶粘制品，导热系数稳定，粘性较一般国内品牌稳定，没发生过位移...</td>\n      <td>0</td>\n      <td>sh</td>\n    </tr>\n    <tr>\n      <th>4</th>\n      <td>0</td>\n      <td>外地人能买二手房吗</td>\n      <td>24</td>\n      <td>你好，可以用玻璃或者金属丝做帘底现在有专用的金属漆可以对暖气时行色彩粉刷，这样可以根据墙体色...</td>\n      <td>0</td>\n      <td>sh</td>\n    </tr>\n  </tbody>\n</table>\n</div>"
     },
     "metadata": {},
     "execution_count": 19
    }
   ],
   "source": [
    "df_neg.head()"
   ]
  },
  {
   "cell_type": "code",
   "execution_count": 20,
   "metadata": {},
   "outputs": [],
   "source": [
    "df_anjuke_full = pd.concat([df_anjuke, df_neg]).sort_values(by=['id', 'id_sub'], ignore_index=True)"
   ]
  },
  {
   "cell_type": "code",
   "execution_count": 21,
   "metadata": {},
   "outputs": [
    {
     "output_type": "execute_result",
     "data": {
      "text/plain": [
       "          id                  q1  id_sub  \\\n",
       "0          0           外地人能买二手房吗       0   \n",
       "1          0           外地人能买二手房吗       1   \n",
       "2          0           外地人能买二手房吗       2   \n",
       "3          0           外地人能买二手房吗       3   \n",
       "4          0           外地人能买二手房吗       4   \n",
       "...      ...                 ...     ...   \n",
       "151311  5319  pC耐力板多少钱一厘或是多少钱一公斤       3   \n",
       "151312  5320  问问各位哪个牌子床上四件套面料软一点       0   \n",
       "151313  5320  问问各位哪个牌子床上四件套面料软一点       1   \n",
       "151314  5320  问问各位哪个牌子床上四件套面料软一点       2   \n",
       "151315  5320  问问各位哪个牌子床上四件套面料软一点       3   \n",
       "\n",
       "                                                       q2  label city  \n",
       "0                            可以，需要有北京社保或北京工作居住证，公司名义全款吧购买      1   bj  \n",
       "1       外地户口在京购房有一定的条件限制，需要满足最近连续60个月在京社保或者最近连续60个月在京完...      1   bj  \n",
       "2             可以的，需要有北京五年社保和纳税，有北京工作证也是可以购房的，也可以以公司名义全款购买      1   bj  \n",
       "3             可以的，需要有北京五年社保和纳税，有北京工作证也是可以购房的，也可以以公司名义全款购买      1   bj  \n",
       "4       可以购房，需要连续不间断缴纳5年社保或者纳税，有北京工作居住证也可以够房，也可以以公司名义全款购买      1   bj  \n",
       "...                                                   ...    ...  ...  \n",
       "151311                            因为疫情接房时间稍微延迟，暂时定在22年9月份      0   cq  \n",
       "151312  富安娜牌子的床上四件套面料软一点。这种牌子的以梭织纯棉，纱织密度越高，品质越好舒适保暖，经久...      1   sz  \n",
       "151313                                     私立学校，树人小学和宏帆八中      0   cq  \n",
       "151314                                    你好老师   总价在70万左右      0   cq  \n",
       "151315  鱼缸的水变绿可能是藻类等真菌或者细菌的滋生，建议你还是对鱼缸进行换水，因为如果不换水，即使有...      0   cq  \n",
       "\n",
       "[151316 rows x 6 columns]"
      ],
      "text/html": "<div>\n<style scoped>\n    .dataframe tbody tr th:only-of-type {\n        vertical-align: middle;\n    }\n\n    .dataframe tbody tr th {\n        vertical-align: top;\n    }\n\n    .dataframe thead th {\n        text-align: right;\n    }\n</style>\n<table border=\"1\" class=\"dataframe\">\n  <thead>\n    <tr style=\"text-align: right;\">\n      <th></th>\n      <th>id</th>\n      <th>q1</th>\n      <th>id_sub</th>\n      <th>q2</th>\n      <th>label</th>\n      <th>city</th>\n    </tr>\n  </thead>\n  <tbody>\n    <tr>\n      <th>0</th>\n      <td>0</td>\n      <td>外地人能买二手房吗</td>\n      <td>0</td>\n      <td>可以，需要有北京社保或北京工作居住证，公司名义全款吧购买</td>\n      <td>1</td>\n      <td>bj</td>\n    </tr>\n    <tr>\n      <th>1</th>\n      <td>0</td>\n      <td>外地人能买二手房吗</td>\n      <td>1</td>\n      <td>外地户口在京购房有一定的条件限制，需要满足最近连续60个月在京社保或者最近连续60个月在京完...</td>\n      <td>1</td>\n      <td>bj</td>\n    </tr>\n    <tr>\n      <th>2</th>\n      <td>0</td>\n      <td>外地人能买二手房吗</td>\n      <td>2</td>\n      <td>可以的，需要有北京五年社保和纳税，有北京工作证也是可以购房的，也可以以公司名义全款购买</td>\n      <td>1</td>\n      <td>bj</td>\n    </tr>\n    <tr>\n      <th>3</th>\n      <td>0</td>\n      <td>外地人能买二手房吗</td>\n      <td>3</td>\n      <td>可以的，需要有北京五年社保和纳税，有北京工作证也是可以购房的，也可以以公司名义全款购买</td>\n      <td>1</td>\n      <td>bj</td>\n    </tr>\n    <tr>\n      <th>4</th>\n      <td>0</td>\n      <td>外地人能买二手房吗</td>\n      <td>4</td>\n      <td>可以购房，需要连续不间断缴纳5年社保或者纳税，有北京工作居住证也可以够房，也可以以公司名义全款购买</td>\n      <td>1</td>\n      <td>bj</td>\n    </tr>\n    <tr>\n      <th>...</th>\n      <td>...</td>\n      <td>...</td>\n      <td>...</td>\n      <td>...</td>\n      <td>...</td>\n      <td>...</td>\n    </tr>\n    <tr>\n      <th>151311</th>\n      <td>5319</td>\n      <td>pC耐力板多少钱一厘或是多少钱一公斤</td>\n      <td>3</td>\n      <td>因为疫情接房时间稍微延迟，暂时定在22年9月份</td>\n      <td>0</td>\n      <td>cq</td>\n    </tr>\n    <tr>\n      <th>151312</th>\n      <td>5320</td>\n      <td>问问各位哪个牌子床上四件套面料软一点</td>\n      <td>0</td>\n      <td>富安娜牌子的床上四件套面料软一点。这种牌子的以梭织纯棉，纱织密度越高，品质越好舒适保暖，经久...</td>\n      <td>1</td>\n      <td>sz</td>\n    </tr>\n    <tr>\n      <th>151313</th>\n      <td>5320</td>\n      <td>问问各位哪个牌子床上四件套面料软一点</td>\n      <td>1</td>\n      <td>私立学校，树人小学和宏帆八中</td>\n      <td>0</td>\n      <td>cq</td>\n    </tr>\n    <tr>\n      <th>151314</th>\n      <td>5320</td>\n      <td>问问各位哪个牌子床上四件套面料软一点</td>\n      <td>2</td>\n      <td>你好老师   总价在70万左右</td>\n      <td>0</td>\n      <td>cq</td>\n    </tr>\n    <tr>\n      <th>151315</th>\n      <td>5320</td>\n      <td>问问各位哪个牌子床上四件套面料软一点</td>\n      <td>3</td>\n      <td>鱼缸的水变绿可能是藻类等真菌或者细菌的滋生，建议你还是对鱼缸进行换水，因为如果不换水，即使有...</td>\n      <td>0</td>\n      <td>cq</td>\n    </tr>\n  </tbody>\n</table>\n<p>151316 rows × 6 columns</p>\n</div>"
     },
     "metadata": {},
     "execution_count": 21
    }
   ],
   "source": [
    "df_anjuke_full"
   ]
  },
  {
   "cell_type": "code",
   "execution_count": 22,
   "metadata": {},
   "outputs": [],
   "source": [
    "df_anjuke_full.to_csv(ANJUKE_DATA_PATH/'anjuke_full.tsv',sep='\\t',index=False, header=None)"
   ]
  },
  {
   "cell_type": "code",
   "execution_count": 45,
   "metadata": {},
   "outputs": [
    {
     "output_type": "execute_result",
     "data": {
      "text/plain": [
       "    id         q1  id_sub                                                 q2  \\\n",
       "0    0  外地人能买二手房吗       0                       可以，需要有北京社保或北京工作居住证，公司名义全款吧购买   \n",
       "1    0  外地人能买二手房吗       1  外地户口在京购房有一定的条件限制，需要满足最近连续60个月在京社保或者最近连续60个月在京完...   \n",
       "2    0  外地人能买二手房吗       2        可以的，需要有北京五年社保和纳税，有北京工作证也是可以购房的，也可以以公司名义全款购买   \n",
       "3    0  外地人能买二手房吗       3        可以的，需要有北京五年社保和纳税，有北京工作证也是可以购房的，也可以以公司名义全款购买   \n",
       "4    0  外地人能买二手房吗       4  可以购房，需要连续不间断缴纳5年社保或者纳税，有北京工作居住证也可以够房，也可以以公司名义全款购买   \n",
       "..  ..        ...     ...                                                ...   \n",
       "75   0  外地人能买二手房吗      75                              鸿翔花园是大花园社区，70年产权，民水民电   \n",
       "76   0  外地人能买二手房吗      76                                               差额个稅   \n",
       "77   0  外地人能买二手房吗      77                                 你这边是考虑套三嘛  只要装修了的嘛   \n",
       "78   0  外地人能买二手房吗      78                                              怎么称呼您   \n",
       "79   0  外地人能买二手房吗      79                                             房子您看了吗   \n",
       "\n",
       "    label city  \n",
       "0       1   bj  \n",
       "1       1   bj  \n",
       "2       1   bj  \n",
       "3       1   bj  \n",
       "4       1   bj  \n",
       "..    ...  ...  \n",
       "75      0  org  \n",
       "76      0  org  \n",
       "77      0  org  \n",
       "78      0  org  \n",
       "79      0  org  \n",
       "\n",
       "[80 rows x 6 columns]"
      ],
      "text/html": "<div>\n<style scoped>\n    .dataframe tbody tr th:only-of-type {\n        vertical-align: middle;\n    }\n\n    .dataframe tbody tr th {\n        vertical-align: top;\n    }\n\n    .dataframe thead th {\n        text-align: right;\n    }\n</style>\n<table border=\"1\" class=\"dataframe\">\n  <thead>\n    <tr style=\"text-align: right;\">\n      <th></th>\n      <th>id</th>\n      <th>q1</th>\n      <th>id_sub</th>\n      <th>q2</th>\n      <th>label</th>\n      <th>city</th>\n    </tr>\n  </thead>\n  <tbody>\n    <tr>\n      <th>0</th>\n      <td>0</td>\n      <td>外地人能买二手房吗</td>\n      <td>0</td>\n      <td>可以，需要有北京社保或北京工作居住证，公司名义全款吧购买</td>\n      <td>1</td>\n      <td>bj</td>\n    </tr>\n    <tr>\n      <th>1</th>\n      <td>0</td>\n      <td>外地人能买二手房吗</td>\n      <td>1</td>\n      <td>外地户口在京购房有一定的条件限制，需要满足最近连续60个月在京社保或者最近连续60个月在京完...</td>\n      <td>1</td>\n      <td>bj</td>\n    </tr>\n    <tr>\n      <th>2</th>\n      <td>0</td>\n      <td>外地人能买二手房吗</td>\n      <td>2</td>\n      <td>可以的，需要有北京五年社保和纳税，有北京工作证也是可以购房的，也可以以公司名义全款购买</td>\n      <td>1</td>\n      <td>bj</td>\n    </tr>\n    <tr>\n      <th>3</th>\n      <td>0</td>\n      <td>外地人能买二手房吗</td>\n      <td>3</td>\n      <td>可以的，需要有北京五年社保和纳税，有北京工作证也是可以购房的，也可以以公司名义全款购买</td>\n      <td>1</td>\n      <td>bj</td>\n    </tr>\n    <tr>\n      <th>4</th>\n      <td>0</td>\n      <td>外地人能买二手房吗</td>\n      <td>4</td>\n      <td>可以购房，需要连续不间断缴纳5年社保或者纳税，有北京工作居住证也可以够房，也可以以公司名义全款购买</td>\n      <td>1</td>\n      <td>bj</td>\n    </tr>\n    <tr>\n      <th>...</th>\n      <td>...</td>\n      <td>...</td>\n      <td>...</td>\n      <td>...</td>\n      <td>...</td>\n      <td>...</td>\n    </tr>\n    <tr>\n      <th>75</th>\n      <td>0</td>\n      <td>外地人能买二手房吗</td>\n      <td>75</td>\n      <td>鸿翔花园是大花园社区，70年产权，民水民电</td>\n      <td>0</td>\n      <td>org</td>\n    </tr>\n    <tr>\n      <th>76</th>\n      <td>0</td>\n      <td>外地人能买二手房吗</td>\n      <td>76</td>\n      <td>差额个稅</td>\n      <td>0</td>\n      <td>org</td>\n    </tr>\n    <tr>\n      <th>77</th>\n      <td>0</td>\n      <td>外地人能买二手房吗</td>\n      <td>77</td>\n      <td>你这边是考虑套三嘛  只要装修了的嘛</td>\n      <td>0</td>\n      <td>org</td>\n    </tr>\n    <tr>\n      <th>78</th>\n      <td>0</td>\n      <td>外地人能买二手房吗</td>\n      <td>78</td>\n      <td>怎么称呼您</td>\n      <td>0</td>\n      <td>org</td>\n    </tr>\n    <tr>\n      <th>79</th>\n      <td>0</td>\n      <td>外地人能买二手房吗</td>\n      <td>79</td>\n      <td>房子您看了吗</td>\n      <td>0</td>\n      <td>org</td>\n    </tr>\n  </tbody>\n</table>\n<p>80 rows × 6 columns</p>\n</div>"
     },
     "metadata": {},
     "execution_count": 45
    }
   ],
   "source": [
    "df_anjuke_full[df_anjuke_full['id'] == 0]"
   ]
  },
  {
   "cell_type": "code",
   "execution_count": 46,
   "metadata": {},
   "outputs": [
    {
     "output_type": "stream",
     "name": "stdout",
     "text": [
      "训练集问题数量：4999，答案数量：151316\n"
     ]
    }
   ],
   "source": [
    "print(f'训练集问题数量：{len(df_anjuke_full[\"q1\"].unique())}，答案数量：{len(df_anjuke_full)}')"
   ]
  },
  {
   "cell_type": "code",
   "execution_count": 51,
   "metadata": {},
   "outputs": [
    {
     "output_type": "stream",
     "name": "stdout",
     "text": [
      "113487\n37829\n"
     ]
    }
   ],
   "source": [
    "print(len(df_anjuke_full[df_anjuke_full['label'] == 0]))\n",
    "print(len(df_anjuke_full[df_anjuke_full['label'] == 1]))"
   ]
  },
  {
   "cell_type": "code",
   "execution_count": 47,
   "metadata": {},
   "outputs": [],
   "source": [
    "q_length = df_anjuke_full[\"q1\"].drop_duplicates().apply(func=lambda x: len(x)).sort_values()\n",
    "a_length = df_anjuke_full[\"q2\"].apply(func=lambda x: len(str(x))).sort_values()"
   ]
  },
  {
   "cell_type": "code",
   "execution_count": 48,
   "metadata": {},
   "outputs": [
    {
     "output_type": "stream",
     "name": "stdout",
     "text": [
      "问题和回答的长度分布：\n"
     ]
    },
    {
     "output_type": "display_data",
     "data": {
      "text/plain": "<Figure size 432x288 with 2 Axes>",
      "image/svg+xml": "<?xml version=\"1.0\" encoding=\"utf-8\" standalone=\"no\"?>\n<!DOCTYPE svg PUBLIC \"-//W3C//DTD SVG 1.1//EN\"\n  \"http://www.w3.org/Graphics/SVG/1.1/DTD/svg11.dtd\">\n<!-- Created with matplotlib (https://matplotlib.org/) -->\n<svg height=\"248.518125pt\" version=\"1.1\" viewBox=\"0 0 372.103125 248.518125\" width=\"372.103125pt\" xmlns=\"http://www.w3.org/2000/svg\" xmlns:xlink=\"http://www.w3.org/1999/xlink\">\n <defs>\n  <style type=\"text/css\">\n*{stroke-linecap:butt;stroke-linejoin:round;}\n  </style>\n </defs>\n <g id=\"figure_1\">\n  <g id=\"patch_1\">\n   <path d=\"M 0 248.518125 \nL 372.103125 248.518125 \nL 372.103125 0 \nL 0 0 \nz\n\" style=\"fill:none;\"/>\n  </g>\n  <g id=\"axes_1\">\n   <g id=\"patch_2\">\n    <path d=\"M 30.103125 224.64 \nL 182.284943 224.64 \nL 182.284943 7.2 \nL 30.103125 7.2 \nz\n\" style=\"fill:#ffffff;\"/>\n   </g>\n   <g id=\"patch_3\">\n    <path clip-path=\"url(#p8bc8ff7659)\" d=\"M 37.02048 224.64 \nL 43.937836 224.64 \nL 43.937836 223.175462 \nL 37.02048 223.175462 \nz\n\" style=\"fill:#1f77b4;\"/>\n   </g>\n   <g id=\"patch_4\">\n    <path clip-path=\"url(#p8bc8ff7659)\" d=\"M 43.937836 224.64 \nL 50.855191 224.64 \nL 50.855191 217.819436 \nL 43.937836 217.819436 \nz\n\" style=\"fill:#1f77b4;\"/>\n   </g>\n   <g id=\"patch_5\">\n    <path clip-path=\"url(#p8bc8ff7659)\" d=\"M 50.855191 224.64 \nL 57.772546 224.64 \nL 57.772546 202.588238 \nL 50.855191 202.588238 \nz\n\" style=\"fill:#1f77b4;\"/>\n   </g>\n   <g id=\"patch_6\">\n    <path clip-path=\"url(#p8bc8ff7659)\" d=\"M 57.772546 224.64 \nL 64.689902 224.64 \nL 64.689902 184.804558 \nL 57.772546 184.804558 \nz\n\" style=\"fill:#1f77b4;\"/>\n   </g>\n   <g id=\"patch_7\">\n    <path clip-path=\"url(#p8bc8ff7659)\" d=\"M 64.689902 224.64 \nL 71.607257 224.64 \nL 71.607257 165.01237 \nL 64.689902 165.01237 \nz\n\" style=\"fill:#1f77b4;\"/>\n   </g>\n   <g id=\"patch_8\">\n    <path clip-path=\"url(#p8bc8ff7659)\" d=\"M 71.607257 224.64 \nL 78.524613 224.64 \nL 78.524613 132.374088 \nL 71.607257 132.374088 \nz\n\" style=\"fill:#1f77b4;\"/>\n   </g>\n   <g id=\"patch_9\">\n    <path clip-path=\"url(#p8bc8ff7659)\" d=\"M 78.524613 224.64 \nL 85.441968 224.64 \nL 85.441968 105.552115 \nL 78.524613 105.552115 \nz\n\" style=\"fill:#1f77b4;\"/>\n   </g>\n   <g id=\"patch_10\">\n    <path clip-path=\"url(#p8bc8ff7659)\" d=\"M 85.441968 224.64 \nL 92.359323 224.64 \nL 92.359323 84.964891 \nL 85.441968 84.964891 \nz\n\" style=\"fill:#1f77b4;\"/>\n   </g>\n   <g id=\"patch_11\">\n    <path clip-path=\"url(#p8bc8ff7659)\" d=\"M 92.359323 224.64 \nL 99.276679 224.64 \nL 99.276679 69.315253 \nL 92.359323 69.315253 \nz\n\" style=\"fill:#1f77b4;\"/>\n   </g>\n   <g id=\"patch_12\">\n    <path clip-path=\"url(#p8bc8ff7659)\" d=\"M 99.276679 224.64 \nL 106.194034 224.64 \nL 106.194034 56.971288 \nL 99.276679 56.971288 \nz\n\" style=\"fill:#1f77b4;\"/>\n   </g>\n   <g id=\"patch_13\">\n    <path clip-path=\"url(#p8bc8ff7659)\" d=\"M 106.194034 224.64 \nL 113.111389 224.64 \nL 113.111389 46.71952 \nL 106.194034 46.71952 \nz\n\" style=\"fill:#1f77b4;\"/>\n   </g>\n   <g id=\"patch_14\">\n    <path clip-path=\"url(#p8bc8ff7659)\" d=\"M 113.111389 224.64 \nL 120.028745 224.64 \nL 120.028745 39.647892 \nL 113.111389 39.647892 \nz\n\" style=\"fill:#1f77b4;\"/>\n   </g>\n   <g id=\"patch_15\">\n    <path clip-path=\"url(#p8bc8ff7659)\" d=\"M 120.028745 224.64 \nL 126.9461 224.64 \nL 126.9461 34.208178 \nL 120.028745 34.208178 \nz\n\" style=\"fill:#1f77b4;\"/>\n   </g>\n   <g id=\"patch_16\">\n    <path clip-path=\"url(#p8bc8ff7659)\" d=\"M 126.9461 224.64 \nL 133.863456 224.64 \nL 133.863456 29.981939 \nL 126.9461 29.981939 \nz\n\" style=\"fill:#1f77b4;\"/>\n   </g>\n   <g id=\"patch_17\">\n    <path clip-path=\"url(#p8bc8ff7659)\" d=\"M 133.863456 224.64 \nL 140.780811 224.64 \nL 140.780811 26.257828 \nL 133.863456 26.257828 \nz\n\" style=\"fill:#1f77b4;\"/>\n   </g>\n   <g id=\"patch_18\">\n    <path clip-path=\"url(#p8bc8ff7659)\" d=\"M 140.780811 224.64 \nL 147.698166 224.64 \nL 147.698166 21.613149 \nL 140.780811 21.613149 \nz\n\" style=\"fill:#1f77b4;\"/>\n   </g>\n   <g id=\"patch_19\">\n    <path clip-path=\"url(#p8bc8ff7659)\" d=\"M 147.698166 224.64 \nL 154.615522 224.64 \nL 154.615522 20.274143 \nL 147.698166 20.274143 \nz\n\" style=\"fill:#1f77b4;\"/>\n   </g>\n   <g id=\"patch_20\">\n    <path clip-path=\"url(#p8bc8ff7659)\" d=\"M 154.615522 224.64 \nL 161.532877 224.64 \nL 161.532877 19.102512 \nL 154.615522 19.102512 \nz\n\" style=\"fill:#1f77b4;\"/>\n   </g>\n   <g id=\"patch_21\">\n    <path clip-path=\"url(#p8bc8ff7659)\" d=\"M 161.532877 224.64 \nL 168.450232 224.64 \nL 168.450232 18.265633 \nL 161.532877 18.265633 \nz\n\" style=\"fill:#1f77b4;\"/>\n   </g>\n   <g id=\"patch_22\">\n    <path clip-path=\"url(#p8bc8ff7659)\" d=\"M 168.450232 224.64 \nL 175.367588 224.64 \nL 175.367588 17.554286 \nL 168.450232 17.554286 \nz\n\" style=\"fill:#1f77b4;\"/>\n   </g>\n   <g id=\"matplotlib.axis_1\">\n    <g id=\"xtick_1\">\n     <g id=\"line2d_1\">\n      <defs>\n       <path d=\"M 0 0 \nL 0 3.5 \n\" id=\"mdb8bad0dd0\" style=\"stroke:#000000;stroke-width:0.8;\"/>\n      </defs>\n      <g>\n       <use style=\"stroke:#000000;stroke-width:0.8;\" x=\"57.266399\" xlink:href=\"#mdb8bad0dd0\" y=\"224.64\"/>\n      </g>\n     </g>\n     <g id=\"text_1\">\n      <!-- 10 -->\n      <defs>\n       <path d=\"M 12.40625 8.296875 \nL 28.515625 8.296875 \nL 28.515625 63.921875 \nL 10.984375 60.40625 \nL 10.984375 69.390625 \nL 28.421875 72.90625 \nL 38.28125 72.90625 \nL 38.28125 8.296875 \nL 54.390625 8.296875 \nL 54.390625 0 \nL 12.40625 0 \nz\n\" id=\"DejaVuSans-49\"/>\n       <path d=\"M 31.78125 66.40625 \nQ 24.171875 66.40625 20.328125 58.90625 \nQ 16.5 51.421875 16.5 36.375 \nQ 16.5 21.390625 20.328125 13.890625 \nQ 24.171875 6.390625 31.78125 6.390625 \nQ 39.453125 6.390625 43.28125 13.890625 \nQ 47.125 21.390625 47.125 36.375 \nQ 47.125 51.421875 43.28125 58.90625 \nQ 39.453125 66.40625 31.78125 66.40625 \nz\nM 31.78125 74.21875 \nQ 44.046875 74.21875 50.515625 64.515625 \nQ 56.984375 54.828125 56.984375 36.375 \nQ 56.984375 17.96875 50.515625 8.265625 \nQ 44.046875 -1.421875 31.78125 -1.421875 \nQ 19.53125 -1.421875 13.0625 8.265625 \nQ 6.59375 17.96875 6.59375 36.375 \nQ 6.59375 54.828125 13.0625 64.515625 \nQ 19.53125 74.21875 31.78125 74.21875 \nz\n\" id=\"DejaVuSans-48\"/>\n      </defs>\n      <g transform=\"translate(50.903899 239.238437)scale(0.1 -0.1)\">\n       <use xlink:href=\"#DejaVuSans-49\"/>\n       <use x=\"63.623047\" xlink:href=\"#DejaVuSans-48\"/>\n      </g>\n     </g>\n    </g>\n    <g id=\"xtick_2\">\n     <g id=\"line2d_2\">\n      <g>\n       <use style=\"stroke:#000000;stroke-width:0.8;\" x=\"91.009595\" xlink:href=\"#mdb8bad0dd0\" y=\"224.64\"/>\n      </g>\n     </g>\n     <g id=\"text_2\">\n      <!-- 20 -->\n      <defs>\n       <path d=\"M 19.1875 8.296875 \nL 53.609375 8.296875 \nL 53.609375 0 \nL 7.328125 0 \nL 7.328125 8.296875 \nQ 12.9375 14.109375 22.625 23.890625 \nQ 32.328125 33.6875 34.8125 36.53125 \nQ 39.546875 41.84375 41.421875 45.53125 \nQ 43.3125 49.21875 43.3125 52.78125 \nQ 43.3125 58.59375 39.234375 62.25 \nQ 35.15625 65.921875 28.609375 65.921875 \nQ 23.96875 65.921875 18.8125 64.3125 \nQ 13.671875 62.703125 7.8125 59.421875 \nL 7.8125 69.390625 \nQ 13.765625 71.78125 18.9375 73 \nQ 24.125 74.21875 28.421875 74.21875 \nQ 39.75 74.21875 46.484375 68.546875 \nQ 53.21875 62.890625 53.21875 53.421875 \nQ 53.21875 48.921875 51.53125 44.890625 \nQ 49.859375 40.875 45.40625 35.40625 \nQ 44.1875 33.984375 37.640625 27.21875 \nQ 31.109375 20.453125 19.1875 8.296875 \nz\n\" id=\"DejaVuSans-50\"/>\n      </defs>\n      <g transform=\"translate(84.647095 239.238437)scale(0.1 -0.1)\">\n       <use xlink:href=\"#DejaVuSans-50\"/>\n       <use x=\"63.623047\" xlink:href=\"#DejaVuSans-48\"/>\n      </g>\n     </g>\n    </g>\n    <g id=\"xtick_3\">\n     <g id=\"line2d_3\">\n      <g>\n       <use style=\"stroke:#000000;stroke-width:0.8;\" x=\"124.752792\" xlink:href=\"#mdb8bad0dd0\" y=\"224.64\"/>\n      </g>\n     </g>\n     <g id=\"text_3\">\n      <!-- 30 -->\n      <defs>\n       <path d=\"M 40.578125 39.3125 \nQ 47.65625 37.796875 51.625 33 \nQ 55.609375 28.21875 55.609375 21.1875 \nQ 55.609375 10.40625 48.1875 4.484375 \nQ 40.765625 -1.421875 27.09375 -1.421875 \nQ 22.515625 -1.421875 17.65625 -0.515625 \nQ 12.796875 0.390625 7.625 2.203125 \nL 7.625 11.71875 \nQ 11.71875 9.328125 16.59375 8.109375 \nQ 21.484375 6.890625 26.8125 6.890625 \nQ 36.078125 6.890625 40.9375 10.546875 \nQ 45.796875 14.203125 45.796875 21.1875 \nQ 45.796875 27.640625 41.28125 31.265625 \nQ 36.765625 34.90625 28.71875 34.90625 \nL 20.21875 34.90625 \nL 20.21875 43.015625 \nL 29.109375 43.015625 \nQ 36.375 43.015625 40.234375 45.921875 \nQ 44.09375 48.828125 44.09375 54.296875 \nQ 44.09375 59.90625 40.109375 62.90625 \nQ 36.140625 65.921875 28.71875 65.921875 \nQ 24.65625 65.921875 20.015625 65.03125 \nQ 15.375 64.15625 9.8125 62.3125 \nL 9.8125 71.09375 \nQ 15.4375 72.65625 20.34375 73.4375 \nQ 25.25 74.21875 29.59375 74.21875 \nQ 40.828125 74.21875 47.359375 69.109375 \nQ 53.90625 64.015625 53.90625 55.328125 \nQ 53.90625 49.265625 50.4375 45.09375 \nQ 46.96875 40.921875 40.578125 39.3125 \nz\n\" id=\"DejaVuSans-51\"/>\n      </defs>\n      <g transform=\"translate(118.390292 239.238437)scale(0.1 -0.1)\">\n       <use xlink:href=\"#DejaVuSans-51\"/>\n       <use x=\"63.623047\" xlink:href=\"#DejaVuSans-48\"/>\n      </g>\n     </g>\n    </g>\n    <g id=\"xtick_4\">\n     <g id=\"line2d_4\">\n      <g>\n       <use style=\"stroke:#000000;stroke-width:0.8;\" x=\"158.495989\" xlink:href=\"#mdb8bad0dd0\" y=\"224.64\"/>\n      </g>\n     </g>\n     <g id=\"text_4\">\n      <!-- 40 -->\n      <defs>\n       <path d=\"M 37.796875 64.3125 \nL 12.890625 25.390625 \nL 37.796875 25.390625 \nz\nM 35.203125 72.90625 \nL 47.609375 72.90625 \nL 47.609375 25.390625 \nL 58.015625 25.390625 \nL 58.015625 17.1875 \nL 47.609375 17.1875 \nL 47.609375 0 \nL 37.796875 0 \nL 37.796875 17.1875 \nL 4.890625 17.1875 \nL 4.890625 26.703125 \nz\n\" id=\"DejaVuSans-52\"/>\n      </defs>\n      <g transform=\"translate(152.133489 239.238437)scale(0.1 -0.1)\">\n       <use xlink:href=\"#DejaVuSans-52\"/>\n       <use x=\"63.623047\" xlink:href=\"#DejaVuSans-48\"/>\n      </g>\n     </g>\n    </g>\n   </g>\n   <g id=\"matplotlib.axis_2\">\n    <g id=\"ytick_1\">\n     <g id=\"line2d_5\">\n      <defs>\n       <path d=\"M 0 0 \nL -3.5 0 \n\" id=\"ma77f516196\" style=\"stroke:#000000;stroke-width:0.8;\"/>\n      </defs>\n      <g>\n       <use style=\"stroke:#000000;stroke-width:0.8;\" x=\"30.103125\" xlink:href=\"#ma77f516196\" y=\"224.64\"/>\n      </g>\n     </g>\n     <g id=\"text_5\">\n      <!-- 0.0 -->\n      <defs>\n       <path d=\"M 10.6875 12.40625 \nL 21 12.40625 \nL 21 0 \nL 10.6875 0 \nz\n\" id=\"DejaVuSans-46\"/>\n      </defs>\n      <g transform=\"translate(7.2 228.439219)scale(0.1 -0.1)\">\n       <use xlink:href=\"#DejaVuSans-48\"/>\n       <use x=\"63.623047\" xlink:href=\"#DejaVuSans-46\"/>\n       <use x=\"95.410156\" xlink:href=\"#DejaVuSans-48\"/>\n      </g>\n     </g>\n    </g>\n    <g id=\"ytick_2\">\n     <g id=\"line2d_6\">\n      <g>\n       <use style=\"stroke:#000000;stroke-width:0.8;\" x=\"30.103125\" xlink:href=\"#ma77f516196\" y=\"183.222857\"/>\n      </g>\n     </g>\n     <g id=\"text_6\">\n      <!-- 0.2 -->\n      <g transform=\"translate(7.2 187.022076)scale(0.1 -0.1)\">\n       <use xlink:href=\"#DejaVuSans-48\"/>\n       <use x=\"63.623047\" xlink:href=\"#DejaVuSans-46\"/>\n       <use x=\"95.410156\" xlink:href=\"#DejaVuSans-50\"/>\n      </g>\n     </g>\n    </g>\n    <g id=\"ytick_3\">\n     <g id=\"line2d_7\">\n      <g>\n       <use style=\"stroke:#000000;stroke-width:0.8;\" x=\"30.103125\" xlink:href=\"#ma77f516196\" y=\"141.805714\"/>\n      </g>\n     </g>\n     <g id=\"text_7\">\n      <!-- 0.4 -->\n      <g transform=\"translate(7.2 145.604933)scale(0.1 -0.1)\">\n       <use xlink:href=\"#DejaVuSans-48\"/>\n       <use x=\"63.623047\" xlink:href=\"#DejaVuSans-46\"/>\n       <use x=\"95.410156\" xlink:href=\"#DejaVuSans-52\"/>\n      </g>\n     </g>\n    </g>\n    <g id=\"ytick_4\">\n     <g id=\"line2d_8\">\n      <g>\n       <use style=\"stroke:#000000;stroke-width:0.8;\" x=\"30.103125\" xlink:href=\"#ma77f516196\" y=\"100.388571\"/>\n      </g>\n     </g>\n     <g id=\"text_8\">\n      <!-- 0.6 -->\n      <defs>\n       <path d=\"M 33.015625 40.375 \nQ 26.375 40.375 22.484375 35.828125 \nQ 18.609375 31.296875 18.609375 23.390625 \nQ 18.609375 15.53125 22.484375 10.953125 \nQ 26.375 6.390625 33.015625 6.390625 \nQ 39.65625 6.390625 43.53125 10.953125 \nQ 47.40625 15.53125 47.40625 23.390625 \nQ 47.40625 31.296875 43.53125 35.828125 \nQ 39.65625 40.375 33.015625 40.375 \nz\nM 52.59375 71.296875 \nL 52.59375 62.3125 \nQ 48.875 64.0625 45.09375 64.984375 \nQ 41.3125 65.921875 37.59375 65.921875 \nQ 27.828125 65.921875 22.671875 59.328125 \nQ 17.53125 52.734375 16.796875 39.40625 \nQ 19.671875 43.65625 24.015625 45.921875 \nQ 28.375 48.1875 33.59375 48.1875 \nQ 44.578125 48.1875 50.953125 41.515625 \nQ 57.328125 34.859375 57.328125 23.390625 \nQ 57.328125 12.15625 50.6875 5.359375 \nQ 44.046875 -1.421875 33.015625 -1.421875 \nQ 20.359375 -1.421875 13.671875 8.265625 \nQ 6.984375 17.96875 6.984375 36.375 \nQ 6.984375 53.65625 15.1875 63.9375 \nQ 23.390625 74.21875 37.203125 74.21875 \nQ 40.921875 74.21875 44.703125 73.484375 \nQ 48.484375 72.75 52.59375 71.296875 \nz\n\" id=\"DejaVuSans-54\"/>\n      </defs>\n      <g transform=\"translate(7.2 104.18779)scale(0.1 -0.1)\">\n       <use xlink:href=\"#DejaVuSans-48\"/>\n       <use x=\"63.623047\" xlink:href=\"#DejaVuSans-46\"/>\n       <use x=\"95.410156\" xlink:href=\"#DejaVuSans-54\"/>\n      </g>\n     </g>\n    </g>\n    <g id=\"ytick_5\">\n     <g id=\"line2d_9\">\n      <g>\n       <use style=\"stroke:#000000;stroke-width:0.8;\" x=\"30.103125\" xlink:href=\"#ma77f516196\" y=\"58.971429\"/>\n      </g>\n     </g>\n     <g id=\"text_9\">\n      <!-- 0.8 -->\n      <defs>\n       <path d=\"M 31.78125 34.625 \nQ 24.75 34.625 20.71875 30.859375 \nQ 16.703125 27.09375 16.703125 20.515625 \nQ 16.703125 13.921875 20.71875 10.15625 \nQ 24.75 6.390625 31.78125 6.390625 \nQ 38.8125 6.390625 42.859375 10.171875 \nQ 46.921875 13.96875 46.921875 20.515625 \nQ 46.921875 27.09375 42.890625 30.859375 \nQ 38.875 34.625 31.78125 34.625 \nz\nM 21.921875 38.8125 \nQ 15.578125 40.375 12.03125 44.71875 \nQ 8.5 49.078125 8.5 55.328125 \nQ 8.5 64.0625 14.71875 69.140625 \nQ 20.953125 74.21875 31.78125 74.21875 \nQ 42.671875 74.21875 48.875 69.140625 \nQ 55.078125 64.0625 55.078125 55.328125 \nQ 55.078125 49.078125 51.53125 44.71875 \nQ 48 40.375 41.703125 38.8125 \nQ 48.828125 37.15625 52.796875 32.3125 \nQ 56.78125 27.484375 56.78125 20.515625 \nQ 56.78125 9.90625 50.3125 4.234375 \nQ 43.84375 -1.421875 31.78125 -1.421875 \nQ 19.734375 -1.421875 13.25 4.234375 \nQ 6.78125 9.90625 6.78125 20.515625 \nQ 6.78125 27.484375 10.78125 32.3125 \nQ 14.796875 37.15625 21.921875 38.8125 \nz\nM 18.3125 54.390625 \nQ 18.3125 48.734375 21.84375 45.5625 \nQ 25.390625 42.390625 31.78125 42.390625 \nQ 38.140625 42.390625 41.71875 45.5625 \nQ 45.3125 48.734375 45.3125 54.390625 \nQ 45.3125 60.0625 41.71875 63.234375 \nQ 38.140625 66.40625 31.78125 66.40625 \nQ 25.390625 66.40625 21.84375 63.234375 \nQ 18.3125 60.0625 18.3125 54.390625 \nz\n\" id=\"DejaVuSans-56\"/>\n      </defs>\n      <g transform=\"translate(7.2 62.770647)scale(0.1 -0.1)\">\n       <use xlink:href=\"#DejaVuSans-48\"/>\n       <use x=\"63.623047\" xlink:href=\"#DejaVuSans-46\"/>\n       <use x=\"95.410156\" xlink:href=\"#DejaVuSans-56\"/>\n      </g>\n     </g>\n    </g>\n    <g id=\"ytick_6\">\n     <g id=\"line2d_10\">\n      <g>\n       <use style=\"stroke:#000000;stroke-width:0.8;\" x=\"30.103125\" xlink:href=\"#ma77f516196\" y=\"17.554286\"/>\n      </g>\n     </g>\n     <g id=\"text_10\">\n      <!-- 1.0 -->\n      <g transform=\"translate(7.2 21.353504)scale(0.1 -0.1)\">\n       <use xlink:href=\"#DejaVuSans-49\"/>\n       <use x=\"63.623047\" xlink:href=\"#DejaVuSans-46\"/>\n       <use x=\"95.410156\" xlink:href=\"#DejaVuSans-48\"/>\n      </g>\n     </g>\n    </g>\n   </g>\n   <g id=\"patch_23\">\n    <path d=\"M 30.103125 224.64 \nL 30.103125 7.2 \n\" style=\"fill:none;stroke:#000000;stroke-linecap:square;stroke-linejoin:miter;stroke-width:0.8;\"/>\n   </g>\n   <g id=\"patch_24\">\n    <path d=\"M 182.284943 224.64 \nL 182.284943 7.2 \n\" style=\"fill:none;stroke:#000000;stroke-linecap:square;stroke-linejoin:miter;stroke-width:0.8;\"/>\n   </g>\n   <g id=\"patch_25\">\n    <path d=\"M 30.103125 224.64 \nL 182.284943 224.64 \n\" style=\"fill:none;stroke:#000000;stroke-linecap:square;stroke-linejoin:miter;stroke-width:0.8;\"/>\n   </g>\n   <g id=\"patch_26\">\n    <path d=\"M 30.103125 7.2 \nL 182.284943 7.2 \n\" style=\"fill:none;stroke:#000000;stroke-linecap:square;stroke-linejoin:miter;stroke-width:0.8;\"/>\n   </g>\n  </g>\n  <g id=\"axes_2\">\n   <g id=\"patch_27\">\n    <path d=\"M 212.721307 224.64 \nL 364.903125 224.64 \nL 364.903125 7.2 \nL 212.721307 7.2 \nz\n\" style=\"fill:#ffffff;\"/>\n   </g>\n   <g id=\"patch_28\">\n    <path clip-path=\"url(#pfdbc70a6f6)\" d=\"M 219.638662 224.64 \nL 226.556018 224.64 \nL 226.556018 101.158332 \nL 219.638662 101.158332 \nz\n\" style=\"fill:#1f77b4;\"/>\n   </g>\n   <g id=\"patch_29\">\n    <path clip-path=\"url(#pfdbc70a6f6)\" d=\"M 226.556018 224.64 \nL 233.473373 224.64 \nL 233.473373 52.707064 \nL 226.556018 52.707064 \nz\n\" style=\"fill:#1f77b4;\"/>\n   </g>\n   <g id=\"patch_30\">\n    <path clip-path=\"url(#pfdbc70a6f6)\" d=\"M 233.473373 224.64 \nL 240.390728 224.64 \nL 240.390728 36.993287 \nL 233.473373 36.993287 \nz\n\" style=\"fill:#1f77b4;\"/>\n   </g>\n   <g id=\"patch_31\">\n    <path clip-path=\"url(#pfdbc70a6f6)\" d=\"M 240.390728 224.64 \nL 247.308084 224.64 \nL 247.308084 29.03067 \nL 240.390728 29.03067 \nz\n\" style=\"fill:#1f77b4;\"/>\n   </g>\n   <g id=\"patch_32\">\n    <path clip-path=\"url(#pfdbc70a6f6)\" d=\"M 247.308084 224.64 \nL 254.225439 224.64 \nL 254.225439 25.212074 \nL 247.308084 25.212074 \nz\n\" style=\"fill:#1f77b4;\"/>\n   </g>\n   <g id=\"patch_33\">\n    <path clip-path=\"url(#pfdbc70a6f6)\" d=\"M 254.225439 224.64 \nL 261.142794 224.64 \nL 261.142794 22.546884 \nL 254.225439 22.546884 \nz\n\" style=\"fill:#1f77b4;\"/>\n   </g>\n   <g id=\"patch_34\">\n    <path clip-path=\"url(#pfdbc70a6f6)\" d=\"M 261.142794 224.64 \nL 268.06015 224.64 \nL 268.06015 21.043337 \nL 261.142794 21.043337 \nz\n\" style=\"fill:#1f77b4;\"/>\n   </g>\n   <g id=\"patch_35\">\n    <path clip-path=\"url(#pfdbc70a6f6)\" d=\"M 268.06015 224.64 \nL 274.977505 224.64 \nL 274.977505 20.282639 \nL 268.06015 20.282639 \nz\n\" style=\"fill:#1f77b4;\"/>\n   </g>\n   <g id=\"patch_36\">\n    <path clip-path=\"url(#pfdbc70a6f6)\" d=\"M 274.977505 224.64 \nL 281.894861 224.64 \nL 281.894861 19.715548 \nL 274.977505 19.715548 \nz\n\" style=\"fill:#1f77b4;\"/>\n   </g>\n   <g id=\"patch_37\">\n    <path clip-path=\"url(#pfdbc70a6f6)\" d=\"M 281.894861 224.64 \nL 288.812216 224.64 \nL 288.812216 19.277528 \nL 281.894861 19.277528 \nz\n\" style=\"fill:#1f77b4;\"/>\n   </g>\n   <g id=\"patch_38\">\n    <path clip-path=\"url(#pfdbc70a6f6)\" d=\"M 288.812216 224.64 \nL 295.729571 224.64 \nL 295.729571 18.979565 \nL 288.812216 18.979565 \nz\n\" style=\"fill:#1f77b4;\"/>\n   </g>\n   <g id=\"patch_39\">\n    <path clip-path=\"url(#pfdbc70a6f6)\" d=\"M 295.729571 224.64 \nL 302.646927 224.64 \nL 302.646927 18.799689 \nL 295.729571 18.799689 \nz\n\" style=\"fill:#1f77b4;\"/>\n   </g>\n   <g id=\"patch_40\">\n    <path clip-path=\"url(#pfdbc70a6f6)\" d=\"M 302.646927 224.64 \nL 309.564282 224.64 \nL 309.564282 18.61844 \nL 302.646927 18.61844 \nz\n\" style=\"fill:#1f77b4;\"/>\n   </g>\n   <g id=\"patch_41\">\n    <path clip-path=\"url(#pfdbc70a6f6)\" d=\"M 309.564282 224.64 \nL 316.481637 224.64 \nL 316.481637 18.463279 \nL 309.564282 18.463279 \nz\n\" style=\"fill:#1f77b4;\"/>\n   </g>\n   <g id=\"patch_42\">\n    <path clip-path=\"url(#pfdbc70a6f6)\" d=\"M 316.481637 224.64 \nL 323.398993 224.64 \nL 323.398993 18.286149 \nL 316.481637 18.286149 \nz\n\" style=\"fill:#1f77b4;\"/>\n   </g>\n   <g id=\"patch_43\">\n    <path clip-path=\"url(#pfdbc70a6f6)\" d=\"M 323.398993 224.64 \nL 330.316348 224.64 \nL 330.316348 18.121377 \nL 323.398993 18.121377 \nz\n\" style=\"fill:#1f77b4;\"/>\n   </g>\n   <g id=\"patch_44\">\n    <path clip-path=\"url(#pfdbc70a6f6)\" d=\"M 330.316348 224.64 \nL 337.233704 224.64 \nL 337.233704 17.863234 \nL 330.316348 17.863234 \nz\n\" style=\"fill:#1f77b4;\"/>\n   </g>\n   <g id=\"patch_45\">\n    <path clip-path=\"url(#pfdbc70a6f6)\" d=\"M 337.233704 224.64 \nL 344.151059 224.64 \nL 344.151059 17.719058 \nL 337.233704 17.719058 \nz\n\" style=\"fill:#1f77b4;\"/>\n   </g>\n   <g id=\"patch_46\">\n    <path clip-path=\"url(#pfdbc70a6f6)\" d=\"M 344.151059 224.64 \nL 351.068414 224.64 \nL 351.068414 17.60921 \nL 344.151059 17.60921 \nz\n\" style=\"fill:#1f77b4;\"/>\n   </g>\n   <g id=\"patch_47\">\n    <path clip-path=\"url(#pfdbc70a6f6)\" d=\"M 351.068414 224.64 \nL 357.98577 224.64 \nL 357.98577 17.554286 \nL 351.068414 17.554286 \nz\n\" style=\"fill:#1f77b4;\"/>\n   </g>\n   <g id=\"matplotlib.axis_3\">\n    <g id=\"xtick_5\">\n     <g id=\"line2d_11\">\n      <g>\n       <use style=\"stroke:#000000;stroke-width:0.8;\" x=\"218.986081\" xlink:href=\"#mdb8bad0dd0\" y=\"224.64\"/>\n      </g>\n     </g>\n     <g id=\"text_11\">\n      <!-- 0 -->\n      <g transform=\"translate(215.804831 239.238437)scale(0.1 -0.1)\">\n       <use xlink:href=\"#DejaVuSans-48\"/>\n      </g>\n     </g>\n    </g>\n    <g id=\"xtick_6\">\n     <g id=\"line2d_12\">\n      <g>\n       <use style=\"stroke:#000000;stroke-width:0.8;\" x=\"251.615116\" xlink:href=\"#mdb8bad0dd0\" y=\"224.64\"/>\n      </g>\n     </g>\n     <g id=\"text_12\">\n      <!-- 50 -->\n      <defs>\n       <path d=\"M 10.796875 72.90625 \nL 49.515625 72.90625 \nL 49.515625 64.59375 \nL 19.828125 64.59375 \nL 19.828125 46.734375 \nQ 21.96875 47.46875 24.109375 47.828125 \nQ 26.265625 48.1875 28.421875 48.1875 \nQ 40.625 48.1875 47.75 41.5 \nQ 54.890625 34.8125 54.890625 23.390625 \nQ 54.890625 11.625 47.5625 5.09375 \nQ 40.234375 -1.421875 26.90625 -1.421875 \nQ 22.3125 -1.421875 17.546875 -0.640625 \nQ 12.796875 0.140625 7.71875 1.703125 \nL 7.71875 11.625 \nQ 12.109375 9.234375 16.796875 8.0625 \nQ 21.484375 6.890625 26.703125 6.890625 \nQ 35.15625 6.890625 40.078125 11.328125 \nQ 45.015625 15.765625 45.015625 23.390625 \nQ 45.015625 31 40.078125 35.4375 \nQ 35.15625 39.890625 26.703125 39.890625 \nQ 22.75 39.890625 18.8125 39.015625 \nQ 14.890625 38.140625 10.796875 36.28125 \nz\n\" id=\"DejaVuSans-53\"/>\n      </defs>\n      <g transform=\"translate(245.252616 239.238437)scale(0.1 -0.1)\">\n       <use xlink:href=\"#DejaVuSans-53\"/>\n       <use x=\"63.623047\" xlink:href=\"#DejaVuSans-48\"/>\n      </g>\n     </g>\n    </g>\n    <g id=\"xtick_7\">\n     <g id=\"line2d_13\">\n      <g>\n       <use style=\"stroke:#000000;stroke-width:0.8;\" x=\"284.244151\" xlink:href=\"#mdb8bad0dd0\" y=\"224.64\"/>\n      </g>\n     </g>\n     <g id=\"text_13\">\n      <!-- 100 -->\n      <g transform=\"translate(274.700401 239.238437)scale(0.1 -0.1)\">\n       <use xlink:href=\"#DejaVuSans-49\"/>\n       <use x=\"63.623047\" xlink:href=\"#DejaVuSans-48\"/>\n       <use x=\"127.246094\" xlink:href=\"#DejaVuSans-48\"/>\n      </g>\n     </g>\n    </g>\n    <g id=\"xtick_8\">\n     <g id=\"line2d_14\">\n      <g>\n       <use style=\"stroke:#000000;stroke-width:0.8;\" x=\"316.873186\" xlink:href=\"#mdb8bad0dd0\" y=\"224.64\"/>\n      </g>\n     </g>\n     <g id=\"text_14\">\n      <!-- 150 -->\n      <g transform=\"translate(307.329436 239.238437)scale(0.1 -0.1)\">\n       <use xlink:href=\"#DejaVuSans-49\"/>\n       <use x=\"63.623047\" xlink:href=\"#DejaVuSans-53\"/>\n       <use x=\"127.246094\" xlink:href=\"#DejaVuSans-48\"/>\n      </g>\n     </g>\n    </g>\n    <g id=\"xtick_9\">\n     <g id=\"line2d_15\">\n      <g>\n       <use style=\"stroke:#000000;stroke-width:0.8;\" x=\"349.502221\" xlink:href=\"#mdb8bad0dd0\" y=\"224.64\"/>\n      </g>\n     </g>\n     <g id=\"text_15\">\n      <!-- 200 -->\n      <g transform=\"translate(339.958471 239.238437)scale(0.1 -0.1)\">\n       <use xlink:href=\"#DejaVuSans-50\"/>\n       <use x=\"63.623047\" xlink:href=\"#DejaVuSans-48\"/>\n       <use x=\"127.246094\" xlink:href=\"#DejaVuSans-48\"/>\n      </g>\n     </g>\n    </g>\n   </g>\n   <g id=\"matplotlib.axis_4\">\n    <g id=\"ytick_7\">\n     <g id=\"line2d_16\">\n      <g>\n       <use style=\"stroke:#000000;stroke-width:0.8;\" x=\"212.721307\" xlink:href=\"#ma77f516196\" y=\"224.64\"/>\n      </g>\n     </g>\n     <g id=\"text_16\">\n      <!-- 0.0 -->\n      <g transform=\"translate(189.818182 228.439219)scale(0.1 -0.1)\">\n       <use xlink:href=\"#DejaVuSans-48\"/>\n       <use x=\"63.623047\" xlink:href=\"#DejaVuSans-46\"/>\n       <use x=\"95.410156\" xlink:href=\"#DejaVuSans-48\"/>\n      </g>\n     </g>\n    </g>\n    <g id=\"ytick_8\">\n     <g id=\"line2d_17\">\n      <g>\n       <use style=\"stroke:#000000;stroke-width:0.8;\" x=\"212.721307\" xlink:href=\"#ma77f516196\" y=\"183.222857\"/>\n      </g>\n     </g>\n     <g id=\"text_17\">\n      <!-- 0.2 -->\n      <g transform=\"translate(189.818182 187.022076)scale(0.1 -0.1)\">\n       <use xlink:href=\"#DejaVuSans-48\"/>\n       <use x=\"63.623047\" xlink:href=\"#DejaVuSans-46\"/>\n       <use x=\"95.410156\" xlink:href=\"#DejaVuSans-50\"/>\n      </g>\n     </g>\n    </g>\n    <g id=\"ytick_9\">\n     <g id=\"line2d_18\">\n      <g>\n       <use style=\"stroke:#000000;stroke-width:0.8;\" x=\"212.721307\" xlink:href=\"#ma77f516196\" y=\"141.805714\"/>\n      </g>\n     </g>\n     <g id=\"text_18\">\n      <!-- 0.4 -->\n      <g transform=\"translate(189.818182 145.604933)scale(0.1 -0.1)\">\n       <use xlink:href=\"#DejaVuSans-48\"/>\n       <use x=\"63.623047\" xlink:href=\"#DejaVuSans-46\"/>\n       <use x=\"95.410156\" xlink:href=\"#DejaVuSans-52\"/>\n      </g>\n     </g>\n    </g>\n    <g id=\"ytick_10\">\n     <g id=\"line2d_19\">\n      <g>\n       <use style=\"stroke:#000000;stroke-width:0.8;\" x=\"212.721307\" xlink:href=\"#ma77f516196\" y=\"100.388571\"/>\n      </g>\n     </g>\n     <g id=\"text_19\">\n      <!-- 0.6 -->\n      <g transform=\"translate(189.818182 104.18779)scale(0.1 -0.1)\">\n       <use xlink:href=\"#DejaVuSans-48\"/>\n       <use x=\"63.623047\" xlink:href=\"#DejaVuSans-46\"/>\n       <use x=\"95.410156\" xlink:href=\"#DejaVuSans-54\"/>\n      </g>\n     </g>\n    </g>\n    <g id=\"ytick_11\">\n     <g id=\"line2d_20\">\n      <g>\n       <use style=\"stroke:#000000;stroke-width:0.8;\" x=\"212.721307\" xlink:href=\"#ma77f516196\" y=\"58.971429\"/>\n      </g>\n     </g>\n     <g id=\"text_20\">\n      <!-- 0.8 -->\n      <g transform=\"translate(189.818182 62.770647)scale(0.1 -0.1)\">\n       <use xlink:href=\"#DejaVuSans-48\"/>\n       <use x=\"63.623047\" xlink:href=\"#DejaVuSans-46\"/>\n       <use x=\"95.410156\" xlink:href=\"#DejaVuSans-56\"/>\n      </g>\n     </g>\n    </g>\n    <g id=\"ytick_12\">\n     <g id=\"line2d_21\">\n      <g>\n       <use style=\"stroke:#000000;stroke-width:0.8;\" x=\"212.721307\" xlink:href=\"#ma77f516196\" y=\"17.554286\"/>\n      </g>\n     </g>\n     <g id=\"text_21\">\n      <!-- 1.0 -->\n      <g transform=\"translate(189.818182 21.353504)scale(0.1 -0.1)\">\n       <use xlink:href=\"#DejaVuSans-49\"/>\n       <use x=\"63.623047\" xlink:href=\"#DejaVuSans-46\"/>\n       <use x=\"95.410156\" xlink:href=\"#DejaVuSans-48\"/>\n      </g>\n     </g>\n    </g>\n   </g>\n   <g id=\"patch_48\">\n    <path d=\"M 212.721307 224.64 \nL 212.721307 7.2 \n\" style=\"fill:none;stroke:#000000;stroke-linecap:square;stroke-linejoin:miter;stroke-width:0.8;\"/>\n   </g>\n   <g id=\"patch_49\">\n    <path d=\"M 364.903125 224.64 \nL 364.903125 7.2 \n\" style=\"fill:none;stroke:#000000;stroke-linecap:square;stroke-linejoin:miter;stroke-width:0.8;\"/>\n   </g>\n   <g id=\"patch_50\">\n    <path d=\"M 212.721307 224.64 \nL 364.903125 224.64 \n\" style=\"fill:none;stroke:#000000;stroke-linecap:square;stroke-linejoin:miter;stroke-width:0.8;\"/>\n   </g>\n   <g id=\"patch_51\">\n    <path d=\"M 212.721307 7.2 \nL 364.903125 7.2 \n\" style=\"fill:none;stroke:#000000;stroke-linecap:square;stroke-linejoin:miter;stroke-width:0.8;\"/>\n   </g>\n  </g>\n </g>\n <defs>\n  <clipPath id=\"p8bc8ff7659\">\n   <rect height=\"217.44\" width=\"152.181818\" x=\"30.103125\" y=\"7.2\"/>\n  </clipPath>\n  <clipPath id=\"pfdbc70a6f6\">\n   <rect height=\"217.44\" width=\"152.181818\" x=\"212.721307\" y=\"7.2\"/>\n  </clipPath>\n </defs>\n</svg>\n",
      "image/png": "[encoded data removed]"
     },
     "metadata": {
      "needs_background": "light"
     }
    }
   ],
   "source": [
    "print('问题和回答的长度分布：')\n",
    "plt.subplot(121)\n",
    "plt.hist(q_length[:-50], density=True, cumulative=True, bins=20)\n",
    "plt.subplot(122)\n",
    "plt.hist(a_length.sort_values()[:-500], density=True, cumulative=True, bins=20)\n",
    "plt.show()"
   ]
  },
  {
   "cell_type": "code",
   "execution_count": 49,
   "metadata": {},
   "outputs": [
    {
     "output_type": "execute_result",
     "data": {
      "text/plain": [
       "(42564, 6)"
      ]
     },
     "metadata": {},
     "execution_count": 49
    }
   ],
   "source": [
    "# 随机抽取2500个问题\n",
    "df_anjuke_sub = df_anjuke_full[df_anjuke_full['id'].isin(np.random.choice(df_anjuke_full[\"id\"].unique(), size=1500, replace=False))]\n",
    "df_anjuke_sub.shape"
   ]
  },
  {
   "cell_type": "code",
   "execution_count": 50,
   "metadata": {},
   "outputs": [],
   "source": [
    "df_anjuke_sub.to_csv(ANJUKE_DATA_PATH/'anjuke_sub.tsv',sep='\\t',index=False, header=None)"
   ]
  },
  {
   "cell_type": "code",
   "execution_count": null,
   "metadata": {},
   "outputs": [],
   "source": []
  }
 ]
}