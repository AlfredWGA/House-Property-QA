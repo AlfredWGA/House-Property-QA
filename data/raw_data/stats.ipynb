{
 "metadata": {
  "language_info": {
   "codemirror_mode": {
    "name": "ipython",
    "version": 3
   },
   "file_extension": ".py",
   "mimetype": "text/x-python",
   "name": "python",
   "nbconvert_exporter": "python",
   "pygments_lexer": "ipython3",
   "version": "3.8.3-final"
  },
  "orig_nbformat": 2,
  "kernelspec": {
   "name": "Python 3.8.3 64-bit ('wga': conda)",
   "display_name": "Python 3.8.3 64-bit ('wga': conda)",
   "metadata": {
    "interpreter": {
     "hash": "bbb9376a6ea0682b4dcbabd227f83db8b4203598a8e1668d4764fe1448e4da83"
    }
   }
  }
 },
 "nbformat": 4,
 "nbformat_minor": 2,
 "cells": [
  {
   "cell_type": "code",
   "execution_count": 1,
   "metadata": {},
   "outputs": [],
   "source": [
    "import pandas as pd\n",
    "import numpy as np\n",
    "from matplotlib import pyplot as plt\n",
    "from pathlib import Path\n",
    "from tqdm import tqdm\n",
    "import re\n",
    "from sklearn import metrics"
   ]
  },
  {
   "cell_type": "code",
   "execution_count": 2,
   "metadata": {},
   "outputs": [],
   "source": [
    "import torch"
   ]
  },
  {
   "cell_type": "code",
   "execution_count": 3,
   "metadata": {},
   "outputs": [],
   "source": [
    "import transformers"
   ]
  },
  {
   "cell_type": "code",
   "execution_count": 4,
   "metadata": {},
   "outputs": [],
   "source": [
    "PROJECT_ROOT_PATH = Path('.').resolve().parent.parent\n",
    "RAW_DATA_PATH = PROJECT_ROOT_PATH/'data/raw_data'"
   ]
  },
  {
   "cell_type": "code",
   "execution_count": 5,
   "metadata": {},
   "outputs": [],
   "source": [
    "train_query = pd.read_csv(RAW_DATA_PATH/'./train/train.query.tsv',sep='\\t',header=None)\n",
    "train_query.columns=['id','q1']\n",
    "train_reply = pd.read_csv(RAW_DATA_PATH/'./train/train.reply.tsv',sep='\\t',header=None)\n",
    "train_reply.columns=['id','id_sub','q2','label']\n",
    "train_df = train_query.merge(train_reply, how='left')\n",
    "train_df['q2'] = train_df['q2'].fillna('好的')\n",
    "test_query = pd.read_csv(RAW_DATA_PATH/'./test/test.query.tsv',sep='\\t',header=None, encoding='gbk')\n",
    "test_query.columns = ['id','q1']\n",
    "test_reply =  pd.read_csv(RAW_DATA_PATH/'./test/test.reply.tsv',sep='\\t',header=None, encoding='gbk')\n",
    "test_reply.columns=['id','id_sub','q2']\n",
    "test_df = test_query.merge(test_reply, how='left')"
   ]
  },
  {
   "cell_type": "code",
   "execution_count": 6,
   "metadata": {},
   "outputs": [
    {
     "output_type": "execute_result",
     "data": {
      "text/plain": [
       "         id              q1  id_sub                           q2  label\n",
       "0         0        采荷一小是分校吧       0  杭州市采荷第一小学钱江苑校区，杭州市钱江新城实验学校。      1\n",
       "1         0        采荷一小是分校吧       1                           是的      0\n",
       "2         0        采荷一小是分校吧       2                         这是5楼      0\n",
       "3         1            毛坯吗？       0                   因为公积金贷款贷的少      0\n",
       "4         1            毛坯吗？       1                           是呢      0\n",
       "...     ...             ...     ...                          ...    ...\n",
       "21580  5998  您好，我正在看尚林家园的房子       1                           有啊      0\n",
       "21581  5998  您好，我正在看尚林家园的房子       2                        我带你看看      0\n",
       "21582  5999     今天可以安排看房子吗？       0                   我约下房东，稍后回你      1\n",
       "21583  5999     今天可以安排看房子吗？       1               可以看，你几点有时间过来呢？      1\n",
       "21584  5999     今天可以安排看房子吗？       2              好的，那咱们在一号门口这碰头？      0\n",
       "\n",
       "[21585 rows x 5 columns]"
      ],
      "text/html": "<div>\n<style scoped>\n    .dataframe tbody tr th:only-of-type {\n        vertical-align: middle;\n    }\n\n    .dataframe tbody tr th {\n        vertical-align: top;\n    }\n\n    .dataframe thead th {\n        text-align: right;\n    }\n</style>\n<table border=\"1\" class=\"dataframe\">\n  <thead>\n    <tr style=\"text-align: right;\">\n      <th></th>\n      <th>id</th>\n      <th>q1</th>\n      <th>id_sub</th>\n      <th>q2</th>\n      <th>label</th>\n    </tr>\n  </thead>\n  <tbody>\n    <tr>\n      <th>0</th>\n      <td>0</td>\n      <td>采荷一小是分校吧</td>\n      <td>0</td>\n      <td>杭州市采荷第一小学钱江苑校区，杭州市钱江新城实验学校。</td>\n      <td>1</td>\n    </tr>\n    <tr>\n      <th>1</th>\n      <td>0</td>\n      <td>采荷一小是分校吧</td>\n      <td>1</td>\n      <td>是的</td>\n      <td>0</td>\n    </tr>\n    <tr>\n      <th>2</th>\n      <td>0</td>\n      <td>采荷一小是分校吧</td>\n      <td>2</td>\n      <td>这是5楼</td>\n      <td>0</td>\n    </tr>\n    <tr>\n      <th>3</th>\n      <td>1</td>\n      <td>毛坯吗？</td>\n      <td>0</td>\n      <td>因为公积金贷款贷的少</td>\n      <td>0</td>\n    </tr>\n    <tr>\n      <th>4</th>\n      <td>1</td>\n      <td>毛坯吗？</td>\n      <td>1</td>\n      <td>是呢</td>\n      <td>0</td>\n    </tr>\n    <tr>\n      <th>...</th>\n      <td>...</td>\n      <td>...</td>\n      <td>...</td>\n      <td>...</td>\n      <td>...</td>\n    </tr>\n    <tr>\n      <th>21580</th>\n      <td>5998</td>\n      <td>您好，我正在看尚林家园的房子</td>\n      <td>1</td>\n      <td>有啊</td>\n      <td>0</td>\n    </tr>\n    <tr>\n      <th>21581</th>\n      <td>5998</td>\n      <td>您好，我正在看尚林家园的房子</td>\n      <td>2</td>\n      <td>我带你看看</td>\n      <td>0</td>\n    </tr>\n    <tr>\n      <th>21582</th>\n      <td>5999</td>\n      <td>今天可以安排看房子吗？</td>\n      <td>0</td>\n      <td>我约下房东，稍后回你</td>\n      <td>1</td>\n    </tr>\n    <tr>\n      <th>21583</th>\n      <td>5999</td>\n      <td>今天可以安排看房子吗？</td>\n      <td>1</td>\n      <td>可以看，你几点有时间过来呢？</td>\n      <td>1</td>\n    </tr>\n    <tr>\n      <th>21584</th>\n      <td>5999</td>\n      <td>今天可以安排看房子吗？</td>\n      <td>2</td>\n      <td>好的，那咱们在一号门口这碰头？</td>\n      <td>0</td>\n    </tr>\n  </tbody>\n</table>\n<p>21585 rows × 5 columns</p>\n</div>"
     },
     "metadata": {},
     "execution_count": 6
    }
   ],
   "source": [
    "train_df"
   ]
  },
  {
   "cell_type": "code",
   "execution_count": 7,
   "metadata": {},
   "outputs": [],
   "source": [
    "train_df.to_csv(RAW_DATA_PATH/'train/train.tsv', sep='\\t', index=False, header=None)"
   ]
  },
  {
   "cell_type": "code",
   "execution_count": 8,
   "metadata": {},
   "outputs": [
    {
     "output_type": "execute_result",
     "data": {
      "text/plain": [
       "   id                  q1\n",
       "0   0            采荷一小是分校吧\n",
       "1   1                毛坯吗？\n",
       "2   2  你们的佣金费大约是多少和契税是多少。\n",
       "3   3             靠近川沙路嘛？\n",
       "4   4      这套房源价格还有优惠空间吗？"
      ],
      "text/html": "<div>\n<style scoped>\n    .dataframe tbody tr th:only-of-type {\n        vertical-align: middle;\n    }\n\n    .dataframe tbody tr th {\n        vertical-align: top;\n    }\n\n    .dataframe thead th {\n        text-align: right;\n    }\n</style>\n<table border=\"1\" class=\"dataframe\">\n  <thead>\n    <tr style=\"text-align: right;\">\n      <th></th>\n      <th>id</th>\n      <th>q1</th>\n    </tr>\n  </thead>\n  <tbody>\n    <tr>\n      <th>0</th>\n      <td>0</td>\n      <td>采荷一小是分校吧</td>\n    </tr>\n    <tr>\n      <th>1</th>\n      <td>1</td>\n      <td>毛坯吗？</td>\n    </tr>\n    <tr>\n      <th>2</th>\n      <td>2</td>\n      <td>你们的佣金费大约是多少和契税是多少。</td>\n    </tr>\n    <tr>\n      <th>3</th>\n      <td>3</td>\n      <td>靠近川沙路嘛？</td>\n    </tr>\n    <tr>\n      <th>4</th>\n      <td>4</td>\n      <td>这套房源价格还有优惠空间吗？</td>\n    </tr>\n  </tbody>\n</table>\n</div>"
     },
     "metadata": {},
     "execution_count": 8
    }
   ],
   "source": [
    "train_query.head()"
   ]
  },
  {
   "cell_type": "code",
   "execution_count": 9,
   "metadata": {},
   "outputs": [
    {
     "output_type": "execute_result",
     "data": {
      "text/plain": [
       "   id        q1  id_sub                           q2  label\n",
       "0   0  采荷一小是分校吧       0  杭州市采荷第一小学钱江苑校区，杭州市钱江新城实验学校。      1\n",
       "1   0  采荷一小是分校吧       1                           是的      0\n",
       "2   0  采荷一小是分校吧       2                         这是5楼      0\n",
       "3   1      毛坯吗？       0                   因为公积金贷款贷的少      0\n",
       "4   1      毛坯吗？       1                           是呢      0"
      ],
      "text/html": "<div>\n<style scoped>\n    .dataframe tbody tr th:only-of-type {\n        vertical-align: middle;\n    }\n\n    .dataframe tbody tr th {\n        vertical-align: top;\n    }\n\n    .dataframe thead th {\n        text-align: right;\n    }\n</style>\n<table border=\"1\" class=\"dataframe\">\n  <thead>\n    <tr style=\"text-align: right;\">\n      <th></th>\n      <th>id</th>\n      <th>q1</th>\n      <th>id_sub</th>\n      <th>q2</th>\n      <th>label</th>\n    </tr>\n  </thead>\n  <tbody>\n    <tr>\n      <th>0</th>\n      <td>0</td>\n      <td>采荷一小是分校吧</td>\n      <td>0</td>\n      <td>杭州市采荷第一小学钱江苑校区，杭州市钱江新城实验学校。</td>\n      <td>1</td>\n    </tr>\n    <tr>\n      <th>1</th>\n      <td>0</td>\n      <td>采荷一小是分校吧</td>\n      <td>1</td>\n      <td>是的</td>\n      <td>0</td>\n    </tr>\n    <tr>\n      <th>2</th>\n      <td>0</td>\n      <td>采荷一小是分校吧</td>\n      <td>2</td>\n      <td>这是5楼</td>\n      <td>0</td>\n    </tr>\n    <tr>\n      <th>3</th>\n      <td>1</td>\n      <td>毛坯吗？</td>\n      <td>0</td>\n      <td>因为公积金贷款贷的少</td>\n      <td>0</td>\n    </tr>\n    <tr>\n      <th>4</th>\n      <td>1</td>\n      <td>毛坯吗？</td>\n      <td>1</td>\n      <td>是呢</td>\n      <td>0</td>\n    </tr>\n  </tbody>\n</table>\n</div>"
     },
     "metadata": {},
     "execution_count": 9
    }
   ],
   "source": [
    "train_df.head()"
   ]
  },
  {
   "cell_type": "code",
   "execution_count": 10,
   "metadata": {},
   "outputs": [
    {
     "output_type": "stream",
     "name": "stdout",
     "text": [
      "训练集问题数量：6000，答案数量：21585\n测试集问题数量：14000，答案数量：53757\n"
     ]
    }
   ],
   "source": [
    "print(f'训练集问题数量：{len(train_query)}，答案数量：{len(train_reply)}')\n",
    "print(f'测试集问题数量：{len(test_query)}，答案数量：{len(test_reply)}')"
   ]
  },
  {
   "cell_type": "code",
   "execution_count": 11,
   "metadata": {},
   "outputs": [
    {
     "output_type": "stream",
     "name": "stdout",
     "text": [
      "训练集中正样本数量：5387，负样本数量：16198\n"
     ]
    }
   ],
   "source": [
    "num_label = [0, 0]\n",
    "for label in train_df['label']:\n",
    "    num_label[label] += 1\n",
    "print(f'训练集中正样本数量：{num_label[1]}，负样本数量：{num_label[0]}')"
   ]
  },
  {
   "cell_type": "code",
   "execution_count": 12,
   "metadata": {},
   "outputs": [],
   "source": [
    "# func = lambda x: bool(re.search('[是]', str(x)))\n",
    "# q1_bool = train_df['q1'].apply(func=func)\n",
    "# q2_bool = train_df['q2'].apply(func=func)"
   ]
  },
  {
   "cell_type": "code",
   "execution_count": 13,
   "metadata": {},
   "outputs": [],
   "source": [
    "# possible_df = train_df[train_df['q2'].apply(lambda x: bool(re.search('[是的]', str(x))))]\n",
    "# # possible_df = train_df[q1_bool & q2_bool] \n",
    "# possible_df.to_csv(RAW_DATA_PATH/'./train/train.possible.tsv',sep='\\t')"
   ]
  },
  {
   "cell_type": "code",
   "execution_count": 14,
   "metadata": {},
   "outputs": [],
   "source": [
    "q_length = train_query['q1'].apply(func=lambda x: len(x)).sort_values()\n",
    "a_length = train_reply['q2'].apply(func=lambda x: len(str(x))).sort_values()"
   ]
  },
  {
   "cell_type": "code",
   "execution_count": 15,
   "metadata": {},
   "outputs": [
    {
     "output_type": "stream",
     "name": "stdout",
     "text": [
      "#question: 6000, #answer: 21585\n问题和回答的长度分布：\n"
     ]
    },
    {
     "output_type": "display_data",
     "data": {
      "text/plain": "<Figure size 432x288 with 2 Axes>",
      "image/svg+xml": "<?xml version=\"1.0\" encoding=\"utf-8\" standalone=\"no\"?>\n<!DOCTYPE svg PUBLIC \"-//W3C//DTD SVG 1.1//EN\"\n  \"http://www.w3.org/Graphics/SVG/1.1/DTD/svg11.dtd\">\n<!-- Created with matplotlib (https://matplotlib.org/) -->\n<svg height=\"248.518125pt\" version=\"1.1\" viewBox=\"0 0 375.188983 248.518125\" width=\"375.188983pt\" xmlns=\"http://www.w3.org/2000/svg\" xmlns:xlink=\"http://www.w3.org/1999/xlink\">\n <defs>\n  <style type=\"text/css\">\n*{stroke-linecap:butt;stroke-linejoin:round;}\n  </style>\n </defs>\n <g id=\"figure_1\">\n  <g id=\"patch_1\">\n   <path d=\"M 0 248.518125 \nL 375.188983 248.518125 \nL 375.188983 0 \nL 0 0 \nz\n\" style=\"fill:none;\"/>\n  </g>\n  <g id=\"axes_1\">\n   <g id=\"patch_2\">\n    <path d=\"M 30.103125 224.64 \nL 182.284943 224.64 \nL 182.284943 7.2 \nL 30.103125 7.2 \nz\n\" style=\"fill:#ffffff;\"/>\n   </g>\n   <g id=\"patch_3\">\n    <path clip-path=\"url(#pe0772dbc21)\" d=\"M 37.02048 224.64 \nL 43.937836 224.64 \nL 43.937836 213.537421 \nL 37.02048 213.537421 \nz\n\" style=\"fill:#1f77b4;\"/>\n   </g>\n   <g id=\"patch_4\">\n    <path clip-path=\"url(#pe0772dbc21)\" d=\"M 43.937836 224.64 \nL 50.855191 224.64 \nL 50.855191 197.248999 \nL 43.937836 197.248999 \nz\n\" style=\"fill:#1f77b4;\"/>\n   </g>\n   <g id=\"patch_5\">\n    <path clip-path=\"url(#pe0772dbc21)\" d=\"M 50.855191 224.64 \nL 57.772546 224.64 \nL 57.772546 175.009037 \nL 50.855191 175.009037 \nz\n\" style=\"fill:#1f77b4;\"/>\n   </g>\n   <g id=\"patch_6\">\n    <path clip-path=\"url(#pe0772dbc21)\" d=\"M 57.772546 224.64 \nL 64.689902 224.64 \nL 64.689902 151.063664 \nL 57.772546 151.063664 \nz\n\" style=\"fill:#1f77b4;\"/>\n   </g>\n   <g id=\"patch_7\">\n    <path clip-path=\"url(#pe0772dbc21)\" d=\"M 64.689902 224.64 \nL 71.607257 224.64 \nL 71.607257 129.798223 \nL 64.689902 129.798223 \nz\n\" style=\"fill:#1f77b4;\"/>\n   </g>\n   <g id=\"patch_8\">\n    <path clip-path=\"url(#pe0772dbc21)\" d=\"M 71.607257 224.64 \nL 78.524613 224.64 \nL 78.524613 110.969085 \nL 71.607257 110.969085 \nz\n\" style=\"fill:#1f77b4;\"/>\n   </g>\n   <g id=\"patch_9\">\n    <path clip-path=\"url(#pe0772dbc21)\" d=\"M 78.524613 224.64 \nL 85.441968 224.64 \nL 85.441968 95.829205 \nL 78.524613 95.829205 \nz\n\" style=\"fill:#1f77b4;\"/>\n   </g>\n   <g id=\"patch_10\">\n    <path clip-path=\"url(#pe0772dbc21)\" d=\"M 85.441968 224.64 \nL 92.359323 224.64 \nL 92.359323 75.781916 \nL 85.441968 75.781916 \nz\n\" style=\"fill:#1f77b4;\"/>\n   </g>\n   <g id=\"patch_11\">\n    <path clip-path=\"url(#pe0772dbc21)\" d=\"M 92.359323 224.64 \nL 99.276679 224.64 \nL 99.276679 66.732792 \nL 92.359323 66.732792 \nz\n\" style=\"fill:#1f77b4;\"/>\n   </g>\n   <g id=\"patch_12\">\n    <path clip-path=\"url(#pe0772dbc21)\" d=\"M 99.276679 224.64 \nL 106.194034 224.64 \nL 106.194034 59.075842 \nL 99.276679 59.075842 \nz\n\" style=\"fill:#1f77b4;\"/>\n   </g>\n   <g id=\"patch_13\">\n    <path clip-path=\"url(#pe0772dbc21)\" d=\"M 106.194034 224.64 \nL 113.111389 224.64 \nL 113.111389 40.94279 \nL 106.194034 40.94279 \nz\n\" style=\"fill:#1f77b4;\"/>\n   </g>\n   <g id=\"patch_14\">\n    <path clip-path=\"url(#pe0772dbc21)\" d=\"M 113.111389 224.64 \nL 120.028745 224.64 \nL 120.028745 36.83588 \nL 113.111389 36.83588 \nz\n\" style=\"fill:#1f77b4;\"/>\n   </g>\n   <g id=\"patch_15\">\n    <path clip-path=\"url(#pe0772dbc21)\" d=\"M 120.028745 224.64 \nL 126.9461 224.64 \nL 126.9461 32.067688 \nL 120.028745 32.067688 \nz\n\" style=\"fill:#1f77b4;\"/>\n   </g>\n   <g id=\"patch_16\">\n    <path clip-path=\"url(#pe0772dbc21)\" d=\"M 126.9461 224.64 \nL 133.863456 224.64 \nL 133.863456 24.02789 \nL 126.9461 24.02789 \nz\n\" style=\"fill:#1f77b4;\"/>\n   </g>\n   <g id=\"patch_17\">\n    <path clip-path=\"url(#pe0772dbc21)\" d=\"M 133.863456 224.64 \nL 140.780811 224.64 \nL 140.780811 22.322478 \nL 133.863456 22.322478 \nz\n\" style=\"fill:#1f77b4;\"/>\n   </g>\n   <g id=\"patch_18\">\n    <path clip-path=\"url(#pe0772dbc21)\" d=\"M 140.780811 224.64 \nL 147.698166 224.64 \nL 147.698166 21.313152 \nL 140.780811 21.313152 \nz\n\" style=\"fill:#1f77b4;\"/>\n   </g>\n   <g id=\"patch_19\">\n    <path clip-path=\"url(#pe0772dbc21)\" d=\"M 147.698166 224.64 \nL 154.615522 224.64 \nL 154.615522 20.199414 \nL 147.698166 20.199414 \nz\n\" style=\"fill:#1f77b4;\"/>\n   </g>\n   <g id=\"patch_20\">\n    <path clip-path=\"url(#pe0772dbc21)\" d=\"M 154.615522 224.64 \nL 161.532877 224.64 \nL 161.532877 19.642545 \nL 154.615522 19.642545 \nz\n\" style=\"fill:#1f77b4;\"/>\n   </g>\n   <g id=\"patch_21\">\n    <path clip-path=\"url(#pe0772dbc21)\" d=\"M 161.532877 224.64 \nL 168.450232 224.64 \nL 168.450232 19.12048 \nL 161.532877 19.12048 \nz\n\" style=\"fill:#1f77b4;\"/>\n   </g>\n   <g id=\"patch_22\">\n    <path clip-path=\"url(#pe0772dbc21)\" d=\"M 168.450232 224.64 \nL 175.367588 224.64 \nL 175.367588 17.554286 \nL 168.450232 17.554286 \nz\n\" style=\"fill:#1f77b4;\"/>\n   </g>\n   <g id=\"matplotlib.axis_1\">\n    <g id=\"xtick_1\">\n     <g id=\"line2d_1\">\n      <defs>\n       <path d=\"M 0 0 \nL 0 3.5 \n\" id=\"m7bbbef0465\" style=\"stroke:#000000;stroke-width:0.8;\"/>\n      </defs>\n      <g>\n       <use style=\"stroke:#000000;stroke-width:0.8;\" x=\"55.885995\" xlink:href=\"#m7bbbef0465\" y=\"224.64\"/>\n      </g>\n     </g>\n     <g id=\"text_1\">\n      <!-- 5 -->\n      <defs>\n       <path d=\"M 10.796875 72.90625 \nL 49.515625 72.90625 \nL 49.515625 64.59375 \nL 19.828125 64.59375 \nL 19.828125 46.734375 \nQ 21.96875 47.46875 24.109375 47.828125 \nQ 26.265625 48.1875 28.421875 48.1875 \nQ 40.625 48.1875 47.75 41.5 \nQ 54.890625 34.8125 54.890625 23.390625 \nQ 54.890625 11.625 47.5625 5.09375 \nQ 40.234375 -1.421875 26.90625 -1.421875 \nQ 22.3125 -1.421875 17.546875 -0.640625 \nQ 12.796875 0.140625 7.71875 1.703125 \nL 7.71875 11.625 \nQ 12.109375 9.234375 16.796875 8.0625 \nQ 21.484375 6.890625 26.703125 6.890625 \nQ 35.15625 6.890625 40.078125 11.328125 \nQ 45.015625 15.765625 45.015625 23.390625 \nQ 45.015625 31 40.078125 35.4375 \nQ 35.15625 39.890625 26.703125 39.890625 \nQ 22.75 39.890625 18.8125 39.015625 \nQ 14.890625 38.140625 10.796875 36.28125 \nz\n\" id=\"DejaVuSans-53\"/>\n      </defs>\n      <g transform=\"translate(52.704745 239.238437)scale(0.1 -0.1)\">\n       <use xlink:href=\"#DejaVuSans-53\"/>\n      </g>\n     </g>\n    </g>\n    <g id=\"xtick_2\">\n     <g id=\"line2d_2\">\n      <g>\n       <use style=\"stroke:#000000;stroke-width:0.8;\" x=\"87.328519\" xlink:href=\"#m7bbbef0465\" y=\"224.64\"/>\n      </g>\n     </g>\n     <g id=\"text_2\">\n      <!-- 10 -->\n      <defs>\n       <path d=\"M 12.40625 8.296875 \nL 28.515625 8.296875 \nL 28.515625 63.921875 \nL 10.984375 60.40625 \nL 10.984375 69.390625 \nL 28.421875 72.90625 \nL 38.28125 72.90625 \nL 38.28125 8.296875 \nL 54.390625 8.296875 \nL 54.390625 0 \nL 12.40625 0 \nz\n\" id=\"DejaVuSans-49\"/>\n       <path d=\"M 31.78125 66.40625 \nQ 24.171875 66.40625 20.328125 58.90625 \nQ 16.5 51.421875 16.5 36.375 \nQ 16.5 21.390625 20.328125 13.890625 \nQ 24.171875 6.390625 31.78125 6.390625 \nQ 39.453125 6.390625 43.28125 13.890625 \nQ 47.125 21.390625 47.125 36.375 \nQ 47.125 51.421875 43.28125 58.90625 \nQ 39.453125 66.40625 31.78125 66.40625 \nz\nM 31.78125 74.21875 \nQ 44.046875 74.21875 50.515625 64.515625 \nQ 56.984375 54.828125 56.984375 36.375 \nQ 56.984375 17.96875 50.515625 8.265625 \nQ 44.046875 -1.421875 31.78125 -1.421875 \nQ 19.53125 -1.421875 13.0625 8.265625 \nQ 6.59375 17.96875 6.59375 36.375 \nQ 6.59375 54.828125 13.0625 64.515625 \nQ 19.53125 74.21875 31.78125 74.21875 \nz\n\" id=\"DejaVuSans-48\"/>\n      </defs>\n      <g transform=\"translate(80.966019 239.238437)scale(0.1 -0.1)\">\n       <use xlink:href=\"#DejaVuSans-49\"/>\n       <use x=\"63.623047\" xlink:href=\"#DejaVuSans-48\"/>\n      </g>\n     </g>\n    </g>\n    <g id=\"xtick_3\">\n     <g id=\"line2d_3\">\n      <g>\n       <use style=\"stroke:#000000;stroke-width:0.8;\" x=\"118.771044\" xlink:href=\"#m7bbbef0465\" y=\"224.64\"/>\n      </g>\n     </g>\n     <g id=\"text_3\">\n      <!-- 15 -->\n      <g transform=\"translate(112.408544 239.238437)scale(0.1 -0.1)\">\n       <use xlink:href=\"#DejaVuSans-49\"/>\n       <use x=\"63.623047\" xlink:href=\"#DejaVuSans-53\"/>\n      </g>\n     </g>\n    </g>\n    <g id=\"xtick_4\">\n     <g id=\"line2d_4\">\n      <g>\n       <use style=\"stroke:#000000;stroke-width:0.8;\" x=\"150.213568\" xlink:href=\"#m7bbbef0465\" y=\"224.64\"/>\n      </g>\n     </g>\n     <g id=\"text_4\">\n      <!-- 20 -->\n      <defs>\n       <path d=\"M 19.1875 8.296875 \nL 53.609375 8.296875 \nL 53.609375 0 \nL 7.328125 0 \nL 7.328125 8.296875 \nQ 12.9375 14.109375 22.625 23.890625 \nQ 32.328125 33.6875 34.8125 36.53125 \nQ 39.546875 41.84375 41.421875 45.53125 \nQ 43.3125 49.21875 43.3125 52.78125 \nQ 43.3125 58.59375 39.234375 62.25 \nQ 35.15625 65.921875 28.609375 65.921875 \nQ 23.96875 65.921875 18.8125 64.3125 \nQ 13.671875 62.703125 7.8125 59.421875 \nL 7.8125 69.390625 \nQ 13.765625 71.78125 18.9375 73 \nQ 24.125 74.21875 28.421875 74.21875 \nQ 39.75 74.21875 46.484375 68.546875 \nQ 53.21875 62.890625 53.21875 53.421875 \nQ 53.21875 48.921875 51.53125 44.890625 \nQ 49.859375 40.875 45.40625 35.40625 \nQ 44.1875 33.984375 37.640625 27.21875 \nQ 31.109375 20.453125 19.1875 8.296875 \nz\n\" id=\"DejaVuSans-50\"/>\n      </defs>\n      <g transform=\"translate(143.851068 239.238437)scale(0.1 -0.1)\">\n       <use xlink:href=\"#DejaVuSans-50\"/>\n       <use x=\"63.623047\" xlink:href=\"#DejaVuSans-48\"/>\n      </g>\n     </g>\n    </g>\n    <g id=\"xtick_5\">\n     <g id=\"line2d_5\">\n      <g>\n       <use style=\"stroke:#000000;stroke-width:0.8;\" x=\"181.656093\" xlink:href=\"#m7bbbef0465\" y=\"224.64\"/>\n      </g>\n     </g>\n     <g id=\"text_5\">\n      <!-- 25 -->\n      <g transform=\"translate(175.293593 239.238437)scale(0.1 -0.1)\">\n       <use xlink:href=\"#DejaVuSans-50\"/>\n       <use x=\"63.623047\" xlink:href=\"#DejaVuSans-53\"/>\n      </g>\n     </g>\n    </g>\n   </g>\n   <g id=\"matplotlib.axis_2\">\n    <g id=\"ytick_1\">\n     <g id=\"line2d_6\">\n      <defs>\n       <path d=\"M 0 0 \nL -3.5 0 \n\" id=\"ma7e03f11a5\" style=\"stroke:#000000;stroke-width:0.8;\"/>\n      </defs>\n      <g>\n       <use style=\"stroke:#000000;stroke-width:0.8;\" x=\"30.103125\" xlink:href=\"#ma7e03f11a5\" y=\"224.64\"/>\n      </g>\n     </g>\n     <g id=\"text_6\">\n      <!-- 0.0 -->\n      <defs>\n       <path d=\"M 10.6875 12.40625 \nL 21 12.40625 \nL 21 0 \nL 10.6875 0 \nz\n\" id=\"DejaVuSans-46\"/>\n      </defs>\n      <g transform=\"translate(7.2 228.439219)scale(0.1 -0.1)\">\n       <use xlink:href=\"#DejaVuSans-48\"/>\n       <use x=\"63.623047\" xlink:href=\"#DejaVuSans-46\"/>\n       <use x=\"95.410156\" xlink:href=\"#DejaVuSans-48\"/>\n      </g>\n     </g>\n    </g>\n    <g id=\"ytick_2\">\n     <g id=\"line2d_7\">\n      <g>\n       <use style=\"stroke:#000000;stroke-width:0.8;\" x=\"30.103125\" xlink:href=\"#ma7e03f11a5\" y=\"183.222857\"/>\n      </g>\n     </g>\n     <g id=\"text_7\">\n      <!-- 0.2 -->\n      <g transform=\"translate(7.2 187.022076)scale(0.1 -0.1)\">\n       <use xlink:href=\"#DejaVuSans-48\"/>\n       <use x=\"63.623047\" xlink:href=\"#DejaVuSans-46\"/>\n       <use x=\"95.410156\" xlink:href=\"#DejaVuSans-50\"/>\n      </g>\n     </g>\n    </g>\n    <g id=\"ytick_3\">\n     <g id=\"line2d_8\">\n      <g>\n       <use style=\"stroke:#000000;stroke-width:0.8;\" x=\"30.103125\" xlink:href=\"#ma7e03f11a5\" y=\"141.805714\"/>\n      </g>\n     </g>\n     <g id=\"text_8\">\n      <!-- 0.4 -->\n      <defs>\n       <path d=\"M 37.796875 64.3125 \nL 12.890625 25.390625 \nL 37.796875 25.390625 \nz\nM 35.203125 72.90625 \nL 47.609375 72.90625 \nL 47.609375 25.390625 \nL 58.015625 25.390625 \nL 58.015625 17.1875 \nL 47.609375 17.1875 \nL 47.609375 0 \nL 37.796875 0 \nL 37.796875 17.1875 \nL 4.890625 17.1875 \nL 4.890625 26.703125 \nz\n\" id=\"DejaVuSans-52\"/>\n      </defs>\n      <g transform=\"translate(7.2 145.604933)scale(0.1 -0.1)\">\n       <use xlink:href=\"#DejaVuSans-48\"/>\n       <use x=\"63.623047\" xlink:href=\"#DejaVuSans-46\"/>\n       <use x=\"95.410156\" xlink:href=\"#DejaVuSans-52\"/>\n      </g>\n     </g>\n    </g>\n    <g id=\"ytick_4\">\n     <g id=\"line2d_9\">\n      <g>\n       <use style=\"stroke:#000000;stroke-width:0.8;\" x=\"30.103125\" xlink:href=\"#ma7e03f11a5\" y=\"100.388571\"/>\n      </g>\n     </g>\n     <g id=\"text_9\">\n      <!-- 0.6 -->\n      <defs>\n       <path d=\"M 33.015625 40.375 \nQ 26.375 40.375 22.484375 35.828125 \nQ 18.609375 31.296875 18.609375 23.390625 \nQ 18.609375 15.53125 22.484375 10.953125 \nQ 26.375 6.390625 33.015625 6.390625 \nQ 39.65625 6.390625 43.53125 10.953125 \nQ 47.40625 15.53125 47.40625 23.390625 \nQ 47.40625 31.296875 43.53125 35.828125 \nQ 39.65625 40.375 33.015625 40.375 \nz\nM 52.59375 71.296875 \nL 52.59375 62.3125 \nQ 48.875 64.0625 45.09375 64.984375 \nQ 41.3125 65.921875 37.59375 65.921875 \nQ 27.828125 65.921875 22.671875 59.328125 \nQ 17.53125 52.734375 16.796875 39.40625 \nQ 19.671875 43.65625 24.015625 45.921875 \nQ 28.375 48.1875 33.59375 48.1875 \nQ 44.578125 48.1875 50.953125 41.515625 \nQ 57.328125 34.859375 57.328125 23.390625 \nQ 57.328125 12.15625 50.6875 5.359375 \nQ 44.046875 -1.421875 33.015625 -1.421875 \nQ 20.359375 -1.421875 13.671875 8.265625 \nQ 6.984375 17.96875 6.984375 36.375 \nQ 6.984375 53.65625 15.1875 63.9375 \nQ 23.390625 74.21875 37.203125 74.21875 \nQ 40.921875 74.21875 44.703125 73.484375 \nQ 48.484375 72.75 52.59375 71.296875 \nz\n\" id=\"DejaVuSans-54\"/>\n      </defs>\n      <g transform=\"translate(7.2 104.18779)scale(0.1 -0.1)\">\n       <use xlink:href=\"#DejaVuSans-48\"/>\n       <use x=\"63.623047\" xlink:href=\"#DejaVuSans-46\"/>\n       <use x=\"95.410156\" xlink:href=\"#DejaVuSans-54\"/>\n      </g>\n     </g>\n    </g>\n    <g id=\"ytick_5\">\n     <g id=\"line2d_10\">\n      <g>\n       <use style=\"stroke:#000000;stroke-width:0.8;\" x=\"30.103125\" xlink:href=\"#ma7e03f11a5\" y=\"58.971429\"/>\n      </g>\n     </g>\n     <g id=\"text_10\">\n      <!-- 0.8 -->\n      <defs>\n       <path d=\"M 31.78125 34.625 \nQ 24.75 34.625 20.71875 30.859375 \nQ 16.703125 27.09375 16.703125 20.515625 \nQ 16.703125 13.921875 20.71875 10.15625 \nQ 24.75 6.390625 31.78125 6.390625 \nQ 38.8125 6.390625 42.859375 10.171875 \nQ 46.921875 13.96875 46.921875 20.515625 \nQ 46.921875 27.09375 42.890625 30.859375 \nQ 38.875 34.625 31.78125 34.625 \nz\nM 21.921875 38.8125 \nQ 15.578125 40.375 12.03125 44.71875 \nQ 8.5 49.078125 8.5 55.328125 \nQ 8.5 64.0625 14.71875 69.140625 \nQ 20.953125 74.21875 31.78125 74.21875 \nQ 42.671875 74.21875 48.875 69.140625 \nQ 55.078125 64.0625 55.078125 55.328125 \nQ 55.078125 49.078125 51.53125 44.71875 \nQ 48 40.375 41.703125 38.8125 \nQ 48.828125 37.15625 52.796875 32.3125 \nQ 56.78125 27.484375 56.78125 20.515625 \nQ 56.78125 9.90625 50.3125 4.234375 \nQ 43.84375 -1.421875 31.78125 -1.421875 \nQ 19.734375 -1.421875 13.25 4.234375 \nQ 6.78125 9.90625 6.78125 20.515625 \nQ 6.78125 27.484375 10.78125 32.3125 \nQ 14.796875 37.15625 21.921875 38.8125 \nz\nM 18.3125 54.390625 \nQ 18.3125 48.734375 21.84375 45.5625 \nQ 25.390625 42.390625 31.78125 42.390625 \nQ 38.140625 42.390625 41.71875 45.5625 \nQ 45.3125 48.734375 45.3125 54.390625 \nQ 45.3125 60.0625 41.71875 63.234375 \nQ 38.140625 66.40625 31.78125 66.40625 \nQ 25.390625 66.40625 21.84375 63.234375 \nQ 18.3125 60.0625 18.3125 54.390625 \nz\n\" id=\"DejaVuSans-56\"/>\n      </defs>\n      <g transform=\"translate(7.2 62.770647)scale(0.1 -0.1)\">\n       <use xlink:href=\"#DejaVuSans-48\"/>\n       <use x=\"63.623047\" xlink:href=\"#DejaVuSans-46\"/>\n       <use x=\"95.410156\" xlink:href=\"#DejaVuSans-56\"/>\n      </g>\n     </g>\n    </g>\n    <g id=\"ytick_6\">\n     <g id=\"line2d_11\">\n      <g>\n       <use style=\"stroke:#000000;stroke-width:0.8;\" x=\"30.103125\" xlink:href=\"#ma7e03f11a5\" y=\"17.554286\"/>\n      </g>\n     </g>\n     <g id=\"text_11\">\n      <!-- 1.0 -->\n      <g transform=\"translate(7.2 21.353504)scale(0.1 -0.1)\">\n       <use xlink:href=\"#DejaVuSans-49\"/>\n       <use x=\"63.623047\" xlink:href=\"#DejaVuSans-46\"/>\n       <use x=\"95.410156\" xlink:href=\"#DejaVuSans-48\"/>\n      </g>\n     </g>\n    </g>\n   </g>\n   <g id=\"patch_23\">\n    <path d=\"M 30.103125 224.64 \nL 30.103125 7.2 \n\" style=\"fill:none;stroke:#000000;stroke-linecap:square;stroke-linejoin:miter;stroke-width:0.8;\"/>\n   </g>\n   <g id=\"patch_24\">\n    <path d=\"M 182.284943 224.64 \nL 182.284943 7.2 \n\" style=\"fill:none;stroke:#000000;stroke-linecap:square;stroke-linejoin:miter;stroke-width:0.8;\"/>\n   </g>\n   <g id=\"patch_25\">\n    <path d=\"M 30.103125 224.64 \nL 182.284943 224.64 \n\" style=\"fill:none;stroke:#000000;stroke-linecap:square;stroke-linejoin:miter;stroke-width:0.8;\"/>\n   </g>\n   <g id=\"patch_26\">\n    <path d=\"M 30.103125 7.2 \nL 182.284943 7.2 \n\" style=\"fill:none;stroke:#000000;stroke-linecap:square;stroke-linejoin:miter;stroke-width:0.8;\"/>\n   </g>\n  </g>\n  <g id=\"axes_2\">\n   <g id=\"patch_27\">\n    <path d=\"M 212.721307 224.64 \nL 364.903125 224.64 \nL 364.903125 7.2 \nL 212.721307 7.2 \nz\n\" style=\"fill:#ffffff;\"/>\n   </g>\n   <g id=\"patch_28\">\n    <path clip-path=\"url(#p12585eb89e)\" d=\"M 219.638662 224.64 \nL 226.556018 224.64 \nL 226.556018 194.242548 \nL 219.638662 194.242548 \nz\n\" style=\"fill:#1f77b4;\"/>\n   </g>\n   <g id=\"patch_29\">\n    <path clip-path=\"url(#p12585eb89e)\" d=\"M 226.556018 224.64 \nL 233.473373 224.64 \nL 233.473373 166.712965 \nL 226.556018 166.712965 \nz\n\" style=\"fill:#1f77b4;\"/>\n   </g>\n   <g id=\"patch_30\">\n    <path clip-path=\"url(#p12585eb89e)\" d=\"M 233.473373 224.64 \nL 240.390728 224.64 \nL 240.390728 136.384262 \nL 233.473373 136.384262 \nz\n\" style=\"fill:#1f77b4;\"/>\n   </g>\n   <g id=\"patch_31\">\n    <path clip-path=\"url(#p12585eb89e)\" d=\"M 240.390728 224.64 \nL 247.308084 224.64 \nL 247.308084 107.636817 \nL 240.390728 107.636817 \nz\n\" style=\"fill:#1f77b4;\"/>\n   </g>\n   <g id=\"patch_32\">\n    <path clip-path=\"url(#p12585eb89e)\" d=\"M 247.308084 224.64 \nL 254.225439 224.64 \nL 254.225439 84.831361 \nL 247.308084 84.831361 \nz\n\" style=\"fill:#1f77b4;\"/>\n   </g>\n   <g id=\"patch_33\">\n    <path clip-path=\"url(#p12585eb89e)\" d=\"M 254.225439 224.64 \nL 261.142794 224.64 \nL 261.142794 68.223254 \nL 254.225439 68.223254 \nz\n\" style=\"fill:#1f77b4;\"/>\n   </g>\n   <g id=\"patch_34\">\n    <path clip-path=\"url(#p12585eb89e)\" d=\"M 261.142794 224.64 \nL 268.06015 224.64 \nL 268.06015 55.946416 \nL 261.142794 55.946416 \nz\n\" style=\"fill:#1f77b4;\"/>\n   </g>\n   <g id=\"patch_35\">\n    <path clip-path=\"url(#p12585eb89e)\" d=\"M 268.06015 224.64 \nL 274.977505 224.64 \nL 274.977505 47.018698 \nL 268.06015 47.018698 \nz\n\" style=\"fill:#1f77b4;\"/>\n   </g>\n   <g id=\"patch_36\">\n    <path clip-path=\"url(#p12585eb89e)\" d=\"M 274.977505 224.64 \nL 281.894861 224.64 \nL 281.894861 40.241884 \nL 274.977505 40.241884 \nz\n\" style=\"fill:#1f77b4;\"/>\n   </g>\n   <g id=\"patch_37\">\n    <path clip-path=\"url(#p12585eb89e)\" d=\"M 281.894861 224.64 \nL 288.812216 224.64 \nL 288.812216 37.491872 \nL 281.894861 37.491872 \nz\n\" style=\"fill:#1f77b4;\"/>\n   </g>\n   <g id=\"patch_38\">\n    <path clip-path=\"url(#p12585eb89e)\" d=\"M 288.812216 224.64 \nL 295.729571 224.64 \nL 295.729571 33.023102 \nL 288.812216 33.023102 \nz\n\" style=\"fill:#1f77b4;\"/>\n   </g>\n   <g id=\"patch_39\">\n    <path clip-path=\"url(#p12585eb89e)\" d=\"M 295.729571 224.64 \nL 302.646927 224.64 \nL 302.646927 29.281122 \nL 295.729571 29.281122 \nz\n\" style=\"fill:#1f77b4;\"/>\n   </g>\n   <g id=\"patch_40\">\n    <path clip-path=\"url(#p12585eb89e)\" d=\"M 302.646927 224.64 \nL 309.564282 224.64 \nL 309.564282 26.86504 \nL 302.646927 26.86504 \nz\n\" style=\"fill:#1f77b4;\"/>\n   </g>\n   <g id=\"patch_41\">\n    <path clip-path=\"url(#p12585eb89e)\" d=\"M 309.564282 224.64 \nL 316.481637 224.64 \nL 316.481637 24.223064 \nL 309.564282 24.223064 \nz\n\" style=\"fill:#1f77b4;\"/>\n   </g>\n   <g id=\"patch_42\">\n    <path clip-path=\"url(#p12585eb89e)\" d=\"M 316.481637 224.64 \nL 323.398993 224.64 \nL 323.398993 22.651629 \nL 316.481637 22.651629 \nz\n\" style=\"fill:#1f77b4;\"/>\n   </g>\n   <g id=\"patch_43\">\n    <path clip-path=\"url(#p12585eb89e)\" d=\"M 323.398993 224.64 \nL 330.316348 224.64 \nL 330.316348 21.080194 \nL 323.398993 21.080194 \nz\n\" style=\"fill:#1f77b4;\"/>\n   </g>\n   <g id=\"patch_44\">\n    <path clip-path=\"url(#p12585eb89e)\" d=\"M 330.316348 224.64 \nL 337.233704 224.64 \nL 337.233704 19.705188 \nL 330.316348 19.705188 \nz\n\" style=\"fill:#1f77b4;\"/>\n   </g>\n   <g id=\"patch_45\">\n    <path clip-path=\"url(#p12585eb89e)\" d=\"M 337.233704 224.64 \nL 344.151059 224.64 \nL 344.151059 18.693576 \nL 337.233704 18.693576 \nz\n\" style=\"fill:#1f77b4;\"/>\n   </g>\n   <g id=\"patch_46\">\n    <path clip-path=\"url(#p12585eb89e)\" d=\"M 344.151059 224.64 \nL 351.068414 224.64 \nL 351.068414 17.84893 \nL 344.151059 17.84893 \nz\n\" style=\"fill:#1f77b4;\"/>\n   </g>\n   <g id=\"patch_47\">\n    <path clip-path=\"url(#p12585eb89e)\" d=\"M 351.068414 224.64 \nL 357.98577 224.64 \nL 357.98577 17.554286 \nL 351.068414 17.554286 \nz\n\" style=\"fill:#1f77b4;\"/>\n   </g>\n   <g id=\"matplotlib.axis_3\">\n    <g id=\"xtick_6\">\n     <g id=\"line2d_12\">\n      <g>\n       <use style=\"stroke:#000000;stroke-width:0.8;\" x=\"215.997949\" xlink:href=\"#m7bbbef0465\" y=\"224.64\"/>\n      </g>\n     </g>\n     <g id=\"text_12\">\n      <!-- 0 -->\n      <g transform=\"translate(212.816699 239.238437)scale(0.1 -0.1)\">\n       <use xlink:href=\"#DejaVuSans-48\"/>\n      </g>\n     </g>\n    </g>\n    <g id=\"xtick_7\">\n     <g id=\"line2d_13\">\n      <g>\n       <use style=\"stroke:#000000;stroke-width:0.8;\" x=\"252.405082\" xlink:href=\"#m7bbbef0465\" y=\"224.64\"/>\n      </g>\n     </g>\n     <g id=\"text_13\">\n      <!-- 10 -->\n      <g transform=\"translate(246.042582 239.238437)scale(0.1 -0.1)\">\n       <use xlink:href=\"#DejaVuSans-49\"/>\n       <use x=\"63.623047\" xlink:href=\"#DejaVuSans-48\"/>\n      </g>\n     </g>\n    </g>\n    <g id=\"xtick_8\">\n     <g id=\"line2d_14\">\n      <g>\n       <use style=\"stroke:#000000;stroke-width:0.8;\" x=\"288.812216\" xlink:href=\"#m7bbbef0465\" y=\"224.64\"/>\n      </g>\n     </g>\n     <g id=\"text_14\">\n      <!-- 20 -->\n      <g transform=\"translate(282.449716 239.238437)scale(0.1 -0.1)\">\n       <use xlink:href=\"#DejaVuSans-50\"/>\n       <use x=\"63.623047\" xlink:href=\"#DejaVuSans-48\"/>\n      </g>\n     </g>\n    </g>\n    <g id=\"xtick_9\">\n     <g id=\"line2d_15\">\n      <g>\n       <use style=\"stroke:#000000;stroke-width:0.8;\" x=\"325.219349\" xlink:href=\"#m7bbbef0465\" y=\"224.64\"/>\n      </g>\n     </g>\n     <g id=\"text_15\">\n      <!-- 30 -->\n      <defs>\n       <path d=\"M 40.578125 39.3125 \nQ 47.65625 37.796875 51.625 33 \nQ 55.609375 28.21875 55.609375 21.1875 \nQ 55.609375 10.40625 48.1875 4.484375 \nQ 40.765625 -1.421875 27.09375 -1.421875 \nQ 22.515625 -1.421875 17.65625 -0.515625 \nQ 12.796875 0.390625 7.625 2.203125 \nL 7.625 11.71875 \nQ 11.71875 9.328125 16.59375 8.109375 \nQ 21.484375 6.890625 26.8125 6.890625 \nQ 36.078125 6.890625 40.9375 10.546875 \nQ 45.796875 14.203125 45.796875 21.1875 \nQ 45.796875 27.640625 41.28125 31.265625 \nQ 36.765625 34.90625 28.71875 34.90625 \nL 20.21875 34.90625 \nL 20.21875 43.015625 \nL 29.109375 43.015625 \nQ 36.375 43.015625 40.234375 45.921875 \nQ 44.09375 48.828125 44.09375 54.296875 \nQ 44.09375 59.90625 40.109375 62.90625 \nQ 36.140625 65.921875 28.71875 65.921875 \nQ 24.65625 65.921875 20.015625 65.03125 \nQ 15.375 64.15625 9.8125 62.3125 \nL 9.8125 71.09375 \nQ 15.4375 72.65625 20.34375 73.4375 \nQ 25.25 74.21875 29.59375 74.21875 \nQ 40.828125 74.21875 47.359375 69.109375 \nQ 53.90625 64.015625 53.90625 55.328125 \nQ 53.90625 49.265625 50.4375 45.09375 \nQ 46.96875 40.921875 40.578125 39.3125 \nz\n\" id=\"DejaVuSans-51\"/>\n      </defs>\n      <g transform=\"translate(318.856849 239.238437)scale(0.1 -0.1)\">\n       <use xlink:href=\"#DejaVuSans-51\"/>\n       <use x=\"63.623047\" xlink:href=\"#DejaVuSans-48\"/>\n      </g>\n     </g>\n    </g>\n    <g id=\"xtick_10\">\n     <g id=\"line2d_16\">\n      <g>\n       <use style=\"stroke:#000000;stroke-width:0.8;\" x=\"361.626483\" xlink:href=\"#m7bbbef0465\" y=\"224.64\"/>\n      </g>\n     </g>\n     <g id=\"text_16\">\n      <!-- 40 -->\n      <g transform=\"translate(355.263983 239.238437)scale(0.1 -0.1)\">\n       <use xlink:href=\"#DejaVuSans-52\"/>\n       <use x=\"63.623047\" xlink:href=\"#DejaVuSans-48\"/>\n      </g>\n     </g>\n    </g>\n   </g>\n   <g id=\"matplotlib.axis_4\">\n    <g id=\"ytick_7\">\n     <g id=\"line2d_17\">\n      <g>\n       <use style=\"stroke:#000000;stroke-width:0.8;\" x=\"212.721307\" xlink:href=\"#ma7e03f11a5\" y=\"224.64\"/>\n      </g>\n     </g>\n     <g id=\"text_17\">\n      <!-- 0.0 -->\n      <g transform=\"translate(189.818182 228.439219)scale(0.1 -0.1)\">\n       <use xlink:href=\"#DejaVuSans-48\"/>\n       <use x=\"63.623047\" xlink:href=\"#DejaVuSans-46\"/>\n       <use x=\"95.410156\" xlink:href=\"#DejaVuSans-48\"/>\n      </g>\n     </g>\n    </g>\n    <g id=\"ytick_8\">\n     <g id=\"line2d_18\">\n      <g>\n       <use style=\"stroke:#000000;stroke-width:0.8;\" x=\"212.721307\" xlink:href=\"#ma7e03f11a5\" y=\"183.222857\"/>\n      </g>\n     </g>\n     <g id=\"text_18\">\n      <!-- 0.2 -->\n      <g transform=\"translate(189.818182 187.022076)scale(0.1 -0.1)\">\n       <use xlink:href=\"#DejaVuSans-48\"/>\n       <use x=\"63.623047\" xlink:href=\"#DejaVuSans-46\"/>\n       <use x=\"95.410156\" xlink:href=\"#DejaVuSans-50\"/>\n      </g>\n     </g>\n    </g>\n    <g id=\"ytick_9\">\n     <g id=\"line2d_19\">\n      <g>\n       <use style=\"stroke:#000000;stroke-width:0.8;\" x=\"212.721307\" xlink:href=\"#ma7e03f11a5\" y=\"141.805714\"/>\n      </g>\n     </g>\n     <g id=\"text_19\">\n      <!-- 0.4 -->\n      <g transform=\"translate(189.818182 145.604933)scale(0.1 -0.1)\">\n       <use xlink:href=\"#DejaVuSans-48\"/>\n       <use x=\"63.623047\" xlink:href=\"#DejaVuSans-46\"/>\n       <use x=\"95.410156\" xlink:href=\"#DejaVuSans-52\"/>\n      </g>\n     </g>\n    </g>\n    <g id=\"ytick_10\">\n     <g id=\"line2d_20\">\n      <g>\n       <use style=\"stroke:#000000;stroke-width:0.8;\" x=\"212.721307\" xlink:href=\"#ma7e03f11a5\" y=\"100.388571\"/>\n      </g>\n     </g>\n     <g id=\"text_20\">\n      <!-- 0.6 -->\n      <g transform=\"translate(189.818182 104.18779)scale(0.1 -0.1)\">\n       <use xlink:href=\"#DejaVuSans-48\"/>\n       <use x=\"63.623047\" xlink:href=\"#DejaVuSans-46\"/>\n       <use x=\"95.410156\" xlink:href=\"#DejaVuSans-54\"/>\n      </g>\n     </g>\n    </g>\n    <g id=\"ytick_11\">\n     <g id=\"line2d_21\">\n      <g>\n       <use style=\"stroke:#000000;stroke-width:0.8;\" x=\"212.721307\" xlink:href=\"#ma7e03f11a5\" y=\"58.971429\"/>\n      </g>\n     </g>\n     <g id=\"text_21\">\n      <!-- 0.8 -->\n      <g transform=\"translate(189.818182 62.770647)scale(0.1 -0.1)\">\n       <use xlink:href=\"#DejaVuSans-48\"/>\n       <use x=\"63.623047\" xlink:href=\"#DejaVuSans-46\"/>\n       <use x=\"95.410156\" xlink:href=\"#DejaVuSans-56\"/>\n      </g>\n     </g>\n    </g>\n    <g id=\"ytick_12\">\n     <g id=\"line2d_22\">\n      <g>\n       <use style=\"stroke:#000000;stroke-width:0.8;\" x=\"212.721307\" xlink:href=\"#ma7e03f11a5\" y=\"17.554286\"/>\n      </g>\n     </g>\n     <g id=\"text_22\">\n      <!-- 1.0 -->\n      <g transform=\"translate(189.818182 21.353504)scale(0.1 -0.1)\">\n       <use xlink:href=\"#DejaVuSans-49\"/>\n       <use x=\"63.623047\" xlink:href=\"#DejaVuSans-46\"/>\n       <use x=\"95.410156\" xlink:href=\"#DejaVuSans-48\"/>\n      </g>\n     </g>\n    </g>\n   </g>\n   <g id=\"patch_48\">\n    <path d=\"M 212.721307 224.64 \nL 212.721307 7.2 \n\" style=\"fill:none;stroke:#000000;stroke-linecap:square;stroke-linejoin:miter;stroke-width:0.8;\"/>\n   </g>\n   <g id=\"patch_49\">\n    <path d=\"M 364.903125 224.64 \nL 364.903125 7.2 \n\" style=\"fill:none;stroke:#000000;stroke-linecap:square;stroke-linejoin:miter;stroke-width:0.8;\"/>\n   </g>\n   <g id=\"patch_50\">\n    <path d=\"M 212.721307 224.64 \nL 364.903125 224.64 \n\" style=\"fill:none;stroke:#000000;stroke-linecap:square;stroke-linejoin:miter;stroke-width:0.8;\"/>\n   </g>\n   <g id=\"patch_51\">\n    <path d=\"M 212.721307 7.2 \nL 364.903125 7.2 \n\" style=\"fill:none;stroke:#000000;stroke-linecap:square;stroke-linejoin:miter;stroke-width:0.8;\"/>\n   </g>\n  </g>\n </g>\n <defs>\n  <clipPath id=\"pe0772dbc21\">\n   <rect height=\"217.44\" width=\"152.181818\" x=\"30.103125\" y=\"7.2\"/>\n  </clipPath>\n  <clipPath id=\"p12585eb89e\">\n   <rect height=\"217.44\" width=\"152.181818\" x=\"212.721307\" y=\"7.2\"/>\n  </clipPath>\n </defs>\n</svg>\n",
      "image/png": "[encoded data removed]"
     },
     "metadata": {
      "needs_background": "light"
     }
    }
   ],
   "source": [
    "print(f'#question: {len(train_query)}, #answer: {len(train_reply)}')\n",
    "print('问题和回答的长度分布：')\n",
    "plt.subplot(121)\n",
    "plt.hist(q_length[:-50], density=True, cumulative=True, bins=20)\n",
    "plt.subplot(122)\n",
    "plt.hist(a_length.sort_values()[:-500], density=True, cumulative=True, bins=20)\n",
    "plt.show()"
   ]
  },
  {
   "cell_type": "code",
   "execution_count": 16,
   "metadata": {},
   "outputs": [
    {
     "output_type": "display_data",
     "data": {
      "text/plain": "<Figure size 432x288 with 1 Axes>",
      "image/svg+xml": "<?xml version=\"1.0\" encoding=\"utf-8\" standalone=\"no\"?>\n<!DOCTYPE svg PUBLIC \"-//W3C//DTD SVG 1.1//EN\"\n  \"http://www.w3.org/Graphics/SVG/1.1/DTD/svg11.dtd\">\n<!-- Created with matplotlib (https://matplotlib.org/) -->\n<svg height=\"248.518125pt\" version=\"1.1\" viewBox=\"0 0 372.103125 248.518125\" width=\"372.103125pt\" xmlns=\"http://www.w3.org/2000/svg\" xmlns:xlink=\"http://www.w3.org/1999/xlink\">\n <defs>\n  <style type=\"text/css\">\n*{stroke-linecap:butt;stroke-linejoin:round;}\n  </style>\n </defs>\n <g id=\"figure_1\">\n  <g id=\"patch_1\">\n   <path d=\"M 0 248.518125 \nL 372.103125 248.518125 \nL 372.103125 0 \nL 0 0 \nz\n\" style=\"fill:none;\"/>\n  </g>\n  <g id=\"axes_1\">\n   <g id=\"patch_2\">\n    <path d=\"M 30.103125 224.64 \nL 364.903125 224.64 \nL 364.903125 7.2 \nL 30.103125 7.2 \nz\n\" style=\"fill:#ffffff;\"/>\n   </g>\n   <g id=\"patch_3\">\n    <path clip-path=\"url(#p1f6e76fc39)\" d=\"M 45.321307 224.64 \nL 60.539489 224.64 \nL 60.539489 203.527989 \nL 45.321307 203.527989 \nz\n\" style=\"fill:#1f77b4;\"/>\n   </g>\n   <g id=\"patch_4\">\n    <path clip-path=\"url(#p1f6e76fc39)\" d=\"M 60.539489 224.64 \nL 75.75767 224.64 \nL 75.75767 166.630932 \nL 60.539489 166.630932 \nz\n\" style=\"fill:#1f77b4;\"/>\n   </g>\n   <g id=\"patch_5\">\n    <path clip-path=\"url(#p1f6e76fc39)\" d=\"M 75.75767 224.64 \nL 90.975852 224.64 \nL 90.975852 131.692317 \nL 75.75767 131.692317 \nz\n\" style=\"fill:#1f77b4;\"/>\n   </g>\n   <g id=\"patch_6\">\n    <path clip-path=\"url(#p1f6e76fc39)\" d=\"M 90.975852 224.64 \nL 106.194034 224.64 \nL 106.194034 102.041497 \nL 90.975852 102.041497 \nz\n\" style=\"fill:#1f77b4;\"/>\n   </g>\n   <g id=\"patch_7\">\n    <path clip-path=\"url(#p1f6e76fc39)\" d=\"M 106.194034 224.64 \nL 121.412216 224.64 \nL 121.412216 80.968655 \nL 106.194034 80.968655 \nz\n\" style=\"fill:#1f77b4;\"/>\n   </g>\n   <g id=\"patch_8\">\n    <path clip-path=\"url(#p1f6e76fc39)\" d=\"M 121.412216 224.64 \nL 136.630398 224.64 \nL 136.630398 65.575297 \nL 121.412216 65.575297 \nz\n\" style=\"fill:#1f77b4;\"/>\n   </g>\n   <g id=\"patch_9\">\n    <path clip-path=\"url(#p1f6e76fc39)\" d=\"M 136.630398 224.64 \nL 151.84858 224.64 \nL 151.84858 59.464956 \nL 136.630398 59.464956 \nz\n\" style=\"fill:#1f77b4;\"/>\n   </g>\n   <g id=\"patch_10\">\n    <path clip-path=\"url(#p1f6e76fc39)\" d=\"M 151.84858 224.64 \nL 167.066761 224.64 \nL 167.066761 48.77186 \nL 151.84858 48.77186 \nz\n\" style=\"fill:#1f77b4;\"/>\n   </g>\n   <g id=\"patch_11\">\n    <path clip-path=\"url(#p1f6e76fc39)\" d=\"M 167.066761 224.64 \nL 182.284943 224.64 \nL 182.284943 41.368947 \nL 167.066761 41.368947 \nz\n\" style=\"fill:#1f77b4;\"/>\n   </g>\n   <g id=\"patch_12\">\n    <path clip-path=\"url(#p1f6e76fc39)\" d=\"M 182.284943 224.64 \nL 197.503125 224.64 \nL 197.503125 35.689464 \nL 182.284943 35.689464 \nz\n\" style=\"fill:#1f77b4;\"/>\n   </g>\n   <g id=\"patch_13\">\n    <path clip-path=\"url(#p1f6e76fc39)\" d=\"M 197.503125 224.64 \nL 212.721307 224.64 \nL 212.721307 31.224215 \nL 197.503125 31.224215 \nz\n\" style=\"fill:#1f77b4;\"/>\n   </g>\n   <g id=\"patch_14\">\n    <path clip-path=\"url(#p1f6e76fc39)\" d=\"M 212.721307 224.64 \nL 227.939489 224.64 \nL 227.939489 27.385667 \nL 212.721307 27.385667 \nz\n\" style=\"fill:#1f77b4;\"/>\n   </g>\n   <g id=\"patch_15\">\n    <path clip-path=\"url(#p1f6e76fc39)\" d=\"M 227.939489 224.64 \nL 243.15767 224.64 \nL 243.15767 24.957199 \nL 227.939489 24.957199 \nz\n\" style=\"fill:#1f77b4;\"/>\n   </g>\n   <g id=\"patch_16\">\n    <path clip-path=\"url(#p1f6e76fc39)\" d=\"M 243.15767 224.64 \nL 258.375852 224.64 \nL 258.375852 23.860471 \nL 243.15767 23.860471 \nz\n\" style=\"fill:#1f77b4;\"/>\n   </g>\n   <g id=\"patch_17\">\n    <path clip-path=\"url(#p1f6e76fc39)\" d=\"M 258.375852 224.64 \nL 273.594034 224.64 \nL 273.594034 21.745353 \nL 258.375852 21.745353 \nz\n\" style=\"fill:#1f77b4;\"/>\n   </g>\n   <g id=\"patch_18\">\n    <path clip-path=\"url(#p1f6e76fc39)\" d=\"M 273.594034 224.64 \nL 288.812216 224.64 \nL 288.812216 20.256936 \nL 273.594034 20.256936 \nz\n\" style=\"fill:#1f77b4;\"/>\n   </g>\n   <g id=\"patch_19\">\n    <path clip-path=\"url(#p1f6e76fc39)\" d=\"M 288.812216 224.64 \nL 304.030398 224.64 \nL 304.030398 19.473559 \nL 288.812216 19.473559 \nz\n\" style=\"fill:#1f77b4;\"/>\n   </g>\n   <g id=\"patch_20\">\n    <path clip-path=\"url(#p1f6e76fc39)\" d=\"M 304.030398 224.64 \nL 319.24858 224.64 \nL 319.24858 18.533507 \nL 304.030398 18.533507 \nz\n\" style=\"fill:#1f77b4;\"/>\n   </g>\n   <g id=\"patch_21\">\n    <path clip-path=\"url(#p1f6e76fc39)\" d=\"M 319.24858 224.64 \nL 334.466761 224.64 \nL 334.466761 18.063481 \nL 319.24858 18.063481 \nz\n\" style=\"fill:#1f77b4;\"/>\n   </g>\n   <g id=\"patch_22\">\n    <path clip-path=\"url(#p1f6e76fc39)\" d=\"M 334.466761 224.64 \nL 349.684943 224.64 \nL 349.684943 17.554286 \nL 334.466761 17.554286 \nz\n\" style=\"fill:#1f77b4;\"/>\n   </g>\n   <g id=\"matplotlib.axis_1\">\n    <g id=\"xtick_1\">\n     <g id=\"line2d_1\">\n      <defs>\n       <path d=\"M 0 0 \nL 0 3.5 \n\" id=\"m44c188eb10\" style=\"stroke:#000000;stroke-width:0.8;\"/>\n      </defs>\n      <g>\n       <use style=\"stroke:#000000;stroke-width:0.8;\" x=\"37.095263\" xlink:href=\"#m44c188eb10\" y=\"224.64\"/>\n      </g>\n     </g>\n     <g id=\"text_1\">\n      <!-- 0 -->\n      <defs>\n       <path d=\"M 31.78125 66.40625 \nQ 24.171875 66.40625 20.328125 58.90625 \nQ 16.5 51.421875 16.5 36.375 \nQ 16.5 21.390625 20.328125 13.890625 \nQ 24.171875 6.390625 31.78125 6.390625 \nQ 39.453125 6.390625 43.28125 13.890625 \nQ 47.125 21.390625 47.125 36.375 \nQ 47.125 51.421875 43.28125 58.90625 \nQ 39.453125 66.40625 31.78125 66.40625 \nz\nM 31.78125 74.21875 \nQ 44.046875 74.21875 50.515625 64.515625 \nQ 56.984375 54.828125 56.984375 36.375 \nQ 56.984375 17.96875 50.515625 8.265625 \nQ 44.046875 -1.421875 31.78125 -1.421875 \nQ 19.53125 -1.421875 13.0625 8.265625 \nQ 6.59375 17.96875 6.59375 36.375 \nQ 6.59375 54.828125 13.0625 64.515625 \nQ 19.53125 74.21875 31.78125 74.21875 \nz\n\" id=\"DejaVuSans-48\"/>\n      </defs>\n      <g transform=\"translate(33.914013 239.238437)scale(0.1 -0.1)\">\n       <use xlink:href=\"#DejaVuSans-48\"/>\n      </g>\n     </g>\n    </g>\n    <g id=\"xtick_2\">\n     <g id=\"line2d_2\">\n      <g>\n       <use style=\"stroke:#000000;stroke-width:0.8;\" x=\"78.225484\" xlink:href=\"#m44c188eb10\" y=\"224.64\"/>\n      </g>\n     </g>\n     <g id=\"text_2\">\n      <!-- 5 -->\n      <defs>\n       <path d=\"M 10.796875 72.90625 \nL 49.515625 72.90625 \nL 49.515625 64.59375 \nL 19.828125 64.59375 \nL 19.828125 46.734375 \nQ 21.96875 47.46875 24.109375 47.828125 \nQ 26.265625 48.1875 28.421875 48.1875 \nQ 40.625 48.1875 47.75 41.5 \nQ 54.890625 34.8125 54.890625 23.390625 \nQ 54.890625 11.625 47.5625 5.09375 \nQ 40.234375 -1.421875 26.90625 -1.421875 \nQ 22.3125 -1.421875 17.546875 -0.640625 \nQ 12.796875 0.140625 7.71875 1.703125 \nL 7.71875 11.625 \nQ 12.109375 9.234375 16.796875 8.0625 \nQ 21.484375 6.890625 26.703125 6.890625 \nQ 35.15625 6.890625 40.078125 11.328125 \nQ 45.015625 15.765625 45.015625 23.390625 \nQ 45.015625 31 40.078125 35.4375 \nQ 35.15625 39.890625 26.703125 39.890625 \nQ 22.75 39.890625 18.8125 39.015625 \nQ 14.890625 38.140625 10.796875 36.28125 \nz\n\" id=\"DejaVuSans-53\"/>\n      </defs>\n      <g transform=\"translate(75.044234 239.238437)scale(0.1 -0.1)\">\n       <use xlink:href=\"#DejaVuSans-53\"/>\n      </g>\n     </g>\n    </g>\n    <g id=\"xtick_3\">\n     <g id=\"line2d_3\">\n      <g>\n       <use style=\"stroke:#000000;stroke-width:0.8;\" x=\"119.355705\" xlink:href=\"#m44c188eb10\" y=\"224.64\"/>\n      </g>\n     </g>\n     <g id=\"text_3\">\n      <!-- 10 -->\n      <defs>\n       <path d=\"M 12.40625 8.296875 \nL 28.515625 8.296875 \nL 28.515625 63.921875 \nL 10.984375 60.40625 \nL 10.984375 69.390625 \nL 28.421875 72.90625 \nL 38.28125 72.90625 \nL 38.28125 8.296875 \nL 54.390625 8.296875 \nL 54.390625 0 \nL 12.40625 0 \nz\n\" id=\"DejaVuSans-49\"/>\n      </defs>\n      <g transform=\"translate(112.993205 239.238437)scale(0.1 -0.1)\">\n       <use xlink:href=\"#DejaVuSans-49\"/>\n       <use x=\"63.623047\" xlink:href=\"#DejaVuSans-48\"/>\n      </g>\n     </g>\n    </g>\n    <g id=\"xtick_4\">\n     <g id=\"line2d_4\">\n      <g>\n       <use style=\"stroke:#000000;stroke-width:0.8;\" x=\"160.485926\" xlink:href=\"#m44c188eb10\" y=\"224.64\"/>\n      </g>\n     </g>\n     <g id=\"text_4\">\n      <!-- 15 -->\n      <g transform=\"translate(154.123426 239.238437)scale(0.1 -0.1)\">\n       <use xlink:href=\"#DejaVuSans-49\"/>\n       <use x=\"63.623047\" xlink:href=\"#DejaVuSans-53\"/>\n      </g>\n     </g>\n    </g>\n    <g id=\"xtick_5\">\n     <g id=\"line2d_5\">\n      <g>\n       <use style=\"stroke:#000000;stroke-width:0.8;\" x=\"201.616147\" xlink:href=\"#m44c188eb10\" y=\"224.64\"/>\n      </g>\n     </g>\n     <g id=\"text_5\">\n      <!-- 20 -->\n      <defs>\n       <path d=\"M 19.1875 8.296875 \nL 53.609375 8.296875 \nL 53.609375 0 \nL 7.328125 0 \nL 7.328125 8.296875 \nQ 12.9375 14.109375 22.625 23.890625 \nQ 32.328125 33.6875 34.8125 36.53125 \nQ 39.546875 41.84375 41.421875 45.53125 \nQ 43.3125 49.21875 43.3125 52.78125 \nQ 43.3125 58.59375 39.234375 62.25 \nQ 35.15625 65.921875 28.609375 65.921875 \nQ 23.96875 65.921875 18.8125 64.3125 \nQ 13.671875 62.703125 7.8125 59.421875 \nL 7.8125 69.390625 \nQ 13.765625 71.78125 18.9375 73 \nQ 24.125 74.21875 28.421875 74.21875 \nQ 39.75 74.21875 46.484375 68.546875 \nQ 53.21875 62.890625 53.21875 53.421875 \nQ 53.21875 48.921875 51.53125 44.890625 \nQ 49.859375 40.875 45.40625 35.40625 \nQ 44.1875 33.984375 37.640625 27.21875 \nQ 31.109375 20.453125 19.1875 8.296875 \nz\n\" id=\"DejaVuSans-50\"/>\n      </defs>\n      <g transform=\"translate(195.253647 239.238437)scale(0.1 -0.1)\">\n       <use xlink:href=\"#DejaVuSans-50\"/>\n       <use x=\"63.623047\" xlink:href=\"#DejaVuSans-48\"/>\n      </g>\n     </g>\n    </g>\n    <g id=\"xtick_6\">\n     <g id=\"line2d_6\">\n      <g>\n       <use style=\"stroke:#000000;stroke-width:0.8;\" x=\"242.746368\" xlink:href=\"#m44c188eb10\" y=\"224.64\"/>\n      </g>\n     </g>\n     <g id=\"text_6\">\n      <!-- 25 -->\n      <g transform=\"translate(236.383868 239.238437)scale(0.1 -0.1)\">\n       <use xlink:href=\"#DejaVuSans-50\"/>\n       <use x=\"63.623047\" xlink:href=\"#DejaVuSans-53\"/>\n      </g>\n     </g>\n    </g>\n    <g id=\"xtick_7\">\n     <g id=\"line2d_7\">\n      <g>\n       <use style=\"stroke:#000000;stroke-width:0.8;\" x=\"283.876589\" xlink:href=\"#m44c188eb10\" y=\"224.64\"/>\n      </g>\n     </g>\n     <g id=\"text_7\">\n      <!-- 30 -->\n      <defs>\n       <path d=\"M 40.578125 39.3125 \nQ 47.65625 37.796875 51.625 33 \nQ 55.609375 28.21875 55.609375 21.1875 \nQ 55.609375 10.40625 48.1875 4.484375 \nQ 40.765625 -1.421875 27.09375 -1.421875 \nQ 22.515625 -1.421875 17.65625 -0.515625 \nQ 12.796875 0.390625 7.625 2.203125 \nL 7.625 11.71875 \nQ 11.71875 9.328125 16.59375 8.109375 \nQ 21.484375 6.890625 26.8125 6.890625 \nQ 36.078125 6.890625 40.9375 10.546875 \nQ 45.796875 14.203125 45.796875 21.1875 \nQ 45.796875 27.640625 41.28125 31.265625 \nQ 36.765625 34.90625 28.71875 34.90625 \nL 20.21875 34.90625 \nL 20.21875 43.015625 \nL 29.109375 43.015625 \nQ 36.375 43.015625 40.234375 45.921875 \nQ 44.09375 48.828125 44.09375 54.296875 \nQ 44.09375 59.90625 40.109375 62.90625 \nQ 36.140625 65.921875 28.71875 65.921875 \nQ 24.65625 65.921875 20.015625 65.03125 \nQ 15.375 64.15625 9.8125 62.3125 \nL 9.8125 71.09375 \nQ 15.4375 72.65625 20.34375 73.4375 \nQ 25.25 74.21875 29.59375 74.21875 \nQ 40.828125 74.21875 47.359375 69.109375 \nQ 53.90625 64.015625 53.90625 55.328125 \nQ 53.90625 49.265625 50.4375 45.09375 \nQ 46.96875 40.921875 40.578125 39.3125 \nz\n\" id=\"DejaVuSans-51\"/>\n      </defs>\n      <g transform=\"translate(277.514089 239.238437)scale(0.1 -0.1)\">\n       <use xlink:href=\"#DejaVuSans-51\"/>\n       <use x=\"63.623047\" xlink:href=\"#DejaVuSans-48\"/>\n      </g>\n     </g>\n    </g>\n    <g id=\"xtick_8\">\n     <g id=\"line2d_8\">\n      <g>\n       <use style=\"stroke:#000000;stroke-width:0.8;\" x=\"325.006811\" xlink:href=\"#m44c188eb10\" y=\"224.64\"/>\n      </g>\n     </g>\n     <g id=\"text_8\">\n      <!-- 35 -->\n      <g transform=\"translate(318.644311 239.238437)scale(0.1 -0.1)\">\n       <use xlink:href=\"#DejaVuSans-51\"/>\n       <use x=\"63.623047\" xlink:href=\"#DejaVuSans-53\"/>\n      </g>\n     </g>\n    </g>\n   </g>\n   <g id=\"matplotlib.axis_2\">\n    <g id=\"ytick_1\">\n     <g id=\"line2d_9\">\n      <defs>\n       <path d=\"M 0 0 \nL -3.5 0 \n\" id=\"m7e9ec3156f\" style=\"stroke:#000000;stroke-width:0.8;\"/>\n      </defs>\n      <g>\n       <use style=\"stroke:#000000;stroke-width:0.8;\" x=\"30.103125\" xlink:href=\"#m7e9ec3156f\" y=\"224.64\"/>\n      </g>\n     </g>\n     <g id=\"text_9\">\n      <!-- 0.0 -->\n      <defs>\n       <path d=\"M 10.6875 12.40625 \nL 21 12.40625 \nL 21 0 \nL 10.6875 0 \nz\n\" id=\"DejaVuSans-46\"/>\n      </defs>\n      <g transform=\"translate(7.2 228.439219)scale(0.1 -0.1)\">\n       <use xlink:href=\"#DejaVuSans-48\"/>\n       <use x=\"63.623047\" xlink:href=\"#DejaVuSans-46\"/>\n       <use x=\"95.410156\" xlink:href=\"#DejaVuSans-48\"/>\n      </g>\n     </g>\n    </g>\n    <g id=\"ytick_2\">\n     <g id=\"line2d_10\">\n      <g>\n       <use style=\"stroke:#000000;stroke-width:0.8;\" x=\"30.103125\" xlink:href=\"#m7e9ec3156f\" y=\"183.222857\"/>\n      </g>\n     </g>\n     <g id=\"text_10\">\n      <!-- 0.2 -->\n      <g transform=\"translate(7.2 187.022076)scale(0.1 -0.1)\">\n       <use xlink:href=\"#DejaVuSans-48\"/>\n       <use x=\"63.623047\" xlink:href=\"#DejaVuSans-46\"/>\n       <use x=\"95.410156\" xlink:href=\"#DejaVuSans-50\"/>\n      </g>\n     </g>\n    </g>\n    <g id=\"ytick_3\">\n     <g id=\"line2d_11\">\n      <g>\n       <use style=\"stroke:#000000;stroke-width:0.8;\" x=\"30.103125\" xlink:href=\"#m7e9ec3156f\" y=\"141.805714\"/>\n      </g>\n     </g>\n     <g id=\"text_11\">\n      <!-- 0.4 -->\n      <defs>\n       <path d=\"M 37.796875 64.3125 \nL 12.890625 25.390625 \nL 37.796875 25.390625 \nz\nM 35.203125 72.90625 \nL 47.609375 72.90625 \nL 47.609375 25.390625 \nL 58.015625 25.390625 \nL 58.015625 17.1875 \nL 47.609375 17.1875 \nL 47.609375 0 \nL 37.796875 0 \nL 37.796875 17.1875 \nL 4.890625 17.1875 \nL 4.890625 26.703125 \nz\n\" id=\"DejaVuSans-52\"/>\n      </defs>\n      <g transform=\"translate(7.2 145.604933)scale(0.1 -0.1)\">\n       <use xlink:href=\"#DejaVuSans-48\"/>\n       <use x=\"63.623047\" xlink:href=\"#DejaVuSans-46\"/>\n       <use x=\"95.410156\" xlink:href=\"#DejaVuSans-52\"/>\n      </g>\n     </g>\n    </g>\n    <g id=\"ytick_4\">\n     <g id=\"line2d_12\">\n      <g>\n       <use style=\"stroke:#000000;stroke-width:0.8;\" x=\"30.103125\" xlink:href=\"#m7e9ec3156f\" y=\"100.388571\"/>\n      </g>\n     </g>\n     <g id=\"text_12\">\n      <!-- 0.6 -->\n      <defs>\n       <path d=\"M 33.015625 40.375 \nQ 26.375 40.375 22.484375 35.828125 \nQ 18.609375 31.296875 18.609375 23.390625 \nQ 18.609375 15.53125 22.484375 10.953125 \nQ 26.375 6.390625 33.015625 6.390625 \nQ 39.65625 6.390625 43.53125 10.953125 \nQ 47.40625 15.53125 47.40625 23.390625 \nQ 47.40625 31.296875 43.53125 35.828125 \nQ 39.65625 40.375 33.015625 40.375 \nz\nM 52.59375 71.296875 \nL 52.59375 62.3125 \nQ 48.875 64.0625 45.09375 64.984375 \nQ 41.3125 65.921875 37.59375 65.921875 \nQ 27.828125 65.921875 22.671875 59.328125 \nQ 17.53125 52.734375 16.796875 39.40625 \nQ 19.671875 43.65625 24.015625 45.921875 \nQ 28.375 48.1875 33.59375 48.1875 \nQ 44.578125 48.1875 50.953125 41.515625 \nQ 57.328125 34.859375 57.328125 23.390625 \nQ 57.328125 12.15625 50.6875 5.359375 \nQ 44.046875 -1.421875 33.015625 -1.421875 \nQ 20.359375 -1.421875 13.671875 8.265625 \nQ 6.984375 17.96875 6.984375 36.375 \nQ 6.984375 53.65625 15.1875 63.9375 \nQ 23.390625 74.21875 37.203125 74.21875 \nQ 40.921875 74.21875 44.703125 73.484375 \nQ 48.484375 72.75 52.59375 71.296875 \nz\n\" id=\"DejaVuSans-54\"/>\n      </defs>\n      <g transform=\"translate(7.2 104.18779)scale(0.1 -0.1)\">\n       <use xlink:href=\"#DejaVuSans-48\"/>\n       <use x=\"63.623047\" xlink:href=\"#DejaVuSans-46\"/>\n       <use x=\"95.410156\" xlink:href=\"#DejaVuSans-54\"/>\n      </g>\n     </g>\n    </g>\n    <g id=\"ytick_5\">\n     <g id=\"line2d_13\">\n      <g>\n       <use style=\"stroke:#000000;stroke-width:0.8;\" x=\"30.103125\" xlink:href=\"#m7e9ec3156f\" y=\"58.971429\"/>\n      </g>\n     </g>\n     <g id=\"text_13\">\n      <!-- 0.8 -->\n      <defs>\n       <path d=\"M 31.78125 34.625 \nQ 24.75 34.625 20.71875 30.859375 \nQ 16.703125 27.09375 16.703125 20.515625 \nQ 16.703125 13.921875 20.71875 10.15625 \nQ 24.75 6.390625 31.78125 6.390625 \nQ 38.8125 6.390625 42.859375 10.171875 \nQ 46.921875 13.96875 46.921875 20.515625 \nQ 46.921875 27.09375 42.890625 30.859375 \nQ 38.875 34.625 31.78125 34.625 \nz\nM 21.921875 38.8125 \nQ 15.578125 40.375 12.03125 44.71875 \nQ 8.5 49.078125 8.5 55.328125 \nQ 8.5 64.0625 14.71875 69.140625 \nQ 20.953125 74.21875 31.78125 74.21875 \nQ 42.671875 74.21875 48.875 69.140625 \nQ 55.078125 64.0625 55.078125 55.328125 \nQ 55.078125 49.078125 51.53125 44.71875 \nQ 48 40.375 41.703125 38.8125 \nQ 48.828125 37.15625 52.796875 32.3125 \nQ 56.78125 27.484375 56.78125 20.515625 \nQ 56.78125 9.90625 50.3125 4.234375 \nQ 43.84375 -1.421875 31.78125 -1.421875 \nQ 19.734375 -1.421875 13.25 4.234375 \nQ 6.78125 9.90625 6.78125 20.515625 \nQ 6.78125 27.484375 10.78125 32.3125 \nQ 14.796875 37.15625 21.921875 38.8125 \nz\nM 18.3125 54.390625 \nQ 18.3125 48.734375 21.84375 45.5625 \nQ 25.390625 42.390625 31.78125 42.390625 \nQ 38.140625 42.390625 41.71875 45.5625 \nQ 45.3125 48.734375 45.3125 54.390625 \nQ 45.3125 60.0625 41.71875 63.234375 \nQ 38.140625 66.40625 31.78125 66.40625 \nQ 25.390625 66.40625 21.84375 63.234375 \nQ 18.3125 60.0625 18.3125 54.390625 \nz\n\" id=\"DejaVuSans-56\"/>\n      </defs>\n      <g transform=\"translate(7.2 62.770647)scale(0.1 -0.1)\">\n       <use xlink:href=\"#DejaVuSans-48\"/>\n       <use x=\"63.623047\" xlink:href=\"#DejaVuSans-46\"/>\n       <use x=\"95.410156\" xlink:href=\"#DejaVuSans-56\"/>\n      </g>\n     </g>\n    </g>\n    <g id=\"ytick_6\">\n     <g id=\"line2d_14\">\n      <g>\n       <use style=\"stroke:#000000;stroke-width:0.8;\" x=\"30.103125\" xlink:href=\"#m7e9ec3156f\" y=\"17.554286\"/>\n      </g>\n     </g>\n     <g id=\"text_14\">\n      <!-- 1.0 -->\n      <g transform=\"translate(7.2 21.353504)scale(0.1 -0.1)\">\n       <use xlink:href=\"#DejaVuSans-49\"/>\n       <use x=\"63.623047\" xlink:href=\"#DejaVuSans-46\"/>\n       <use x=\"95.410156\" xlink:href=\"#DejaVuSans-48\"/>\n      </g>\n     </g>\n    </g>\n   </g>\n   <g id=\"patch_23\">\n    <path d=\"M 30.103125 224.64 \nL 30.103125 7.2 \n\" style=\"fill:none;stroke:#000000;stroke-linecap:square;stroke-linejoin:miter;stroke-width:0.8;\"/>\n   </g>\n   <g id=\"patch_24\">\n    <path d=\"M 364.903125 224.64 \nL 364.903125 7.2 \n\" style=\"fill:none;stroke:#000000;stroke-linecap:square;stroke-linejoin:miter;stroke-width:0.8;\"/>\n   </g>\n   <g id=\"patch_25\">\n    <path d=\"M 30.103125 224.64 \nL 364.903125 224.64 \n\" style=\"fill:none;stroke:#000000;stroke-linecap:square;stroke-linejoin:miter;stroke-width:0.8;\"/>\n   </g>\n   <g id=\"patch_26\">\n    <path d=\"M 30.103125 7.2 \nL 364.903125 7.2 \n\" style=\"fill:none;stroke:#000000;stroke-linecap:square;stroke-linejoin:miter;stroke-width:0.8;\"/>\n   </g>\n  </g>\n </g>\n <defs>\n  <clipPath id=\"p1f6e76fc39\">\n   <rect height=\"217.44\" width=\"334.8\" x=\"30.103125\" y=\"7.2\"/>\n  </clipPath>\n </defs>\n</svg>\n",
      "image/png": "[encoded data removed]"
     },
     "metadata": {
      "needs_background": "light"
     }
    }
   ],
   "source": [
    "a_pos_length = train_reply['q2'][train_reply['label'] == 1].apply(func=lambda x: len(str(x))).sort_values()\n",
    "plt.hist(a_pos_length.sort_values()[:-100], density=True, cumulative=True, bins=20)\n",
    "plt.show()"
   ]
  },
  {
   "cell_type": "code",
   "execution_count": 17,
   "metadata": {},
   "outputs": [
    {
     "output_type": "execute_result",
     "data": {
      "text/plain": [
       "      id      q1  id_sub                          q2  label\n",
       "355  100  带家具家电？       0                   育文分校和魅力小学      0\n",
       "356  100  带家具家电？       1                   育文已经正式下文了      0\n",
       "357  100  带家具家电？       2  已经在招生，咱想考虑那的房子我可以给您推荐几个好房子      0"
      ],
      "text/html": "<div>\n<style scoped>\n    .dataframe tbody tr th:only-of-type {\n        vertical-align: middle;\n    }\n\n    .dataframe tbody tr th {\n        vertical-align: top;\n    }\n\n    .dataframe thead th {\n        text-align: right;\n    }\n</style>\n<table border=\"1\" class=\"dataframe\">\n  <thead>\n    <tr style=\"text-align: right;\">\n      <th></th>\n      <th>id</th>\n      <th>q1</th>\n      <th>id_sub</th>\n      <th>q2</th>\n      <th>label</th>\n    </tr>\n  </thead>\n  <tbody>\n    <tr>\n      <th>355</th>\n      <td>100</td>\n      <td>带家具家电？</td>\n      <td>0</td>\n      <td>育文分校和魅力小学</td>\n      <td>0</td>\n    </tr>\n    <tr>\n      <th>356</th>\n      <td>100</td>\n      <td>带家具家电？</td>\n      <td>1</td>\n      <td>育文已经正式下文了</td>\n      <td>0</td>\n    </tr>\n    <tr>\n      <th>357</th>\n      <td>100</td>\n      <td>带家具家电？</td>\n      <td>2</td>\n      <td>已经在招生，咱想考虑那的房子我可以给您推荐几个好房子</td>\n      <td>0</td>\n    </tr>\n  </tbody>\n</table>\n</div>"
     },
     "metadata": {},
     "execution_count": 17
    }
   ],
   "source": [
    "answers = train_df[train_df['id'] == 100]\n",
    "answers"
   ]
  },
  {
   "cell_type": "code",
   "execution_count": 18,
   "metadata": {},
   "outputs": [
    {
     "output_type": "execute_result",
     "data": {
      "text/plain": [
       "355    0\n",
       "356    0\n",
       "357    0\n",
       "Name: label, dtype: int64"
      ]
     },
     "metadata": {},
     "execution_count": 18
    }
   ],
   "source": [
    "answers['label']"
   ]
  },
  {
   "cell_type": "code",
   "execution_count": 19,
   "metadata": {},
   "outputs": [
    {
     "output_type": "stream",
     "name": "stderr",
     "text": [
      "21585it [00:00, 498477.88it/s]\n"
     ]
    }
   ],
   "source": [
    "pos_ratioes = {id: [0, 0] for id in train_query['id']}\n",
    "for row in tqdm(train_df.itertuples()):\n",
    "    pos_ratioes[row.id][row.label] += 1\n",
    "for k, v in pos_ratioes.items():\n",
    "    pos_ratioes[k] = v[1] / sum(v)"
   ]
  },
  {
   "cell_type": "code",
   "execution_count": 20,
   "metadata": {},
   "outputs": [
    {
     "output_type": "stream",
     "name": "stderr",
     "text": [
      "21585it [00:00, 496694.80it/s]\n"
     ]
    }
   ],
   "source": [
    "pos_neg_num = {id: [0, 0] for id in train_query['id']}\n",
    "for row in tqdm(train_df.itertuples()):\n",
    "    pos_neg_num[row.id][row.label] += 1"
   ]
  },
  {
   "cell_type": "code",
   "execution_count": 21,
   "metadata": {},
   "outputs": [
    {
     "output_type": "stream",
     "name": "stdout",
     "text": [
      "Ratio of queries without positive answers: 0.33566666666666667.\n"
     ]
    },
    {
     "output_type": "display_data",
     "data": {
      "text/plain": "<Figure size 432x288 with 1 Axes>",
      "image/svg+xml": "<?xml version=\"1.0\" encoding=\"utf-8\" standalone=\"no\"?>\n<!DOCTYPE svg PUBLIC \"-//W3C//DTD SVG 1.1//EN\"\n  \"http://www.w3.org/Graphics/SVG/1.1/DTD/svg11.dtd\">\n<!-- Created with matplotlib (https://matplotlib.org/) -->\n<svg height=\"248.518125pt\" version=\"1.1\" viewBox=\"0 0 372.103125 248.518125\" width=\"372.103125pt\" xmlns=\"http://www.w3.org/2000/svg\" xmlns:xlink=\"http://www.w3.org/1999/xlink\">\n <defs>\n  <style type=\"text/css\">\n*{stroke-linecap:butt;stroke-linejoin:round;}\n  </style>\n </defs>\n <g id=\"figure_1\">\n  <g id=\"patch_1\">\n   <path d=\"M 0 248.518125 \nL 372.103125 248.518125 \nL 372.103125 0 \nL 0 0 \nz\n\" style=\"fill:none;\"/>\n  </g>\n  <g id=\"axes_1\">\n   <g id=\"patch_2\">\n    <path d=\"M 30.103125 224.64 \nL 364.903125 224.64 \nL 364.903125 7.2 \nL 30.103125 7.2 \nz\n\" style=\"fill:#ffffff;\"/>\n   </g>\n   <g id=\"patch_3\">\n    <path clip-path=\"url(#p74791054e1)\" d=\"M 45.321307 224.64 \nL 55.466761 224.64 \nL 55.466761 155.128229 \nL 45.321307 155.128229 \nz\n\" style=\"fill:#1f77b4;\"/>\n   </g>\n   <g id=\"patch_4\">\n    <path clip-path=\"url(#p74791054e1)\" d=\"M 55.466761 224.64 \nL 65.612216 224.64 \nL 65.612216 155.128229 \nL 55.466761 155.128229 \nz\n\" style=\"fill:#1f77b4;\"/>\n   </g>\n   <g id=\"patch_5\">\n    <path clip-path=\"url(#p74791054e1)\" d=\"M 65.612216 224.64 \nL 75.75767 224.64 \nL 75.75767 155.128229 \nL 65.612216 155.128229 \nz\n\" style=\"fill:#1f77b4;\"/>\n   </g>\n   <g id=\"patch_6\">\n    <path clip-path=\"url(#p74791054e1)\" d=\"M 75.75767 224.64 \nL 85.903125 224.64 \nL 85.903125 155.128229 \nL 75.75767 155.128229 \nz\n\" style=\"fill:#1f77b4;\"/>\n   </g>\n   <g id=\"patch_7\">\n    <path clip-path=\"url(#p74791054e1)\" d=\"M 85.903125 224.64 \nL 96.04858 224.64 \nL 96.04858 155.128229 \nL 85.903125 155.128229 \nz\n\" style=\"fill:#1f77b4;\"/>\n   </g>\n   <g id=\"patch_8\">\n    <path clip-path=\"url(#p74791054e1)\" d=\"M 96.04858 224.64 \nL 106.194034 224.64 \nL 106.194034 155.128229 \nL 96.04858 155.128229 \nz\n\" style=\"fill:#1f77b4;\"/>\n   </g>\n   <g id=\"patch_9\">\n    <path clip-path=\"url(#p74791054e1)\" d=\"M 106.194034 224.64 \nL 116.339489 224.64 \nL 116.339489 128.586743 \nL 106.194034 128.586743 \nz\n\" style=\"fill:#1f77b4;\"/>\n   </g>\n   <g id=\"patch_10\">\n    <path clip-path=\"url(#p74791054e1)\" d=\"M 116.339489 224.64 \nL 126.484943 224.64 \nL 126.484943 125.307886 \nL 116.339489 125.307886 \nz\n\" style=\"fill:#1f77b4;\"/>\n   </g>\n   <g id=\"patch_11\">\n    <path clip-path=\"url(#p74791054e1)\" d=\"M 126.484943 224.64 \nL 136.630398 224.64 \nL 136.630398 125.307886 \nL 126.484943 125.307886 \nz\n\" style=\"fill:#1f77b4;\"/>\n   </g>\n   <g id=\"patch_12\">\n    <path clip-path=\"url(#p74791054e1)\" d=\"M 136.630398 224.64 \nL 146.775852 224.64 \nL 146.775852 125.307886 \nL 136.630398 125.307886 \nz\n\" style=\"fill:#1f77b4;\"/>\n   </g>\n   <g id=\"patch_13\">\n    <path clip-path=\"url(#p74791054e1)\" d=\"M 146.775852 224.64 \nL 156.921307 224.64 \nL 156.921307 62.146743 \nL 146.775852 62.146743 \nz\n\" style=\"fill:#1f77b4;\"/>\n   </g>\n   <g id=\"patch_14\">\n    <path clip-path=\"url(#p74791054e1)\" d=\"M 156.921307 224.64 \nL 167.066761 224.64 \nL 167.066761 62.146743 \nL 156.921307 62.146743 \nz\n\" style=\"fill:#1f77b4;\"/>\n   </g>\n   <g id=\"patch_15\">\n    <path clip-path=\"url(#p74791054e1)\" d=\"M 167.066761 224.64 \nL 177.212216 224.64 \nL 177.212216 53.932343 \nL 167.066761 53.932343 \nz\n\" style=\"fill:#1f77b4;\"/>\n   </g>\n   <g id=\"patch_16\">\n    <path clip-path=\"url(#p74791054e1)\" d=\"M 177.212216 224.64 \nL 187.35767 224.64 \nL 187.35767 53.932343 \nL 177.212216 53.932343 \nz\n\" style=\"fill:#1f77b4;\"/>\n   </g>\n   <g id=\"patch_17\">\n    <path clip-path=\"url(#p74791054e1)\" d=\"M 187.35767 224.64 \nL 197.503125 224.64 \nL 197.503125 53.932343 \nL 187.35767 53.932343 \nz\n\" style=\"fill:#1f77b4;\"/>\n   </g>\n   <g id=\"patch_18\">\n    <path clip-path=\"url(#p74791054e1)\" d=\"M 197.503125 224.64 \nL 207.64858 224.64 \nL 207.64858 46.477257 \nL 197.503125 46.477257 \nz\n\" style=\"fill:#1f77b4;\"/>\n   </g>\n   <g id=\"patch_19\">\n    <path clip-path=\"url(#p74791054e1)\" d=\"M 207.64858 224.64 \nL 217.794034 224.64 \nL 217.794034 46.477257 \nL 207.64858 46.477257 \nz\n\" style=\"fill:#1f77b4;\"/>\n   </g>\n   <g id=\"patch_20\">\n    <path clip-path=\"url(#p74791054e1)\" d=\"M 217.794034 224.64 \nL 227.939489 224.64 \nL 227.939489 46.477257 \nL 217.794034 46.477257 \nz\n\" style=\"fill:#1f77b4;\"/>\n   </g>\n   <g id=\"patch_21\">\n    <path clip-path=\"url(#p74791054e1)\" d=\"M 227.939489 224.64 \nL 238.084943 224.64 \nL 238.084943 44.199314 \nL 227.939489 44.199314 \nz\n\" style=\"fill:#1f77b4;\"/>\n   </g>\n   <g id=\"patch_22\">\n    <path clip-path=\"url(#p74791054e1)\" d=\"M 238.084943 224.64 \nL 248.230398 224.64 \nL 248.230398 44.199314 \nL 238.084943 44.199314 \nz\n\" style=\"fill:#1f77b4;\"/>\n   </g>\n   <g id=\"patch_23\">\n    <path clip-path=\"url(#p74791054e1)\" d=\"M 248.230398 224.64 \nL 258.375852 224.64 \nL 258.375852 24.077486 \nL 248.230398 24.077486 \nz\n\" style=\"fill:#1f77b4;\"/>\n   </g>\n   <g id=\"patch_24\">\n    <path clip-path=\"url(#p74791054e1)\" d=\"M 258.375852 224.64 \nL 268.521307 224.64 \nL 268.521307 24.077486 \nL 258.375852 24.077486 \nz\n\" style=\"fill:#1f77b4;\"/>\n   </g>\n   <g id=\"patch_25\">\n    <path clip-path=\"url(#p74791054e1)\" d=\"M 268.521307 224.64 \nL 278.666761 224.64 \nL 278.666761 23.732343 \nL 268.521307 23.732343 \nz\n\" style=\"fill:#1f77b4;\"/>\n   </g>\n   <g id=\"patch_26\">\n    <path clip-path=\"url(#p74791054e1)\" d=\"M 278.666761 224.64 \nL 288.812216 224.64 \nL 288.812216 23.732343 \nL 278.666761 23.732343 \nz\n\" style=\"fill:#1f77b4;\"/>\n   </g>\n   <g id=\"patch_27\">\n    <path clip-path=\"url(#p74791054e1)\" d=\"M 288.812216 224.64 \nL 298.95767 224.64 \nL 298.95767 22.489829 \nL 288.812216 22.489829 \nz\n\" style=\"fill:#1f77b4;\"/>\n   </g>\n   <g id=\"patch_28\">\n    <path clip-path=\"url(#p74791054e1)\" d=\"M 298.95767 224.64 \nL 309.103125 224.64 \nL 309.103125 22.489829 \nL 298.95767 22.489829 \nz\n\" style=\"fill:#1f77b4;\"/>\n   </g>\n   <g id=\"patch_29\">\n    <path clip-path=\"url(#p74791054e1)\" d=\"M 309.103125 224.64 \nL 319.24858 224.64 \nL 319.24858 22.489829 \nL 309.103125 22.489829 \nz\n\" style=\"fill:#1f77b4;\"/>\n   </g>\n   <g id=\"patch_30\">\n    <path clip-path=\"url(#p74791054e1)\" d=\"M 319.24858 224.64 \nL 329.394034 224.64 \nL 329.394034 22.489829 \nL 319.24858 22.489829 \nz\n\" style=\"fill:#1f77b4;\"/>\n   </g>\n   <g id=\"patch_31\">\n    <path clip-path=\"url(#p74791054e1)\" d=\"M 329.394034 224.64 \nL 339.539489 224.64 \nL 339.539489 22.489829 \nL 329.394034 22.489829 \nz\n\" style=\"fill:#1f77b4;\"/>\n   </g>\n   <g id=\"patch_32\">\n    <path clip-path=\"url(#p74791054e1)\" d=\"M 339.539489 224.64 \nL 349.684943 224.64 \nL 349.684943 17.554286 \nL 339.539489 17.554286 \nz\n\" style=\"fill:#1f77b4;\"/>\n   </g>\n   <g id=\"matplotlib.axis_1\">\n    <g id=\"xtick_1\">\n     <g id=\"line2d_1\">\n      <defs>\n       <path d=\"M 0 0 \nL 0 3.5 \n\" id=\"m79b9262b43\" style=\"stroke:#000000;stroke-width:0.8;\"/>\n      </defs>\n      <g>\n       <use style=\"stroke:#000000;stroke-width:0.8;\" x=\"45.321307\" xlink:href=\"#m79b9262b43\" y=\"224.64\"/>\n      </g>\n     </g>\n     <g id=\"text_1\">\n      <!-- 0.0 -->\n      <defs>\n       <path d=\"M 31.78125 66.40625 \nQ 24.171875 66.40625 20.328125 58.90625 \nQ 16.5 51.421875 16.5 36.375 \nQ 16.5 21.390625 20.328125 13.890625 \nQ 24.171875 6.390625 31.78125 6.390625 \nQ 39.453125 6.390625 43.28125 13.890625 \nQ 47.125 21.390625 47.125 36.375 \nQ 47.125 51.421875 43.28125 58.90625 \nQ 39.453125 66.40625 31.78125 66.40625 \nz\nM 31.78125 74.21875 \nQ 44.046875 74.21875 50.515625 64.515625 \nQ 56.984375 54.828125 56.984375 36.375 \nQ 56.984375 17.96875 50.515625 8.265625 \nQ 44.046875 -1.421875 31.78125 -1.421875 \nQ 19.53125 -1.421875 13.0625 8.265625 \nQ 6.59375 17.96875 6.59375 36.375 \nQ 6.59375 54.828125 13.0625 64.515625 \nQ 19.53125 74.21875 31.78125 74.21875 \nz\n\" id=\"DejaVuSans-48\"/>\n       <path d=\"M 10.6875 12.40625 \nL 21 12.40625 \nL 21 0 \nL 10.6875 0 \nz\n\" id=\"DejaVuSans-46\"/>\n      </defs>\n      <g transform=\"translate(37.369744 239.238437)scale(0.1 -0.1)\">\n       <use xlink:href=\"#DejaVuSans-48\"/>\n       <use x=\"63.623047\" xlink:href=\"#DejaVuSans-46\"/>\n       <use x=\"95.410156\" xlink:href=\"#DejaVuSans-48\"/>\n      </g>\n     </g>\n    </g>\n    <g id=\"xtick_2\">\n     <g id=\"line2d_2\">\n      <g>\n       <use style=\"stroke:#000000;stroke-width:0.8;\" x=\"106.194034\" xlink:href=\"#m79b9262b43\" y=\"224.64\"/>\n      </g>\n     </g>\n     <g id=\"text_2\">\n      <!-- 0.2 -->\n      <defs>\n       <path d=\"M 19.1875 8.296875 \nL 53.609375 8.296875 \nL 53.609375 0 \nL 7.328125 0 \nL 7.328125 8.296875 \nQ 12.9375 14.109375 22.625 23.890625 \nQ 32.328125 33.6875 34.8125 36.53125 \nQ 39.546875 41.84375 41.421875 45.53125 \nQ 43.3125 49.21875 43.3125 52.78125 \nQ 43.3125 58.59375 39.234375 62.25 \nQ 35.15625 65.921875 28.609375 65.921875 \nQ 23.96875 65.921875 18.8125 64.3125 \nQ 13.671875 62.703125 7.8125 59.421875 \nL 7.8125 69.390625 \nQ 13.765625 71.78125 18.9375 73 \nQ 24.125 74.21875 28.421875 74.21875 \nQ 39.75 74.21875 46.484375 68.546875 \nQ 53.21875 62.890625 53.21875 53.421875 \nQ 53.21875 48.921875 51.53125 44.890625 \nQ 49.859375 40.875 45.40625 35.40625 \nQ 44.1875 33.984375 37.640625 27.21875 \nQ 31.109375 20.453125 19.1875 8.296875 \nz\n\" id=\"DejaVuSans-50\"/>\n      </defs>\n      <g transform=\"translate(98.242472 239.238437)scale(0.1 -0.1)\">\n       <use xlink:href=\"#DejaVuSans-48\"/>\n       <use x=\"63.623047\" xlink:href=\"#DejaVuSans-46\"/>\n       <use x=\"95.410156\" xlink:href=\"#DejaVuSans-50\"/>\n      </g>\n     </g>\n    </g>\n    <g id=\"xtick_3\">\n     <g id=\"line2d_3\">\n      <g>\n       <use style=\"stroke:#000000;stroke-width:0.8;\" x=\"167.066761\" xlink:href=\"#m79b9262b43\" y=\"224.64\"/>\n      </g>\n     </g>\n     <g id=\"text_3\">\n      <!-- 0.4 -->\n      <defs>\n       <path d=\"M 37.796875 64.3125 \nL 12.890625 25.390625 \nL 37.796875 25.390625 \nz\nM 35.203125 72.90625 \nL 47.609375 72.90625 \nL 47.609375 25.390625 \nL 58.015625 25.390625 \nL 58.015625 17.1875 \nL 47.609375 17.1875 \nL 47.609375 0 \nL 37.796875 0 \nL 37.796875 17.1875 \nL 4.890625 17.1875 \nL 4.890625 26.703125 \nz\n\" id=\"DejaVuSans-52\"/>\n      </defs>\n      <g transform=\"translate(159.115199 239.238437)scale(0.1 -0.1)\">\n       <use xlink:href=\"#DejaVuSans-48\"/>\n       <use x=\"63.623047\" xlink:href=\"#DejaVuSans-46\"/>\n       <use x=\"95.410156\" xlink:href=\"#DejaVuSans-52\"/>\n      </g>\n     </g>\n    </g>\n    <g id=\"xtick_4\">\n     <g id=\"line2d_4\">\n      <g>\n       <use style=\"stroke:#000000;stroke-width:0.8;\" x=\"227.939489\" xlink:href=\"#m79b9262b43\" y=\"224.64\"/>\n      </g>\n     </g>\n     <g id=\"text_4\">\n      <!-- 0.6 -->\n      <defs>\n       <path d=\"M 33.015625 40.375 \nQ 26.375 40.375 22.484375 35.828125 \nQ 18.609375 31.296875 18.609375 23.390625 \nQ 18.609375 15.53125 22.484375 10.953125 \nQ 26.375 6.390625 33.015625 6.390625 \nQ 39.65625 6.390625 43.53125 10.953125 \nQ 47.40625 15.53125 47.40625 23.390625 \nQ 47.40625 31.296875 43.53125 35.828125 \nQ 39.65625 40.375 33.015625 40.375 \nz\nM 52.59375 71.296875 \nL 52.59375 62.3125 \nQ 48.875 64.0625 45.09375 64.984375 \nQ 41.3125 65.921875 37.59375 65.921875 \nQ 27.828125 65.921875 22.671875 59.328125 \nQ 17.53125 52.734375 16.796875 39.40625 \nQ 19.671875 43.65625 24.015625 45.921875 \nQ 28.375 48.1875 33.59375 48.1875 \nQ 44.578125 48.1875 50.953125 41.515625 \nQ 57.328125 34.859375 57.328125 23.390625 \nQ 57.328125 12.15625 50.6875 5.359375 \nQ 44.046875 -1.421875 33.015625 -1.421875 \nQ 20.359375 -1.421875 13.671875 8.265625 \nQ 6.984375 17.96875 6.984375 36.375 \nQ 6.984375 53.65625 15.1875 63.9375 \nQ 23.390625 74.21875 37.203125 74.21875 \nQ 40.921875 74.21875 44.703125 73.484375 \nQ 48.484375 72.75 52.59375 71.296875 \nz\n\" id=\"DejaVuSans-54\"/>\n      </defs>\n      <g transform=\"translate(219.987926 239.238437)scale(0.1 -0.1)\">\n       <use xlink:href=\"#DejaVuSans-48\"/>\n       <use x=\"63.623047\" xlink:href=\"#DejaVuSans-46\"/>\n       <use x=\"95.410156\" xlink:href=\"#DejaVuSans-54\"/>\n      </g>\n     </g>\n    </g>\n    <g id=\"xtick_5\">\n     <g id=\"line2d_5\">\n      <g>\n       <use style=\"stroke:#000000;stroke-width:0.8;\" x=\"288.812216\" xlink:href=\"#m79b9262b43\" y=\"224.64\"/>\n      </g>\n     </g>\n     <g id=\"text_5\">\n      <!-- 0.8 -->\n      <defs>\n       <path d=\"M 31.78125 34.625 \nQ 24.75 34.625 20.71875 30.859375 \nQ 16.703125 27.09375 16.703125 20.515625 \nQ 16.703125 13.921875 20.71875 10.15625 \nQ 24.75 6.390625 31.78125 6.390625 \nQ 38.8125 6.390625 42.859375 10.171875 \nQ 46.921875 13.96875 46.921875 20.515625 \nQ 46.921875 27.09375 42.890625 30.859375 \nQ 38.875 34.625 31.78125 34.625 \nz\nM 21.921875 38.8125 \nQ 15.578125 40.375 12.03125 44.71875 \nQ 8.5 49.078125 8.5 55.328125 \nQ 8.5 64.0625 14.71875 69.140625 \nQ 20.953125 74.21875 31.78125 74.21875 \nQ 42.671875 74.21875 48.875 69.140625 \nQ 55.078125 64.0625 55.078125 55.328125 \nQ 55.078125 49.078125 51.53125 44.71875 \nQ 48 40.375 41.703125 38.8125 \nQ 48.828125 37.15625 52.796875 32.3125 \nQ 56.78125 27.484375 56.78125 20.515625 \nQ 56.78125 9.90625 50.3125 4.234375 \nQ 43.84375 -1.421875 31.78125 -1.421875 \nQ 19.734375 -1.421875 13.25 4.234375 \nQ 6.78125 9.90625 6.78125 20.515625 \nQ 6.78125 27.484375 10.78125 32.3125 \nQ 14.796875 37.15625 21.921875 38.8125 \nz\nM 18.3125 54.390625 \nQ 18.3125 48.734375 21.84375 45.5625 \nQ 25.390625 42.390625 31.78125 42.390625 \nQ 38.140625 42.390625 41.71875 45.5625 \nQ 45.3125 48.734375 45.3125 54.390625 \nQ 45.3125 60.0625 41.71875 63.234375 \nQ 38.140625 66.40625 31.78125 66.40625 \nQ 25.390625 66.40625 21.84375 63.234375 \nQ 18.3125 60.0625 18.3125 54.390625 \nz\n\" id=\"DejaVuSans-56\"/>\n      </defs>\n      <g transform=\"translate(280.860653 239.238437)scale(0.1 -0.1)\">\n       <use xlink:href=\"#DejaVuSans-48\"/>\n       <use x=\"63.623047\" xlink:href=\"#DejaVuSans-46\"/>\n       <use x=\"95.410156\" xlink:href=\"#DejaVuSans-56\"/>\n      </g>\n     </g>\n    </g>\n    <g id=\"xtick_6\">\n     <g id=\"line2d_6\">\n      <g>\n       <use style=\"stroke:#000000;stroke-width:0.8;\" x=\"349.684943\" xlink:href=\"#m79b9262b43\" y=\"224.64\"/>\n      </g>\n     </g>\n     <g id=\"text_6\">\n      <!-- 1.0 -->\n      <defs>\n       <path d=\"M 12.40625 8.296875 \nL 28.515625 8.296875 \nL 28.515625 63.921875 \nL 10.984375 60.40625 \nL 10.984375 69.390625 \nL 28.421875 72.90625 \nL 38.28125 72.90625 \nL 38.28125 8.296875 \nL 54.390625 8.296875 \nL 54.390625 0 \nL 12.40625 0 \nz\n\" id=\"DejaVuSans-49\"/>\n      </defs>\n      <g transform=\"translate(341.733381 239.238437)scale(0.1 -0.1)\">\n       <use xlink:href=\"#DejaVuSans-49\"/>\n       <use x=\"63.623047\" xlink:href=\"#DejaVuSans-46\"/>\n       <use x=\"95.410156\" xlink:href=\"#DejaVuSans-48\"/>\n      </g>\n     </g>\n    </g>\n   </g>\n   <g id=\"matplotlib.axis_2\">\n    <g id=\"ytick_1\">\n     <g id=\"line2d_7\">\n      <defs>\n       <path d=\"M 0 0 \nL -3.5 0 \n\" id=\"m36adc52dbe\" style=\"stroke:#000000;stroke-width:0.8;\"/>\n      </defs>\n      <g>\n       <use style=\"stroke:#000000;stroke-width:0.8;\" x=\"30.103125\" xlink:href=\"#m36adc52dbe\" y=\"224.64\"/>\n      </g>\n     </g>\n     <g id=\"text_7\">\n      <!-- 0.0 -->\n      <g transform=\"translate(7.2 228.439219)scale(0.1 -0.1)\">\n       <use xlink:href=\"#DejaVuSans-48\"/>\n       <use x=\"63.623047\" xlink:href=\"#DejaVuSans-46\"/>\n       <use x=\"95.410156\" xlink:href=\"#DejaVuSans-48\"/>\n      </g>\n     </g>\n    </g>\n    <g id=\"ytick_2\">\n     <g id=\"line2d_8\">\n      <g>\n       <use style=\"stroke:#000000;stroke-width:0.8;\" x=\"30.103125\" xlink:href=\"#m36adc52dbe\" y=\"183.222857\"/>\n      </g>\n     </g>\n     <g id=\"text_8\">\n      <!-- 0.2 -->\n      <g transform=\"translate(7.2 187.022076)scale(0.1 -0.1)\">\n       <use xlink:href=\"#DejaVuSans-48\"/>\n       <use x=\"63.623047\" xlink:href=\"#DejaVuSans-46\"/>\n       <use x=\"95.410156\" xlink:href=\"#DejaVuSans-50\"/>\n      </g>\n     </g>\n    </g>\n    <g id=\"ytick_3\">\n     <g id=\"line2d_9\">\n      <g>\n       <use style=\"stroke:#000000;stroke-width:0.8;\" x=\"30.103125\" xlink:href=\"#m36adc52dbe\" y=\"141.805714\"/>\n      </g>\n     </g>\n     <g id=\"text_9\">\n      <!-- 0.4 -->\n      <g transform=\"translate(7.2 145.604933)scale(0.1 -0.1)\">\n       <use xlink:href=\"#DejaVuSans-48\"/>\n       <use x=\"63.623047\" xlink:href=\"#DejaVuSans-46\"/>\n       <use x=\"95.410156\" xlink:href=\"#DejaVuSans-52\"/>\n      </g>\n     </g>\n    </g>\n    <g id=\"ytick_4\">\n     <g id=\"line2d_10\">\n      <g>\n       <use style=\"stroke:#000000;stroke-width:0.8;\" x=\"30.103125\" xlink:href=\"#m36adc52dbe\" y=\"100.388571\"/>\n      </g>\n     </g>\n     <g id=\"text_10\">\n      <!-- 0.6 -->\n      <g transform=\"translate(7.2 104.18779)scale(0.1 -0.1)\">\n       <use xlink:href=\"#DejaVuSans-48\"/>\n       <use x=\"63.623047\" xlink:href=\"#DejaVuSans-46\"/>\n       <use x=\"95.410156\" xlink:href=\"#DejaVuSans-54\"/>\n      </g>\n     </g>\n    </g>\n    <g id=\"ytick_5\">\n     <g id=\"line2d_11\">\n      <g>\n       <use style=\"stroke:#000000;stroke-width:0.8;\" x=\"30.103125\" xlink:href=\"#m36adc52dbe\" y=\"58.971429\"/>\n      </g>\n     </g>\n     <g id=\"text_11\">\n      <!-- 0.8 -->\n      <g transform=\"translate(7.2 62.770647)scale(0.1 -0.1)\">\n       <use xlink:href=\"#DejaVuSans-48\"/>\n       <use x=\"63.623047\" xlink:href=\"#DejaVuSans-46\"/>\n       <use x=\"95.410156\" xlink:href=\"#DejaVuSans-56\"/>\n      </g>\n     </g>\n    </g>\n    <g id=\"ytick_6\">\n     <g id=\"line2d_12\">\n      <g>\n       <use style=\"stroke:#000000;stroke-width:0.8;\" x=\"30.103125\" xlink:href=\"#m36adc52dbe\" y=\"17.554286\"/>\n      </g>\n     </g>\n     <g id=\"text_12\">\n      <!-- 1.0 -->\n      <g transform=\"translate(7.2 21.353504)scale(0.1 -0.1)\">\n       <use xlink:href=\"#DejaVuSans-49\"/>\n       <use x=\"63.623047\" xlink:href=\"#DejaVuSans-46\"/>\n       <use x=\"95.410156\" xlink:href=\"#DejaVuSans-48\"/>\n      </g>\n     </g>\n    </g>\n   </g>\n   <g id=\"patch_33\">\n    <path d=\"M 30.103125 224.64 \nL 30.103125 7.2 \n\" style=\"fill:none;stroke:#000000;stroke-linecap:square;stroke-linejoin:miter;stroke-width:0.8;\"/>\n   </g>\n   <g id=\"patch_34\">\n    <path d=\"M 364.903125 224.64 \nL 364.903125 7.2 \n\" style=\"fill:none;stroke:#000000;stroke-linecap:square;stroke-linejoin:miter;stroke-width:0.8;\"/>\n   </g>\n   <g id=\"patch_35\">\n    <path d=\"M 30.103125 224.64 \nL 364.903125 224.64 \n\" style=\"fill:none;stroke:#000000;stroke-linecap:square;stroke-linejoin:miter;stroke-width:0.8;\"/>\n   </g>\n   <g id=\"patch_36\">\n    <path d=\"M 30.103125 7.2 \nL 364.903125 7.2 \n\" style=\"fill:none;stroke:#000000;stroke-linecap:square;stroke-linejoin:miter;stroke-width:0.8;\"/>\n   </g>\n  </g>\n </g>\n <defs>\n  <clipPath id=\"p74791054e1\">\n   <rect height=\"217.44\" width=\"334.8\" x=\"30.103125\" y=\"7.2\"/>\n  </clipPath>\n </defs>\n</svg>\n",
      "image/png": "[encoded data removed]"
     },
     "metadata": {
      "needs_background": "light"
     }
    }
   ],
   "source": [
    "num_no_pos = 0\n",
    "for v in pos_ratioes.values():\n",
    "    if v == 0.0:\n",
    "        num_no_pos += 1\n",
    "print(f'Ratio of queries without positive answers: {num_no_pos/len(pos_ratioes)}.')\n",
    "plt.hist(pos_ratioes.values(), bins=30, density=True, cumulative=True)\n",
    "plt.show()"
   ]
  },
  {
   "cell_type": "code",
   "execution_count": 22,
   "metadata": {},
   "outputs": [],
   "source": [
    "# train_df[train_df['label'] == 1].to_csv(RAW_DATA_PATH/'./train/train.pos.tsv',sep='\\t',index=False)"
   ]
  },
  {
   "cell_type": "code",
   "execution_count": 23,
   "metadata": {},
   "outputs": [
    {
     "output_type": "execute_result",
     "data": {
      "text/plain": [
       "        id                  q1          q1_bt\n",
       "0        0            采荷一小是分校吧    采河第一小学是一所分校\n",
       "1        1                毛坯吗？            空白？\n",
       "2        2  你们的佣金费大约是多少和契税是多少。    你的佣金和契税是多少。\n",
       "3        3             靠近川沙路嘛？       在川沙路附近吗？\n",
       "4        4      这套房源价格还有优惠空间吗？   这房子的价格还有折扣吗？\n",
       "...    ...                 ...            ...\n",
       "5995  5995              好一起看一下        好的，我们看看\n",
       "5996  5996              对口什么小学           什么小学\n",
       "5997  5997             可以贷公积金吗        我能借公积金吗\n",
       "5998  5998      您好，我正在看尚林家园的房子  你好，我在看上林家园的房子\n",
       "5999  5999         今天可以安排看房子吗？   你能安排今天去看房子吗？\n",
       "\n",
       "[6000 rows x 3 columns]"
      ],
      "text/html": "<div>\n<style scoped>\n    .dataframe tbody tr th:only-of-type {\n        vertical-align: middle;\n    }\n\n    .dataframe tbody tr th {\n        vertical-align: top;\n    }\n\n    .dataframe thead th {\n        text-align: right;\n    }\n</style>\n<table border=\"1\" class=\"dataframe\">\n  <thead>\n    <tr style=\"text-align: right;\">\n      <th></th>\n      <th>id</th>\n      <th>q1</th>\n      <th>q1_bt</th>\n    </tr>\n  </thead>\n  <tbody>\n    <tr>\n      <th>0</th>\n      <td>0</td>\n      <td>采荷一小是分校吧</td>\n      <td>采河第一小学是一所分校</td>\n    </tr>\n    <tr>\n      <th>1</th>\n      <td>1</td>\n      <td>毛坯吗？</td>\n      <td>空白？</td>\n    </tr>\n    <tr>\n      <th>2</th>\n      <td>2</td>\n      <td>你们的佣金费大约是多少和契税是多少。</td>\n      <td>你的佣金和契税是多少。</td>\n    </tr>\n    <tr>\n      <th>3</th>\n      <td>3</td>\n      <td>靠近川沙路嘛？</td>\n      <td>在川沙路附近吗？</td>\n    </tr>\n    <tr>\n      <th>4</th>\n      <td>4</td>\n      <td>这套房源价格还有优惠空间吗？</td>\n      <td>这房子的价格还有折扣吗？</td>\n    </tr>\n    <tr>\n      <th>...</th>\n      <td>...</td>\n      <td>...</td>\n      <td>...</td>\n    </tr>\n    <tr>\n      <th>5995</th>\n      <td>5995</td>\n      <td>好一起看一下</td>\n      <td>好的，我们看看</td>\n    </tr>\n    <tr>\n      <th>5996</th>\n      <td>5996</td>\n      <td>对口什么小学</td>\n      <td>什么小学</td>\n    </tr>\n    <tr>\n      <th>5997</th>\n      <td>5997</td>\n      <td>可以贷公积金吗</td>\n      <td>我能借公积金吗</td>\n    </tr>\n    <tr>\n      <th>5998</th>\n      <td>5998</td>\n      <td>您好，我正在看尚林家园的房子</td>\n      <td>你好，我在看上林家园的房子</td>\n    </tr>\n    <tr>\n      <th>5999</th>\n      <td>5999</td>\n      <td>今天可以安排看房子吗？</td>\n      <td>你能安排今天去看房子吗？</td>\n    </tr>\n  </tbody>\n</table>\n<p>6000 rows × 3 columns</p>\n</div>"
     },
     "metadata": {},
     "execution_count": 23
    }
   ],
   "source": [
    "train_query_bt = pd.read_csv(RAW_DATA_PATH/'./train/train.query.bt.tsv',sep='\\t',header=None, names=['id','q1','q1_bt'])\n",
    "train_query_bt"
   ]
  },
  {
   "cell_type": "code",
   "execution_count": 24,
   "metadata": {},
   "outputs": [],
   "source": [
    "train_query_bt['q1'] = train_query_bt['q1_bt']\n",
    "train_query_bt = train_query_bt.drop('q1_bt', axis='columns')"
   ]
  },
  {
   "cell_type": "code",
   "execution_count": 25,
   "metadata": {},
   "outputs": [
    {
     "output_type": "execute_result",
     "data": {
      "text/plain": [
       "         id  id_sub                           q2  label  \\\n",
       "0         0       0  杭州市采荷第一小学钱江苑校区，杭州市钱江新城实验学校。      1   \n",
       "1         0       1                           是的      0   \n",
       "2         0       2                         这是5楼      0   \n",
       "3         1       0                   因为公积金贷款贷的少      0   \n",
       "4         1       1                           是呢      0   \n",
       "...     ...     ...                          ...    ...   \n",
       "21580  5998       1                           有啊      0   \n",
       "21581  5998       2                        我带你看看      0   \n",
       "21582  5999       0                   我约下房东，稍后回你      1   \n",
       "21583  5999       1               可以看，你几点有时间过来呢？      1   \n",
       "21584  5999       2              好的，那咱们在一号门口这碰头？      0   \n",
       "\n",
       "                           q2_bt  \n",
       "0      杭州财河第一小学钱江源校区、杭州钱江新城实验学校。  \n",
       "1                              对  \n",
       "2                           这是五楼  \n",
       "3                      因为公积金贷款很少  \n",
       "4                             是的  \n",
       "...                          ...  \n",
       "21580                         是的  \n",
       "21581                       我给你看  \n",
       "21582          我去和房东约个时间。我待会再来找你  \n",
       "21583           你可以看到。你什么时候有时间来？  \n",
       "21584            好 啊。我们在一号门见面好吗？  \n",
       "\n",
       "[21585 rows x 5 columns]"
      ],
      "text/html": "<div>\n<style scoped>\n    .dataframe tbody tr th:only-of-type {\n        vertical-align: middle;\n    }\n\n    .dataframe tbody tr th {\n        vertical-align: top;\n    }\n\n    .dataframe thead th {\n        text-align: right;\n    }\n</style>\n<table border=\"1\" class=\"dataframe\">\n  <thead>\n    <tr style=\"text-align: right;\">\n      <th></th>\n      <th>id</th>\n      <th>id_sub</th>\n      <th>q2</th>\n      <th>label</th>\n      <th>q2_bt</th>\n    </tr>\n  </thead>\n  <tbody>\n    <tr>\n      <th>0</th>\n      <td>0</td>\n      <td>0</td>\n      <td>杭州市采荷第一小学钱江苑校区，杭州市钱江新城实验学校。</td>\n      <td>1</td>\n      <td>杭州财河第一小学钱江源校区、杭州钱江新城实验学校。</td>\n    </tr>\n    <tr>\n      <th>1</th>\n      <td>0</td>\n      <td>1</td>\n      <td>是的</td>\n      <td>0</td>\n      <td>对</td>\n    </tr>\n    <tr>\n      <th>2</th>\n      <td>0</td>\n      <td>2</td>\n      <td>这是5楼</td>\n      <td>0</td>\n      <td>这是五楼</td>\n    </tr>\n    <tr>\n      <th>3</th>\n      <td>1</td>\n      <td>0</td>\n      <td>因为公积金贷款贷的少</td>\n      <td>0</td>\n      <td>因为公积金贷款很少</td>\n    </tr>\n    <tr>\n      <th>4</th>\n      <td>1</td>\n      <td>1</td>\n      <td>是呢</td>\n      <td>0</td>\n      <td>是的</td>\n    </tr>\n    <tr>\n      <th>...</th>\n      <td>...</td>\n      <td>...</td>\n      <td>...</td>\n      <td>...</td>\n      <td>...</td>\n    </tr>\n    <tr>\n      <th>21580</th>\n      <td>5998</td>\n      <td>1</td>\n      <td>有啊</td>\n      <td>0</td>\n      <td>是的</td>\n    </tr>\n    <tr>\n      <th>21581</th>\n      <td>5998</td>\n      <td>2</td>\n      <td>我带你看看</td>\n      <td>0</td>\n      <td>我给你看</td>\n    </tr>\n    <tr>\n      <th>21582</th>\n      <td>5999</td>\n      <td>0</td>\n      <td>我约下房东，稍后回你</td>\n      <td>1</td>\n      <td>我去和房东约个时间。我待会再来找你</td>\n    </tr>\n    <tr>\n      <th>21583</th>\n      <td>5999</td>\n      <td>1</td>\n      <td>可以看，你几点有时间过来呢？</td>\n      <td>1</td>\n      <td>你可以看到。你什么时候有时间来？</td>\n    </tr>\n    <tr>\n      <th>21584</th>\n      <td>5999</td>\n      <td>2</td>\n      <td>好的，那咱们在一号门口这碰头？</td>\n      <td>0</td>\n      <td>好 啊。我们在一号门见面好吗？</td>\n    </tr>\n  </tbody>\n</table>\n<p>21585 rows × 5 columns</p>\n</div>"
     },
     "metadata": {},
     "execution_count": 25
    }
   ],
   "source": [
    "train_reply_bt = pd.read_csv(RAW_DATA_PATH/'./train/train.reply.bt.tsv',sep='\\t',header=None, names=['id','id_sub', 'q2', 'label','q2_bt'])\n",
    "train_reply_bt"
   ]
  },
  {
   "cell_type": "code",
   "execution_count": 26,
   "metadata": {},
   "outputs": [],
   "source": [
    "train_reply_bt['q2'] = train_reply_bt['q2_bt']\n",
    "train_reply_bt = train_reply_bt.drop('q2_bt', axis='columns')"
   ]
  },
  {
   "cell_type": "code",
   "execution_count": 27,
   "metadata": {},
   "outputs": [
    {
     "output_type": "execute_result",
     "data": {
      "text/plain": [
       "         id             q1  id_sub                         q2  label\n",
       "0         0    采河第一小学是一所分校       0  杭州财河第一小学钱江源校区、杭州钱江新城实验学校。      1\n",
       "1         0    采河第一小学是一所分校       1                          对      0\n",
       "2         0    采河第一小学是一所分校       2                       这是五楼      0\n",
       "3         1            空白？       0                  因为公积金贷款很少      0\n",
       "4         1            空白？       1                         是的      0\n",
       "...     ...            ...     ...                        ...    ...\n",
       "21580  5998  你好，我在看上林家园的房子       1                         是的      0\n",
       "21581  5998  你好，我在看上林家园的房子       2                       我给你看      0\n",
       "21582  5999   你能安排今天去看房子吗？       0          我去和房东约个时间。我待会再来找你      1\n",
       "21583  5999   你能安排今天去看房子吗？       1           你可以看到。你什么时候有时间来？      1\n",
       "21584  5999   你能安排今天去看房子吗？       2            好 啊。我们在一号门见面好吗？      0\n",
       "\n",
       "[21585 rows x 5 columns]"
      ],
      "text/html": "<div>\n<style scoped>\n    .dataframe tbody tr th:only-of-type {\n        vertical-align: middle;\n    }\n\n    .dataframe tbody tr th {\n        vertical-align: top;\n    }\n\n    .dataframe thead th {\n        text-align: right;\n    }\n</style>\n<table border=\"1\" class=\"dataframe\">\n  <thead>\n    <tr style=\"text-align: right;\">\n      <th></th>\n      <th>id</th>\n      <th>q1</th>\n      <th>id_sub</th>\n      <th>q2</th>\n      <th>label</th>\n    </tr>\n  </thead>\n  <tbody>\n    <tr>\n      <th>0</th>\n      <td>0</td>\n      <td>采河第一小学是一所分校</td>\n      <td>0</td>\n      <td>杭州财河第一小学钱江源校区、杭州钱江新城实验学校。</td>\n      <td>1</td>\n    </tr>\n    <tr>\n      <th>1</th>\n      <td>0</td>\n      <td>采河第一小学是一所分校</td>\n      <td>1</td>\n      <td>对</td>\n      <td>0</td>\n    </tr>\n    <tr>\n      <th>2</th>\n      <td>0</td>\n      <td>采河第一小学是一所分校</td>\n      <td>2</td>\n      <td>这是五楼</td>\n      <td>0</td>\n    </tr>\n    <tr>\n      <th>3</th>\n      <td>1</td>\n      <td>空白？</td>\n      <td>0</td>\n      <td>因为公积金贷款很少</td>\n      <td>0</td>\n    </tr>\n    <tr>\n      <th>4</th>\n      <td>1</td>\n      <td>空白？</td>\n      <td>1</td>\n      <td>是的</td>\n      <td>0</td>\n    </tr>\n    <tr>\n      <th>...</th>\n      <td>...</td>\n      <td>...</td>\n      <td>...</td>\n      <td>...</td>\n      <td>...</td>\n    </tr>\n    <tr>\n      <th>21580</th>\n      <td>5998</td>\n      <td>你好，我在看上林家园的房子</td>\n      <td>1</td>\n      <td>是的</td>\n      <td>0</td>\n    </tr>\n    <tr>\n      <th>21581</th>\n      <td>5998</td>\n      <td>你好，我在看上林家园的房子</td>\n      <td>2</td>\n      <td>我给你看</td>\n      <td>0</td>\n    </tr>\n    <tr>\n      <th>21582</th>\n      <td>5999</td>\n      <td>你能安排今天去看房子吗？</td>\n      <td>0</td>\n      <td>我去和房东约个时间。我待会再来找你</td>\n      <td>1</td>\n    </tr>\n    <tr>\n      <th>21583</th>\n      <td>5999</td>\n      <td>你能安排今天去看房子吗？</td>\n      <td>1</td>\n      <td>你可以看到。你什么时候有时间来？</td>\n      <td>1</td>\n    </tr>\n    <tr>\n      <th>21584</th>\n      <td>5999</td>\n      <td>你能安排今天去看房子吗？</td>\n      <td>2</td>\n      <td>好 啊。我们在一号门见面好吗？</td>\n      <td>0</td>\n    </tr>\n  </tbody>\n</table>\n<p>21585 rows × 5 columns</p>\n</div>"
     },
     "metadata": {},
     "execution_count": 27
    }
   ],
   "source": [
    "train_df_bt = pd.merge(train_query_bt, train_reply_bt, how='left')\n",
    "train_df_bt"
   ]
  },
  {
   "cell_type": "code",
   "execution_count": 28,
   "metadata": {},
   "outputs": [],
   "source": [
    "# 只增强正样本\n",
    "# train_df_bt = train_df_bt[train_df_bt['label'] == 1]\n",
    "# train_df_bt"
   ]
  },
  {
   "cell_type": "code",
   "execution_count": 29,
   "metadata": {},
   "outputs": [],
   "source": [
    "train_df_bt['q2'] = train_df_bt['q2'].fillna('好的')"
   ]
  },
  {
   "cell_type": "code",
   "execution_count": 30,
   "metadata": {},
   "outputs": [
    {
     "output_type": "execute_result",
     "data": {
      "text/plain": [
       "         id             q1  id_sub                           q2  label\n",
       "0         0       采荷一小是分校吧       0  杭州市采荷第一小学钱江苑校区，杭州市钱江新城实验学校。      1\n",
       "1         0       采荷一小是分校吧       1                           是的      0\n",
       "2         0       采荷一小是分校吧       2                         这是5楼      0\n",
       "3         1           毛坯吗？       0                   因为公积金贷款贷的少      0\n",
       "4         1           毛坯吗？       1                           是呢      0\n",
       "...     ...            ...     ...                          ...    ...\n",
       "21580  5998  你好，我在看上林家园的房子       1                           是的      0\n",
       "21581  5998  你好，我在看上林家园的房子       2                         我给你看      0\n",
       "21582  5999   你能安排今天去看房子吗？       0            我去和房东约个时间。我待会再来找你      1\n",
       "21583  5999   你能安排今天去看房子吗？       1             你可以看到。你什么时候有时间来？      1\n",
       "21584  5999   你能安排今天去看房子吗？       2              好 啊。我们在一号门见面好吗？      0\n",
       "\n",
       "[43170 rows x 5 columns]"
      ],
      "text/html": "<div>\n<style scoped>\n    .dataframe tbody tr th:only-of-type {\n        vertical-align: middle;\n    }\n\n    .dataframe tbody tr th {\n        vertical-align: top;\n    }\n\n    .dataframe thead th {\n        text-align: right;\n    }\n</style>\n<table border=\"1\" class=\"dataframe\">\n  <thead>\n    <tr style=\"text-align: right;\">\n      <th></th>\n      <th>id</th>\n      <th>q1</th>\n      <th>id_sub</th>\n      <th>q2</th>\n      <th>label</th>\n    </tr>\n  </thead>\n  <tbody>\n    <tr>\n      <th>0</th>\n      <td>0</td>\n      <td>采荷一小是分校吧</td>\n      <td>0</td>\n      <td>杭州市采荷第一小学钱江苑校区，杭州市钱江新城实验学校。</td>\n      <td>1</td>\n    </tr>\n    <tr>\n      <th>1</th>\n      <td>0</td>\n      <td>采荷一小是分校吧</td>\n      <td>1</td>\n      <td>是的</td>\n      <td>0</td>\n    </tr>\n    <tr>\n      <th>2</th>\n      <td>0</td>\n      <td>采荷一小是分校吧</td>\n      <td>2</td>\n      <td>这是5楼</td>\n      <td>0</td>\n    </tr>\n    <tr>\n      <th>3</th>\n      <td>1</td>\n      <td>毛坯吗？</td>\n      <td>0</td>\n      <td>因为公积金贷款贷的少</td>\n      <td>0</td>\n    </tr>\n    <tr>\n      <th>4</th>\n      <td>1</td>\n      <td>毛坯吗？</td>\n      <td>1</td>\n      <td>是呢</td>\n      <td>0</td>\n    </tr>\n    <tr>\n      <th>...</th>\n      <td>...</td>\n      <td>...</td>\n      <td>...</td>\n      <td>...</td>\n      <td>...</td>\n    </tr>\n    <tr>\n      <th>21580</th>\n      <td>5998</td>\n      <td>你好，我在看上林家园的房子</td>\n      <td>1</td>\n      <td>是的</td>\n      <td>0</td>\n    </tr>\n    <tr>\n      <th>21581</th>\n      <td>5998</td>\n      <td>你好，我在看上林家园的房子</td>\n      <td>2</td>\n      <td>我给你看</td>\n      <td>0</td>\n    </tr>\n    <tr>\n      <th>21582</th>\n      <td>5999</td>\n      <td>你能安排今天去看房子吗？</td>\n      <td>0</td>\n      <td>我去和房东约个时间。我待会再来找你</td>\n      <td>1</td>\n    </tr>\n    <tr>\n      <th>21583</th>\n      <td>5999</td>\n      <td>你能安排今天去看房子吗？</td>\n      <td>1</td>\n      <td>你可以看到。你什么时候有时间来？</td>\n      <td>1</td>\n    </tr>\n    <tr>\n      <th>21584</th>\n      <td>5999</td>\n      <td>你能安排今天去看房子吗？</td>\n      <td>2</td>\n      <td>好 啊。我们在一号门见面好吗？</td>\n      <td>0</td>\n    </tr>\n  </tbody>\n</table>\n<p>43170 rows × 5 columns</p>\n</div>"
     },
     "metadata": {},
     "execution_count": 30
    }
   ],
   "source": [
    "# 将增强的样本和原训练集合并\n",
    "train_df_ex = pd.concat([train_df, train_df_bt])\n",
    "train_df_ex"
   ]
  },
  {
   "cell_type": "code",
   "execution_count": 31,
   "metadata": {
    "tags": []
   },
   "outputs": [
    {
     "output_type": "execute_result",
     "data": {
      "text/plain": [
       "0         True\n",
       "1        False\n",
       "2        False\n",
       "3        False\n",
       "4        False\n",
       "         ...  \n",
       "21580    False\n",
       "21581    False\n",
       "21582     True\n",
       "21583     True\n",
       "21584    False\n",
       "Length: 21585, dtype: bool"
      ]
     },
     "metadata": {},
     "execution_count": 31
    }
   ],
   "source": [
    "train_id_set = set([f'{x[0]},{x[1]}' for x in train_df[train_df['label'] == 1][['id', 'id_sub']].to_numpy()])\n",
    "mask = train_df_bt[['id', 'id_sub']].apply(lambda x: f'{x[\"id\"]},{x[\"id_sub\"]}' in train_id_set, axis=1)\n",
    "mask"
   ]
  },
  {
   "cell_type": "code",
   "execution_count": 32,
   "metadata": {},
   "outputs": [
    {
     "output_type": "execute_result",
     "data": {
      "text/plain": [
       "         id            q1  id_sub                         q2  label\n",
       "0         0   采河第一小学是一所分校       0  杭州财河第一小学钱江源校区、杭州钱江新城实验学校。      1\n",
       "9         2   你的佣金和契税是多少。       1                 所有费用降到654万      1\n",
       "10        2   你的佣金和契税是多少。       2                包括税金、服务费和房价      1\n",
       "14        3      在川沙路附近吗？       1                    离川沙路有点近      1\n",
       "16        4  这房子的价格还有折扣吗？       0                         是的      1\n",
       "...     ...           ...     ...                        ...    ...\n",
       "21567  5994        价格能谈多少       1                   五年来唯一的房子      1\n",
       "21572  5996          什么小学       0                    应该是长丰小学      1\n",
       "21575  5997       我能借公积金吗       1                       可忍受的      1\n",
       "21582  5999  你能安排今天去看房子吗？       0          我去和房东约个时间。我待会再来找你      1\n",
       "21583  5999  你能安排今天去看房子吗？       1           你可以看到。你什么时候有时间来？      1\n",
       "\n",
       "[5387 rows x 5 columns]"
      ],
      "text/html": "<div>\n<style scoped>\n    .dataframe tbody tr th:only-of-type {\n        vertical-align: middle;\n    }\n\n    .dataframe tbody tr th {\n        vertical-align: top;\n    }\n\n    .dataframe thead th {\n        text-align: right;\n    }\n</style>\n<table border=\"1\" class=\"dataframe\">\n  <thead>\n    <tr style=\"text-align: right;\">\n      <th></th>\n      <th>id</th>\n      <th>q1</th>\n      <th>id_sub</th>\n      <th>q2</th>\n      <th>label</th>\n    </tr>\n  </thead>\n  <tbody>\n    <tr>\n      <th>0</th>\n      <td>0</td>\n      <td>采河第一小学是一所分校</td>\n      <td>0</td>\n      <td>杭州财河第一小学钱江源校区、杭州钱江新城实验学校。</td>\n      <td>1</td>\n    </tr>\n    <tr>\n      <th>9</th>\n      <td>2</td>\n      <td>你的佣金和契税是多少。</td>\n      <td>1</td>\n      <td>所有费用降到654万</td>\n      <td>1</td>\n    </tr>\n    <tr>\n      <th>10</th>\n      <td>2</td>\n      <td>你的佣金和契税是多少。</td>\n      <td>2</td>\n      <td>包括税金、服务费和房价</td>\n      <td>1</td>\n    </tr>\n    <tr>\n      <th>14</th>\n      <td>3</td>\n      <td>在川沙路附近吗？</td>\n      <td>1</td>\n      <td>离川沙路有点近</td>\n      <td>1</td>\n    </tr>\n    <tr>\n      <th>16</th>\n      <td>4</td>\n      <td>这房子的价格还有折扣吗？</td>\n      <td>0</td>\n      <td>是的</td>\n      <td>1</td>\n    </tr>\n    <tr>\n      <th>...</th>\n      <td>...</td>\n      <td>...</td>\n      <td>...</td>\n      <td>...</td>\n      <td>...</td>\n    </tr>\n    <tr>\n      <th>21567</th>\n      <td>5994</td>\n      <td>价格能谈多少</td>\n      <td>1</td>\n      <td>五年来唯一的房子</td>\n      <td>1</td>\n    </tr>\n    <tr>\n      <th>21572</th>\n      <td>5996</td>\n      <td>什么小学</td>\n      <td>0</td>\n      <td>应该是长丰小学</td>\n      <td>1</td>\n    </tr>\n    <tr>\n      <th>21575</th>\n      <td>5997</td>\n      <td>我能借公积金吗</td>\n      <td>1</td>\n      <td>可忍受的</td>\n      <td>1</td>\n    </tr>\n    <tr>\n      <th>21582</th>\n      <td>5999</td>\n      <td>你能安排今天去看房子吗？</td>\n      <td>0</td>\n      <td>我去和房东约个时间。我待会再来找你</td>\n      <td>1</td>\n    </tr>\n    <tr>\n      <th>21583</th>\n      <td>5999</td>\n      <td>你能安排今天去看房子吗？</td>\n      <td>1</td>\n      <td>你可以看到。你什么时候有时间来？</td>\n      <td>1</td>\n    </tr>\n  </tbody>\n</table>\n<p>5387 rows × 5 columns</p>\n</div>"
     },
     "metadata": {},
     "execution_count": 32
    }
   ],
   "source": [
    "train_df_bt[mask]"
   ]
  },
  {
   "cell_type": "code",
   "execution_count": 33,
   "metadata": {},
   "outputs": [],
   "source": [
    "train_df_ex.to_csv(RAW_DATA_PATH/'train/train_ex.tsv', sep='\\t', index=False, header=None)"
   ]
  },
  {
   "cell_type": "code",
   "execution_count": 34,
   "metadata": {},
   "outputs": [],
   "source": [
    "# train_reply_bt[train_reply_bt['label'] == 1].to_csv(RAW_DATA_PATH/'./train/train.reply.bt.pos.tsv',sep='\\t',index=False)"
   ]
  },
  {
   "cell_type": "code",
   "execution_count": 35,
   "metadata": {},
   "outputs": [
    {
     "output_type": "execute_result",
     "data": {
      "text/plain": [
       "         id  id_sub                           q2  label  \\\n",
       "0         0       0  杭州市采荷第一小学钱江苑校区，杭州市钱江新城实验学校。      1   \n",
       "1         0       1                           是的      0   \n",
       "2         0       2                         这是5楼      0   \n",
       "3         1       0                   因为公积金贷款贷的少      0   \n",
       "4         1       1                           是呢      0   \n",
       "...     ...     ...                          ...    ...   \n",
       "21580  5998       1                           有啊      0   \n",
       "21581  5998       2                        我带你看看      0   \n",
       "21582  5999       0                   我约下房东，稍后回你      1   \n",
       "21583  5999       1               可以看，你几点有时间过来呢？      1   \n",
       "21584  5999       2              好的，那咱们在一号门口这碰头？      0   \n",
       "\n",
       "                           q2_aug_0                     q2_aug_1  \\\n",
       "0      杭州市采荷第一小学钱江景苑校区，杭州市钱江新城实验学校。  杭州市采荷第一小学钱江苑校区钱江杭州市，新城实验学校。   \n",
       "1                                是的                           是的   \n",
       "2                              楼5这是                        这是5六楼   \n",
       "3                          因为公积金贷的少                  因为按揭贷款贷款贷的少   \n",
       "4                                呢是                           呢是   \n",
       "...                             ...                          ...   \n",
       "21580                            啊有                            有   \n",
       "21581                         我带你问问                         我带看看   \n",
       "21582                  中约我约下房东，稍后回你                   我约下房东，稍后回你   \n",
       "21583                可以看，你几点有时间过来呢？                可以看，几点有时间过来呢？   \n",
       "21584            好或者说的，那咱们在一号门口这碰头？                   ，咱们在一号门口这？   \n",
       "\n",
       "                      q2_aug_2                       q2_aug_3  \n",
       "0      杭州市采荷第一小学钱江苑校区，钱江新城实验学校  杭州市采荷第一小学钱江苑校区，杭州市钱江新城滨江实验学校。  \n",
       "1                            的                             是的  \n",
       "2                         这是5楼                         这是四楼5楼  \n",
       "3                   因为公积金贷款贷的少                   因为授信公积金贷款贷的少  \n",
       "4                           是呢                           是即是呢  \n",
       "...                        ...                            ...  \n",
       "21580                    有需要有啊                             啊有  \n",
       "21581                    我带你看看                          我看看你带  \n",
       "21582             我约下随后房东，稍后回你                     我约下房东，稍后完你  \n",
       "21583          可以看，你几点有时间过来呢可？               可以看，你几点有时间延迟过来呢？  \n",
       "21584          好在，那咱们的一号门口这碰头？                好的，那咱们在一号路边这碰头？  \n",
       "\n",
       "[21585 rows x 8 columns]"
      ],
      "text/html": "<div>\n<style scoped>\n    .dataframe tbody tr th:only-of-type {\n        vertical-align: middle;\n    }\n\n    .dataframe tbody tr th {\n        vertical-align: top;\n    }\n\n    .dataframe thead th {\n        text-align: right;\n    }\n</style>\n<table border=\"1\" class=\"dataframe\">\n  <thead>\n    <tr style=\"text-align: right;\">\n      <th></th>\n      <th>id</th>\n      <th>id_sub</th>\n      <th>q2</th>\n      <th>label</th>\n      <th>q2_aug_0</th>\n      <th>q2_aug_1</th>\n      <th>q2_aug_2</th>\n      <th>q2_aug_3</th>\n    </tr>\n  </thead>\n  <tbody>\n    <tr>\n      <th>0</th>\n      <td>0</td>\n      <td>0</td>\n      <td>杭州市采荷第一小学钱江苑校区，杭州市钱江新城实验学校。</td>\n      <td>1</td>\n      <td>杭州市采荷第一小学钱江景苑校区，杭州市钱江新城实验学校。</td>\n      <td>杭州市采荷第一小学钱江苑校区钱江杭州市，新城实验学校。</td>\n      <td>杭州市采荷第一小学钱江苑校区，钱江新城实验学校</td>\n      <td>杭州市采荷第一小学钱江苑校区，杭州市钱江新城滨江实验学校。</td>\n    </tr>\n    <tr>\n      <th>1</th>\n      <td>0</td>\n      <td>1</td>\n      <td>是的</td>\n      <td>0</td>\n      <td>是的</td>\n      <td>是的</td>\n      <td>的</td>\n      <td>是的</td>\n    </tr>\n    <tr>\n      <th>2</th>\n      <td>0</td>\n      <td>2</td>\n      <td>这是5楼</td>\n      <td>0</td>\n      <td>楼5这是</td>\n      <td>这是5六楼</td>\n      <td>这是5楼</td>\n      <td>这是四楼5楼</td>\n    </tr>\n    <tr>\n      <th>3</th>\n      <td>1</td>\n      <td>0</td>\n      <td>因为公积金贷款贷的少</td>\n      <td>0</td>\n      <td>因为公积金贷的少</td>\n      <td>因为按揭贷款贷款贷的少</td>\n      <td>因为公积金贷款贷的少</td>\n      <td>因为授信公积金贷款贷的少</td>\n    </tr>\n    <tr>\n      <th>4</th>\n      <td>1</td>\n      <td>1</td>\n      <td>是呢</td>\n      <td>0</td>\n      <td>呢是</td>\n      <td>呢是</td>\n      <td>是呢</td>\n      <td>是即是呢</td>\n    </tr>\n    <tr>\n      <th>...</th>\n      <td>...</td>\n      <td>...</td>\n      <td>...</td>\n      <td>...</td>\n      <td>...</td>\n      <td>...</td>\n      <td>...</td>\n      <td>...</td>\n    </tr>\n    <tr>\n      <th>21580</th>\n      <td>5998</td>\n      <td>1</td>\n      <td>有啊</td>\n      <td>0</td>\n      <td>啊有</td>\n      <td>有</td>\n      <td>有需要有啊</td>\n      <td>啊有</td>\n    </tr>\n    <tr>\n      <th>21581</th>\n      <td>5998</td>\n      <td>2</td>\n      <td>我带你看看</td>\n      <td>0</td>\n      <td>我带你问问</td>\n      <td>我带看看</td>\n      <td>我带你看看</td>\n      <td>我看看你带</td>\n    </tr>\n    <tr>\n      <th>21582</th>\n      <td>5999</td>\n      <td>0</td>\n      <td>我约下房东，稍后回你</td>\n      <td>1</td>\n      <td>中约我约下房东，稍后回你</td>\n      <td>我约下房东，稍后回你</td>\n      <td>我约下随后房东，稍后回你</td>\n      <td>我约下房东，稍后完你</td>\n    </tr>\n    <tr>\n      <th>21583</th>\n      <td>5999</td>\n      <td>1</td>\n      <td>可以看，你几点有时间过来呢？</td>\n      <td>1</td>\n      <td>可以看，你几点有时间过来呢？</td>\n      <td>可以看，几点有时间过来呢？</td>\n      <td>可以看，你几点有时间过来呢可？</td>\n      <td>可以看，你几点有时间延迟过来呢？</td>\n    </tr>\n    <tr>\n      <th>21584</th>\n      <td>5999</td>\n      <td>2</td>\n      <td>好的，那咱们在一号门口这碰头？</td>\n      <td>0</td>\n      <td>好或者说的，那咱们在一号门口这碰头？</td>\n      <td>，咱们在一号门口这？</td>\n      <td>好在，那咱们的一号门口这碰头？</td>\n      <td>好的，那咱们在一号路边这碰头？</td>\n    </tr>\n  </tbody>\n</table>\n<p>21585 rows × 8 columns</p>\n</div>"
     },
     "metadata": {},
     "execution_count": 35
    }
   ],
   "source": [
    "train_reply_aug = pd.read_csv(RAW_DATA_PATH/'./train/train.reply.aug4.tsv',sep='\\t',header=None, names=['id','id_sub', 'q2', 'label', 'q2_aug_0', 'q2_aug_1', 'q2_aug_2', 'q2_aug_3', '_']).drop('_', axis=1)\n",
    "train_reply_aug"
   ]
  },
  {
   "cell_type": "code",
   "execution_count": 36,
   "metadata": {},
   "outputs": [
    {
     "output_type": "execute_result",
     "data": {
      "text/plain": [
       "        id                  q1            q1_aug_0          q1_aug_1  \\\n",
       "0        0            采荷一小是分校吧        采荷普渡大学一小是分校吧        采荷一小即是是分校吧   \n",
       "1        1                毛坯吗？                毛坯吗？             马尔松吗？   \n",
       "2        2  你们的佣金费大约是多少和契税是多少。  你们的佣金费大约是多少和可否是多少。  你们的佣金费是多少和契税是多少。   \n",
       "3        3             靠近川沙路嘛？            嘛靠近川沙路嘛？           靠近川沙嘛路？   \n",
       "4        4      这套房源价格还有优惠空间吗？    这套房源价格折扣还有优惠空间吗？    这套房源价格还有空间优惠吗？   \n",
       "...    ...                 ...                 ...               ...   \n",
       "5995  5995              好一起看一下              好看一起一下          好再说一起看一下   \n",
       "5996  5996              对口什么小学           阿勒泰地区什么小学            对口什么小学   \n",
       "5997  5997             可以贷公积金吗             公积金贷可以吗         可以贷表外公积金吗   \n",
       "5998  5998      您好，我正在看尚林家园的房子       您好，我正看尚林家园的房子    您好，我正在看尚林家园的房子   \n",
       "5999  5999         今天可以安排看房子吗？         今天可以交回看房子吗？       今天吗安排看房子可以？   \n",
       "\n",
       "                 q1_aug_2          q1_aug_3  \n",
       "0                  采荷一小是吧          分校一小是采荷吧  \n",
       "1                    毛坯吗？          Loiron吗？  \n",
       "2     你们的会员费费大约是多少和契税是多少。  你们的佣金费是多少和契税是多少。  \n",
       "3               靠近川沙路邻近嘛？           靠近川沙？嘛路  \n",
       "4          这套房源价格？优惠空间吗还有    这套房源价格还有优惠空间吗？  \n",
       "...                   ...               ...  \n",
       "5995                一起看一下            好一起看顺便  \n",
       "5996               对口小学什么                对口  \n",
       "5997              可以贷公积金吗          能可以贷公积金吗  \n",
       "5998     您好，我指路正在看尚林家园的房子    您好，家园正在看尚林我的房子  \n",
       "5999          今天可以安排看房子？吗       现在可以安排看房子吗？  \n",
       "\n",
       "[6000 rows x 6 columns]"
      ],
      "text/html": "<div>\n<style scoped>\n    .dataframe tbody tr th:only-of-type {\n        vertical-align: middle;\n    }\n\n    .dataframe tbody tr th {\n        vertical-align: top;\n    }\n\n    .dataframe thead th {\n        text-align: right;\n    }\n</style>\n<table border=\"1\" class=\"dataframe\">\n  <thead>\n    <tr style=\"text-align: right;\">\n      <th></th>\n      <th>id</th>\n      <th>q1</th>\n      <th>q1_aug_0</th>\n      <th>q1_aug_1</th>\n      <th>q1_aug_2</th>\n      <th>q1_aug_3</th>\n    </tr>\n  </thead>\n  <tbody>\n    <tr>\n      <th>0</th>\n      <td>0</td>\n      <td>采荷一小是分校吧</td>\n      <td>采荷普渡大学一小是分校吧</td>\n      <td>采荷一小即是是分校吧</td>\n      <td>采荷一小是吧</td>\n      <td>分校一小是采荷吧</td>\n    </tr>\n    <tr>\n      <th>1</th>\n      <td>1</td>\n      <td>毛坯吗？</td>\n      <td>毛坯吗？</td>\n      <td>马尔松吗？</td>\n      <td>毛坯吗？</td>\n      <td>Loiron吗？</td>\n    </tr>\n    <tr>\n      <th>2</th>\n      <td>2</td>\n      <td>你们的佣金费大约是多少和契税是多少。</td>\n      <td>你们的佣金费大约是多少和可否是多少。</td>\n      <td>你们的佣金费是多少和契税是多少。</td>\n      <td>你们的会员费费大约是多少和契税是多少。</td>\n      <td>你们的佣金费是多少和契税是多少。</td>\n    </tr>\n    <tr>\n      <th>3</th>\n      <td>3</td>\n      <td>靠近川沙路嘛？</td>\n      <td>嘛靠近川沙路嘛？</td>\n      <td>靠近川沙嘛路？</td>\n      <td>靠近川沙路邻近嘛？</td>\n      <td>靠近川沙？嘛路</td>\n    </tr>\n    <tr>\n      <th>4</th>\n      <td>4</td>\n      <td>这套房源价格还有优惠空间吗？</td>\n      <td>这套房源价格折扣还有优惠空间吗？</td>\n      <td>这套房源价格还有空间优惠吗？</td>\n      <td>这套房源价格？优惠空间吗还有</td>\n      <td>这套房源价格还有优惠空间吗？</td>\n    </tr>\n    <tr>\n      <th>...</th>\n      <td>...</td>\n      <td>...</td>\n      <td>...</td>\n      <td>...</td>\n      <td>...</td>\n      <td>...</td>\n    </tr>\n    <tr>\n      <th>5995</th>\n      <td>5995</td>\n      <td>好一起看一下</td>\n      <td>好看一起一下</td>\n      <td>好再说一起看一下</td>\n      <td>一起看一下</td>\n      <td>好一起看顺便</td>\n    </tr>\n    <tr>\n      <th>5996</th>\n      <td>5996</td>\n      <td>对口什么小学</td>\n      <td>阿勒泰地区什么小学</td>\n      <td>对口什么小学</td>\n      <td>对口小学什么</td>\n      <td>对口</td>\n    </tr>\n    <tr>\n      <th>5997</th>\n      <td>5997</td>\n      <td>可以贷公积金吗</td>\n      <td>公积金贷可以吗</td>\n      <td>可以贷表外公积金吗</td>\n      <td>可以贷公积金吗</td>\n      <td>能可以贷公积金吗</td>\n    </tr>\n    <tr>\n      <th>5998</th>\n      <td>5998</td>\n      <td>您好，我正在看尚林家园的房子</td>\n      <td>您好，我正看尚林家园的房子</td>\n      <td>您好，我正在看尚林家园的房子</td>\n      <td>您好，我指路正在看尚林家园的房子</td>\n      <td>您好，家园正在看尚林我的房子</td>\n    </tr>\n    <tr>\n      <th>5999</th>\n      <td>5999</td>\n      <td>今天可以安排看房子吗？</td>\n      <td>今天可以交回看房子吗？</td>\n      <td>今天吗安排看房子可以？</td>\n      <td>今天可以安排看房子？吗</td>\n      <td>现在可以安排看房子吗？</td>\n    </tr>\n  </tbody>\n</table>\n<p>6000 rows × 6 columns</p>\n</div>"
     },
     "metadata": {},
     "execution_count": 36
    }
   ],
   "source": [
    "train_query_aug = pd.read_csv(RAW_DATA_PATH/'./train/train.query.aug4.tsv',sep='\\t',header=None, names=['id','q1','q1_aug_0', 'q1_aug_1', 'q1_aug_2', 'q1_aug_3', '_']).drop(['_'], axis=1)\n",
    "train_query_aug"
   ]
  },
  {
   "cell_type": "code",
   "execution_count": 37,
   "metadata": {},
   "outputs": [],
   "source": [
    "from collections import defaultdict"
   ]
  },
  {
   "cell_type": "code",
   "execution_count": 38,
   "metadata": {
    "tags": []
   },
   "outputs": [
    {
     "output_type": "stream",
     "name": "stderr",
     "text": [
      "21585it [00:00, 224468.12it/s]\n"
     ]
    }
   ],
   "source": [
    "train_reply_aug_dict = defaultdict(list)\n",
    "for row in tqdm(train_reply_aug.itertuples(index=False)):\n",
    "    idx = row.id\n",
    "    idx_sub = row.id_sub\n",
    "    label = row.label\n",
    "    samples = [row.q2] + list(row[4:])\n",
    "    num_samples = len(samples)\n",
    "\n",
    "    train_reply_aug_dict['id'].extend([idx] * num_samples)\n",
    "    train_reply_aug_dict['id_sub'].extend([idx_sub] * num_samples)\n",
    "    train_reply_aug_dict['label'].extend([label] * num_samples)\n",
    "    train_reply_aug_dict['q2'].extend(samples)"
   ]
  },
  {
   "cell_type": "code",
   "execution_count": 39,
   "metadata": {},
   "outputs": [
    {
     "output_type": "stream",
     "name": "stderr",
     "text": [
      "6000it [00:00, 323730.32it/s]\n"
     ]
    }
   ],
   "source": [
    "train_query_aug_dict = defaultdict(list)\n",
    "for row in tqdm(train_query_aug.itertuples(index=False)):\n",
    "    idx = row.id\n",
    "    samples = list(row[1:])\n",
    "    num_samples = len(samples)\n",
    "\n",
    "    train_query_aug_dict['id'].extend([idx] * num_samples)\n",
    "    train_query_aug_dict['q1'].extend(samples)"
   ]
  },
  {
   "cell_type": "code",
   "execution_count": 40,
   "metadata": {},
   "outputs": [],
   "source": [
    "train_query_aug = pd.DataFrame(data=train_query_aug_dict)"
   ]
  },
  {
   "cell_type": "code",
   "execution_count": 41,
   "metadata": {},
   "outputs": [],
   "source": [
    "train_reply_aug = pd.DataFrame(data=train_reply_aug_dict)"
   ]
  },
  {
   "cell_type": "code",
   "execution_count": 42,
   "metadata": {},
   "outputs": [
    {
     "output_type": "execute_result",
     "data": {
      "text/plain": [
       "          id           q1  id_sub                             q2  label\n",
       "0          0     采荷一小是分校吧       0    杭州市采荷第一小学钱江苑校区，杭州市钱江新城实验学校。      1\n",
       "1          0     采荷一小是分校吧       0   杭州市采荷第一小学钱江景苑校区，杭州市钱江新城实验学校。      1\n",
       "2          0     采荷一小是分校吧       0    杭州市采荷第一小学钱江苑校区钱江杭州市，新城实验学校。      1\n",
       "3          0     采荷一小是分校吧       0        杭州市采荷第一小学钱江苑校区，钱江新城实验学校      1\n",
       "4          0     采荷一小是分校吧       0  杭州市采荷第一小学钱江苑校区，杭州市钱江新城滨江实验学校。      1\n",
       "...      ...          ...     ...                            ...    ...\n",
       "107920  5999  今天可以安排看房子吗？       2                好的，那咱们在一号门口这碰头？      0\n",
       "107921  5999  今天可以安排看房子吗？       2             好或者说的，那咱们在一号门口这碰头？      0\n",
       "107922  5999  今天可以安排看房子吗？       2                     ，咱们在一号门口这？      0\n",
       "107923  5999  今天可以安排看房子吗？       2                好在，那咱们的一号门口这碰头？      0\n",
       "107924  5999  今天可以安排看房子吗？       2                好的，那咱们在一号路边这碰头？      0\n",
       "\n",
       "[107925 rows x 5 columns]"
      ],
      "text/html": "<div>\n<style scoped>\n    .dataframe tbody tr th:only-of-type {\n        vertical-align: middle;\n    }\n\n    .dataframe tbody tr th {\n        vertical-align: top;\n    }\n\n    .dataframe thead th {\n        text-align: right;\n    }\n</style>\n<table border=\"1\" class=\"dataframe\">\n  <thead>\n    <tr style=\"text-align: right;\">\n      <th></th>\n      <th>id</th>\n      <th>q1</th>\n      <th>id_sub</th>\n      <th>q2</th>\n      <th>label</th>\n    </tr>\n  </thead>\n  <tbody>\n    <tr>\n      <th>0</th>\n      <td>0</td>\n      <td>采荷一小是分校吧</td>\n      <td>0</td>\n      <td>杭州市采荷第一小学钱江苑校区，杭州市钱江新城实验学校。</td>\n      <td>1</td>\n    </tr>\n    <tr>\n      <th>1</th>\n      <td>0</td>\n      <td>采荷一小是分校吧</td>\n      <td>0</td>\n      <td>杭州市采荷第一小学钱江景苑校区，杭州市钱江新城实验学校。</td>\n      <td>1</td>\n    </tr>\n    <tr>\n      <th>2</th>\n      <td>0</td>\n      <td>采荷一小是分校吧</td>\n      <td>0</td>\n      <td>杭州市采荷第一小学钱江苑校区钱江杭州市，新城实验学校。</td>\n      <td>1</td>\n    </tr>\n    <tr>\n      <th>3</th>\n      <td>0</td>\n      <td>采荷一小是分校吧</td>\n      <td>0</td>\n      <td>杭州市采荷第一小学钱江苑校区，钱江新城实验学校</td>\n      <td>1</td>\n    </tr>\n    <tr>\n      <th>4</th>\n      <td>0</td>\n      <td>采荷一小是分校吧</td>\n      <td>0</td>\n      <td>杭州市采荷第一小学钱江苑校区，杭州市钱江新城滨江实验学校。</td>\n      <td>1</td>\n    </tr>\n    <tr>\n      <th>...</th>\n      <td>...</td>\n      <td>...</td>\n      <td>...</td>\n      <td>...</td>\n      <td>...</td>\n    </tr>\n    <tr>\n      <th>107920</th>\n      <td>5999</td>\n      <td>今天可以安排看房子吗？</td>\n      <td>2</td>\n      <td>好的，那咱们在一号门口这碰头？</td>\n      <td>0</td>\n    </tr>\n    <tr>\n      <th>107921</th>\n      <td>5999</td>\n      <td>今天可以安排看房子吗？</td>\n      <td>2</td>\n      <td>好或者说的，那咱们在一号门口这碰头？</td>\n      <td>0</td>\n    </tr>\n    <tr>\n      <th>107922</th>\n      <td>5999</td>\n      <td>今天可以安排看房子吗？</td>\n      <td>2</td>\n      <td>，咱们在一号门口这？</td>\n      <td>0</td>\n    </tr>\n    <tr>\n      <th>107923</th>\n      <td>5999</td>\n      <td>今天可以安排看房子吗？</td>\n      <td>2</td>\n      <td>好在，那咱们的一号门口这碰头？</td>\n      <td>0</td>\n    </tr>\n    <tr>\n      <th>107924</th>\n      <td>5999</td>\n      <td>今天可以安排看房子吗？</td>\n      <td>2</td>\n      <td>好的，那咱们在一号路边这碰头？</td>\n      <td>0</td>\n    </tr>\n  </tbody>\n</table>\n<p>107925 rows × 5 columns</p>\n</div>"
     },
     "metadata": {},
     "execution_count": 42
    }
   ],
   "source": [
    "train_df_aug_answer_only = pd.merge(train_query, train_reply_aug, how='left')\n",
    "train_df_aug_answer_only = train_df_aug_answer_only[['id', 'q1', 'id_sub', 'q2', 'label']]\n",
    "train_df_aug_answer_only"
   ]
  },
  {
   "cell_type": "code",
   "execution_count": 43,
   "metadata": {},
   "outputs": [],
   "source": [
    "train_df_aug_answer_only.to_csv(RAW_DATA_PATH/'train/train_aug_answer_only.tsv', sep='\\t', index=False, header=None)"
   ]
  },
  {
   "cell_type": "code",
   "execution_count": 44,
   "metadata": {},
   "outputs": [
    {
     "output_type": "execute_result",
     "data": {
      "text/plain": [
       "          id            q1  id_sub                           q2  label\n",
       "0          0      采荷一小是分校吧       0  杭州市采荷第一小学钱江苑校区，杭州市钱江新城实验学校。      1\n",
       "1          0      采荷一小是分校吧       1                           是的      0\n",
       "2          0      采荷一小是分校吧       2                         这是5楼      0\n",
       "3          0  采荷普渡大学一小是分校吧       0  杭州市采荷第一小学钱江苑校区，杭州市钱江新城实验学校。      1\n",
       "4          0  采荷普渡大学一小是分校吧       1                           是的      0\n",
       "...      ...           ...     ...                          ...    ...\n",
       "107920  5999   今天可以安排看房子？吗       1               可以看，你几点有时间过来呢？      1\n",
       "107921  5999   今天可以安排看房子？吗       2              好的，那咱们在一号门口这碰头？      0\n",
       "107922  5999   现在可以安排看房子吗？       0                   我约下房东，稍后回你      1\n",
       "107923  5999   现在可以安排看房子吗？       1               可以看，你几点有时间过来呢？      1\n",
       "107924  5999   现在可以安排看房子吗？       2              好的，那咱们在一号门口这碰头？      0\n",
       "\n",
       "[107925 rows x 5 columns]"
      ],
      "text/html": "<div>\n<style scoped>\n    .dataframe tbody tr th:only-of-type {\n        vertical-align: middle;\n    }\n\n    .dataframe tbody tr th {\n        vertical-align: top;\n    }\n\n    .dataframe thead th {\n        text-align: right;\n    }\n</style>\n<table border=\"1\" class=\"dataframe\">\n  <thead>\n    <tr style=\"text-align: right;\">\n      <th></th>\n      <th>id</th>\n      <th>q1</th>\n      <th>id_sub</th>\n      <th>q2</th>\n      <th>label</th>\n    </tr>\n  </thead>\n  <tbody>\n    <tr>\n      <th>0</th>\n      <td>0</td>\n      <td>采荷一小是分校吧</td>\n      <td>0</td>\n      <td>杭州市采荷第一小学钱江苑校区，杭州市钱江新城实验学校。</td>\n      <td>1</td>\n    </tr>\n    <tr>\n      <th>1</th>\n      <td>0</td>\n      <td>采荷一小是分校吧</td>\n      <td>1</td>\n      <td>是的</td>\n      <td>0</td>\n    </tr>\n    <tr>\n      <th>2</th>\n      <td>0</td>\n      <td>采荷一小是分校吧</td>\n      <td>2</td>\n      <td>这是5楼</td>\n      <td>0</td>\n    </tr>\n    <tr>\n      <th>3</th>\n      <td>0</td>\n      <td>采荷普渡大学一小是分校吧</td>\n      <td>0</td>\n      <td>杭州市采荷第一小学钱江苑校区，杭州市钱江新城实验学校。</td>\n      <td>1</td>\n    </tr>\n    <tr>\n      <th>4</th>\n      <td>0</td>\n      <td>采荷普渡大学一小是分校吧</td>\n      <td>1</td>\n      <td>是的</td>\n      <td>0</td>\n    </tr>\n    <tr>\n      <th>...</th>\n      <td>...</td>\n      <td>...</td>\n      <td>...</td>\n      <td>...</td>\n      <td>...</td>\n    </tr>\n    <tr>\n      <th>107920</th>\n      <td>5999</td>\n      <td>今天可以安排看房子？吗</td>\n      <td>1</td>\n      <td>可以看，你几点有时间过来呢？</td>\n      <td>1</td>\n    </tr>\n    <tr>\n      <th>107921</th>\n      <td>5999</td>\n      <td>今天可以安排看房子？吗</td>\n      <td>2</td>\n      <td>好的，那咱们在一号门口这碰头？</td>\n      <td>0</td>\n    </tr>\n    <tr>\n      <th>107922</th>\n      <td>5999</td>\n      <td>现在可以安排看房子吗？</td>\n      <td>0</td>\n      <td>我约下房东，稍后回你</td>\n      <td>1</td>\n    </tr>\n    <tr>\n      <th>107923</th>\n      <td>5999</td>\n      <td>现在可以安排看房子吗？</td>\n      <td>1</td>\n      <td>可以看，你几点有时间过来呢？</td>\n      <td>1</td>\n    </tr>\n    <tr>\n      <th>107924</th>\n      <td>5999</td>\n      <td>现在可以安排看房子吗？</td>\n      <td>2</td>\n      <td>好的，那咱们在一号门口这碰头？</td>\n      <td>0</td>\n    </tr>\n  </tbody>\n</table>\n<p>107925 rows × 5 columns</p>\n</div>"
     },
     "metadata": {},
     "execution_count": 44
    }
   ],
   "source": [
    "train_df_aug_query_only = pd.merge(train_query_aug, train_reply, how='left')\n",
    "train_df_aug_query_only"
   ]
  },
  {
   "cell_type": "code",
   "execution_count": 45,
   "metadata": {},
   "outputs": [],
   "source": [
    "train_df_aug_query_only.to_csv(RAW_DATA_PATH/'train/train_aug_query_only.tsv', sep='\\t', index=False, header=None)"
   ]
  },
  {
   "cell_type": "code",
   "execution_count": 46,
   "metadata": {},
   "outputs": [],
   "source": [
    "train_df_aug_full = pd.merge(train_query_aug, train_reply_aug, how='left')\n",
    "train_df_aug_full = train_df_aug_full[['id', 'q1', 'id_sub', 'q2', 'label']]"
   ]
  },
  {
   "cell_type": "code",
   "execution_count": 50,
   "metadata": {},
   "outputs": [
    {
     "output_type": "execute_result",
     "data": {
      "text/plain": [
       "[]"
      ]
     },
     "metadata": {},
     "execution_count": 50
    }
   ],
   "source": [
    "pd.Series().to_list()"
   ]
  },
  {
   "cell_type": "code",
   "execution_count": 48,
   "metadata": {},
   "outputs": [
    {
     "output_type": "execute_result",
     "data": {
      "text/plain": [
       "          id           q1  id_sub                             q2  label\n",
       "0          0     采荷一小是分校吧       0    杭州市采荷第一小学钱江苑校区，杭州市钱江新城实验学校。      1\n",
       "1          0     采荷一小是分校吧       0   杭州市采荷第一小学钱江景苑校区，杭州市钱江新城实验学校。      1\n",
       "2          0     采荷一小是分校吧       0    杭州市采荷第一小学钱江苑校区钱江杭州市，新城实验学校。      1\n",
       "3          0     采荷一小是分校吧       0        杭州市采荷第一小学钱江苑校区，钱江新城实验学校      1\n",
       "4          0     采荷一小是分校吧       0  杭州市采荷第一小学钱江苑校区，杭州市钱江新城滨江实验学校。      1\n",
       "...      ...          ...     ...                            ...    ...\n",
       "539620  5999  现在可以安排看房子吗？       2                好的，那咱们在一号门口这碰头？      0\n",
       "539621  5999  现在可以安排看房子吗？       2             好或者说的，那咱们在一号门口这碰头？      0\n",
       "539622  5999  现在可以安排看房子吗？       2                     ，咱们在一号门口这？      0\n",
       "539623  5999  现在可以安排看房子吗？       2                好在，那咱们的一号门口这碰头？      0\n",
       "539624  5999  现在可以安排看房子吗？       2                好的，那咱们在一号路边这碰头？      0\n",
       "\n",
       "[539625 rows x 5 columns]"
      ],
      "text/html": "<div>\n<style scoped>\n    .dataframe tbody tr th:only-of-type {\n        vertical-align: middle;\n    }\n\n    .dataframe tbody tr th {\n        vertical-align: top;\n    }\n\n    .dataframe thead th {\n        text-align: right;\n    }\n</style>\n<table border=\"1\" class=\"dataframe\">\n  <thead>\n    <tr style=\"text-align: right;\">\n      <th></th>\n      <th>id</th>\n      <th>q1</th>\n      <th>id_sub</th>\n      <th>q2</th>\n      <th>label</th>\n    </tr>\n  </thead>\n  <tbody>\n    <tr>\n      <th>0</th>\n      <td>0</td>\n      <td>采荷一小是分校吧</td>\n      <td>0</td>\n      <td>杭州市采荷第一小学钱江苑校区，杭州市钱江新城实验学校。</td>\n      <td>1</td>\n    </tr>\n    <tr>\n      <th>1</th>\n      <td>0</td>\n      <td>采荷一小是分校吧</td>\n      <td>0</td>\n      <td>杭州市采荷第一小学钱江景苑校区，杭州市钱江新城实验学校。</td>\n      <td>1</td>\n    </tr>\n    <tr>\n      <th>2</th>\n      <td>0</td>\n      <td>采荷一小是分校吧</td>\n      <td>0</td>\n      <td>杭州市采荷第一小学钱江苑校区钱江杭州市，新城实验学校。</td>\n      <td>1</td>\n    </tr>\n    <tr>\n      <th>3</th>\n      <td>0</td>\n      <td>采荷一小是分校吧</td>\n      <td>0</td>\n      <td>杭州市采荷第一小学钱江苑校区，钱江新城实验学校</td>\n      <td>1</td>\n    </tr>\n    <tr>\n      <th>4</th>\n      <td>0</td>\n      <td>采荷一小是分校吧</td>\n      <td>0</td>\n      <td>杭州市采荷第一小学钱江苑校区，杭州市钱江新城滨江实验学校。</td>\n      <td>1</td>\n    </tr>\n    <tr>\n      <th>...</th>\n      <td>...</td>\n      <td>...</td>\n      <td>...</td>\n      <td>...</td>\n      <td>...</td>\n    </tr>\n    <tr>\n      <th>539620</th>\n      <td>5999</td>\n      <td>现在可以安排看房子吗？</td>\n      <td>2</td>\n      <td>好的，那咱们在一号门口这碰头？</td>\n      <td>0</td>\n    </tr>\n    <tr>\n      <th>539621</th>\n      <td>5999</td>\n      <td>现在可以安排看房子吗？</td>\n      <td>2</td>\n      <td>好或者说的，那咱们在一号门口这碰头？</td>\n      <td>0</td>\n    </tr>\n    <tr>\n      <th>539622</th>\n      <td>5999</td>\n      <td>现在可以安排看房子吗？</td>\n      <td>2</td>\n      <td>，咱们在一号门口这？</td>\n      <td>0</td>\n    </tr>\n    <tr>\n      <th>539623</th>\n      <td>5999</td>\n      <td>现在可以安排看房子吗？</td>\n      <td>2</td>\n      <td>好在，那咱们的一号门口这碰头？</td>\n      <td>0</td>\n    </tr>\n    <tr>\n      <th>539624</th>\n      <td>5999</td>\n      <td>现在可以安排看房子吗？</td>\n      <td>2</td>\n      <td>好的，那咱们在一号路边这碰头？</td>\n      <td>0</td>\n    </tr>\n  </tbody>\n</table>\n<p>539625 rows × 5 columns</p>\n</div>"
     },
     "metadata": {},
     "execution_count": 48
    }
   ],
   "source": [
    "train_df_aug_full"
   ]
  },
  {
   "cell_type": "code",
   "execution_count": 47,
   "metadata": {},
   "outputs": [],
   "source": [
    "train_df_aug_full.to_csv(RAW_DATA_PATH/'train/train_aug_full.tsv', sep='\\t', index=False, header=None)"
   ]
  },
  {
   "cell_type": "code",
   "execution_count": 100,
   "metadata": {},
   "outputs": [],
   "source": [
    "# from nltk.util import ngrams\n",
    "# ns = list(range(1, 4))\n",
    "# def get_ngram_vector(grams, vocab):\n",
    "#     v = np.zeros(shape=[len(vocab)])\n",
    "#     for g in grams: \n",
    "#         if g in vocab:\n",
    "#             v[vocab[g]] += 1\n",
    "#     return v"
   ]
  },
  {
   "cell_type": "code",
   "execution_count": 101,
   "metadata": {},
   "outputs": [],
   "source": [
    "# vocab = {'n': 0, 'haha': 1}\n",
    "# grams = ['n', 'haha', 'n', '', 'haha', 2342]\n",
    "# get_ngram_vector(grams, vocab)"
   ]
  },
  {
   "cell_type": "code",
   "execution_count": 102,
   "metadata": {},
   "outputs": [],
   "source": [
    "# def get_ngram(sequence, n):\n",
    "#     return [''.join(x) for x in ngrams(sequence=sequence, n=n)]"
   ]
  },
  {
   "cell_type": "code",
   "execution_count": 103,
   "metadata": {},
   "outputs": [],
   "source": [
    "# get_ngram('nihao', 3)"
   ]
  },
  {
   "cell_type": "code",
   "execution_count": 104,
   "metadata": {},
   "outputs": [],
   "source": [
    "# # from sklearn.metrics.pairwise import cosine_similarity\n",
    "# from numpy import dot\n",
    "# from numpy.linalg import norm\n",
    "# def cos_sim(a, b):\n",
    "    # return dot(a, b)/(norm(a)*norm(b))"
   ]
  },
  {
   "cell_type": "code",
   "execution_count": 99,
   "metadata": {
    "tags": []
   },
   "outputs": [],
   "source": [
    "# for i, sample in tqdm(enumerate(train_query_aug.itertuples(index=False))):\n",
    "#     org_q = sample[1]\n",
    "#     org_grams = []\n",
    "#     for n in ns:\n",
    "#         org_grams.extend(get_ngram(org_q, n))\n",
    "#     vocab = dict(zip(set(org_grams), range(len(org_grams))))\n",
    "#     # print(vocab)\n",
    "#     org_v = get_ngram_vector(org_grams, vocab)\n",
    "\n",
    "#     aug_qs = sample[2:]\n",
    "#     aug_vs = np.zeros(shape=[4, len(vocab)])\n",
    "#     for i, aug_q in enumerate(aug_qs):\n",
    "#         aug_grams = []\n",
    "#         for n in ns:\n",
    "#             aug_grams.extend(get_ngram(aug_q, n))\n",
    "#         aug_v = get_ngram_vector(aug_grams, vocab)\n",
    "#         aug_vs[i] = aug_v\n",
    "\n",
    "#     sims = [cos_sim(org_v, v) for v in aug_vs]\n",
    "#     print(sims)\n",
    "#     print(org_q)\n",
    "#     print(aug_qs)"
   ]
  },
  {
   "cell_type": "code",
   "execution_count": 41,
   "metadata": {},
   "outputs": [],
   "source": [
    "import transformers"
   ]
  },
  {
   "cell_type": "code",
   "execution_count": 43,
   "metadata": {},
   "outputs": [
    {
     "output_type": "stream",
     "name": "stderr",
     "text": [
      "Calling BertTokenizer.from_pretrained() with the path to a single file or url is deprecated\n"
     ]
    }
   ],
   "source": [
    "tokenizer = transformers.BertTokenizer.from_pretrained('../pretrain_model/bert-base-chinese/vocab.txt')"
   ]
  },
  {
   "cell_type": "code",
   "execution_count": 50,
   "metadata": {},
   "outputs": [
    {
     "output_type": "execute_result",
     "data": {
      "text/plain": [
       "{'input_ids': [101, 872, 1962, 1557, 2207, 5439, 2475, 102], 'token_type_ids': [0, 0, 0, 0, 0, 0, 0, 0], 'attention_mask': [1, 1, 1, 1, 1, 1, 1, 1]}"
      ]
     },
     "metadata": {},
     "execution_count": 50
    }
   ],
   "source": [
    "tokenizer.encode_plus('你好啊小老弟')"
   ]
  },
  {
   "cell_type": "code",
   "execution_count": 51,
   "metadata": {},
   "outputs": [
    {
     "output_type": "execute_result",
     "data": {
      "text/plain": [
       "{'input_ids': [101, 872, 1962, 1557, 2207, 5439, 2475, 102], 'token_type_ids': [0, 0, 0, 0, 0, 0, 0, 0], 'attention_mask': [1, 1, 1, 1, 1, 1, 1, 1]}"
      ]
     },
     "metadata": {},
     "execution_count": 51
    }
   ],
   "source": [
    "tokenizer.encode_plus(list('你好啊小老弟'))"
   ]
  },
  {
   "cell_type": "code",
   "execution_count": 53,
   "metadata": {},
   "outputs": [
    {
     "output_type": "execute_result",
     "data": {
      "text/plain": [
       "{'input_ids': [101, 872, 1962, 1557, 2207, 5439, 2475, 102], 'token_type_ids': [0, 0, 0, 0, 0, 0, 0, 0], 'attention_mask': [1, 1, 1, 1, 1, 1, 1, 1]}"
      ]
     },
     "metadata": {},
     "execution_count": 53
    }
   ],
   "source": [
    "tokenizer('你好啊小老弟')"
   ]
  },
  {
   "cell_type": "code",
   "execution_count": null,
   "metadata": {},
   "outputs": [],
   "source": []
  }
 ]
}